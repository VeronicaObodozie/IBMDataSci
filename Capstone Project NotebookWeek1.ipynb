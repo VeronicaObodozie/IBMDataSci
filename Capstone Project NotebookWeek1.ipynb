{
    "cells": [
        {
            "metadata": {
                "collapsed": true
            },
            "cell_type": "markdown",
            "source": "# Capstone Project - The Battle of the Neighborhoods (Week 1)\n### Applied Data Science Capstone by IBM/Coursera\nbased on the notebook Template"
        },
        {
            "metadata": {},
            "cell_type": "markdown",
            "source": "## Table of contents\n* [Introduction: Business Problem](#introduction)\n* [Data](#data)\n* [Methodology](#methodology)\n* [Analysis](#analysis)\n* [Results and Discussion](#results)\n* [Conclusion](#conclusion)"
        },
        {
            "metadata": {},
            "cell_type": "markdown",
            "source": "## Introduction: Business Problem <a name=\"introduction\"></a>"
        },
        {
            "metadata": {},
            "cell_type": "markdown",
            "source": "### Background\n\nWith the boom in the entertainment industry and increase in collaboration between African countries, more East Africans have found themselves immigrating (temporarily or otherwise) to West Africa. Particularly looking at major cities like **Accra**, Ghana and **Lagos**, Nigeria. Focussing on academic and artistic young (*ages 18-35*) immigrants from **Nairobi**, Kenya; looking for an accessible restaurant with a feeling of home.\n\n### Problem\n\nThis project aims to find **relatively similar neighborhoods**, that are **close to the city center**. Areas with a multi-cultural restaurant option might be highlighted. Note that although Lagos might be a major entertainment destination, things like the cost of living might also affect decision. Nairobi is an arbitrary East African country chosen for this project.\n\n### Interest\n\nBased on our target demographic and criteria specified, some neighborhoods will be selected. Their features will also be outlined for the stakeholders to choose the best location for their restaurant. This not only brings a homely feel to an otherwise foreign area, it also adds variety to the menu/restaurant options of the locals.\n"
        },
        {
            "metadata": {},
            "cell_type": "markdown",
            "source": "## Data <a name=\"data\"></a>"
        },
        {
            "metadata": {},
            "cell_type": "markdown",
            "source": "The criteria set in the problem definition section identifies the following as decision influencers:\n1. Similarity of neighborhoods\n2. distance from city center\n3. Cost of living\n\n### Data Source\nA base cost of living in these three cites can be comapred, and data scraped from **Numbeo** to get:\n- [Nairobi vs Ghana](https://www.numbeo.com/cost-of-living/compare_cities.jsp?country1=Kenya&country2=Nigeria&city1=Nairobi&city2=Lagos&tracking=getDispatchComparison)\n- [Nairobi vs Lagos](https://www.numbeo.com/cost-of-living/compare_cities.jsp?country1=Kenya&country2=Ghana&city1=Nairobi&city2=Accra)\n\nAll cost will be extracted in Kenyan shilling. Due to the small amount of data available on **Foursquare API** for these locations, the number of location types for a small set will be used to determine similarity. City center coordinates will be obtained."
        },
        {
            "metadata": {},
            "cell_type": "markdown",
            "source": ""
        },
        {
            "metadata": {},
            "cell_type": "code",
            "source": "",
            "execution_count": null,
            "outputs": []
        },
        {
            "metadata": {},
            "cell_type": "code",
            "source": "",
            "execution_count": null,
            "outputs": []
        },
        {
            "metadata": {},
            "cell_type": "markdown",
            "source": ""
        },
        {
            "metadata": {},
            "cell_type": "code",
            "source": "",
            "execution_count": null,
            "outputs": []
        },
        {
            "metadata": {},
            "cell_type": "markdown",
            "source": ""
        },
        {
            "metadata": {},
            "cell_type": "code",
            "source": "",
            "execution_count": null,
            "outputs": []
        },
        {
            "metadata": {},
            "cell_type": "markdown",
            "source": ""
        },
        {
            "metadata": {},
            "cell_type": "code",
            "source": "",
            "execution_count": null,
            "outputs": []
        },
        {
            "metadata": {},
            "cell_type": "code",
            "source": "",
            "execution_count": null,
            "outputs": []
        },
        {
            "metadata": {},
            "cell_type": "markdown",
            "source": ""
        },
        {
            "metadata": {},
            "cell_type": "code",
            "source": "",
            "execution_count": null,
            "outputs": []
        },
        {
            "metadata": {},
            "cell_type": "code",
            "source": "",
            "execution_count": null,
            "outputs": []
        },
        {
            "metadata": {},
            "cell_type": "markdown",
            "source": ""
        },
        {
            "metadata": {},
            "cell_type": "markdown",
            "source": "## Methodology <a name=\"methodology\"></a>"
        },
        {
            "metadata": {},
            "cell_type": "markdown",
            "source": ""
        },
        {
            "metadata": {},
            "cell_type": "markdown",
            "source": "## Analysis <a name=\"analysis\"></a>"
        },
        {
            "metadata": {},
            "cell_type": "code",
            "source": "### Kreuzberg and Friedrichshain",
            "execution_count": null,
            "outputs": []
        },
        {
            "metadata": {},
            "cell_type": "markdown",
            "source": "## Results and Discussion <a name=\"results\"></a>"
        },
        {
            "metadata": {},
            "cell_type": "markdown",
            "source": ""
        },
        {
            "metadata": {},
            "cell_type": "markdown",
            "source": "## Conclusion <a name=\"conclusion\"></a>"
        },
        {
            "metadata": {},
            "cell_type": "markdown",
            "source": ""
        }
    ],
    "metadata": {
        "kernelspec": {
            "name": "python3",
            "display_name": "Python 3.7",
            "language": "python"
        },
        "language_info": {
            "name": "python",
            "version": "3.7.10",
            "mimetype": "text/x-python",
            "codemirror_mode": {
                "name": "ipython",
                "version": 3
            },
            "pygments_lexer": "ipython3",
            "nbconvert_exporter": "python",
            "file_extension": ".py"
        }
    },
    "nbformat": 4,
    "nbformat_minor": 1
}
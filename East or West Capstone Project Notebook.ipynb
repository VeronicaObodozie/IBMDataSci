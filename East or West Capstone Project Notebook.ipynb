{
 "cells": [
  {
   "cell_type": "markdown",
   "metadata": {},
   "source": [
    "# Capstone Project - The Battle of the Neighborhoods (Week 2)\n",
    "### Applied Data Science Capstone by IBM/Coursera\n",
    "based on the notebook Template"
   ]
  },
  {
   "cell_type": "markdown",
   "metadata": {},
   "source": [
    "## Table of contents\n",
    "* [Introduction: Business Problem](#introduction)\n",
    "* [Data](#data)\n",
    "* [Methodology](#methodology)\n",
    "* [Analysis](#analysis)\n",
    "* [Results and Discussion](#results)\n",
    "* [Conclusion](#conclusion)\n",
    "* [References](#references)"
   ]
  },
  {
   "cell_type": "markdown",
   "metadata": {},
   "source": [
    "## Introduction: Business Problem <a name=\"introduction\"></a>"
   ]
  },
  {
   "cell_type": "markdown",
   "metadata": {},
   "source": [
    "### Background\n",
    "\n",
    "With the boom in the entertainment industry and increase in collaboration between African countries, more East Africans have found themselves immigrating (temporarily or otherwise) to West Africa. Particularly looking at major cities like **Accra**, Ghana and **Lagos**, Nigeria. Focussing on academic and artistic young (*ages 18-35*) immigrants from **Nairobi**, Kenya; looking for similarities in recreation or to start an accessible restaurant with a feeling of home.\n",
    "\n",
    "### Problem\n",
    "\n",
    "This project aims to find **relatively similar neighborhoods**, that are **close to the city center**. Areas with a multi-cultural restaurant option might be highlighted. Note that although Lagos might be a major entertainment destination, things like the cost of living might also affect decision. Nairobi is an arbitrary East African country chosen for this project.\n",
    "\n",
    "### Interest\n",
    "\n",
    "Based on our target demographic and criteria specified, some neighborhoods will be selected. Their features will also be outlined for the stakeholders to choose the best location for their restaurant. This not only brings a homely feel to an otherwise foreign area, it also adds variety to the menu/restaurant options of the locals.\n"
   ]
  },
  {
   "cell_type": "markdown",
   "metadata": {},
   "source": [
    "## Data <a name=\"data\"></a>"
   ]
  },
  {
   "cell_type": "markdown",
   "metadata": {},
   "source": [
    "The criteria set in the problem definition section identifies the following as decision influencers:\n",
    "1. Similarity of neighborhoods\n",
    "2. distance from city center\n",
    "3. Cost of living\n",
    "\n",
    "### Data Source\n",
    "A base cost of living in these three cites can be comapred, and data scraped from **Numbeo** to get:\n",
    "- [Nairobi vs Ghana](https://www.numbeo.com/cost-of-living/compare_cities.jsp?country1=Kenya&country2=Nigeria&city1=Nairobi&city2=Lagos&tracking=getDispatchComparison)\n",
    "- [Nairobi vs Lagos](https://www.numbeo.com/cost-of-living/compare_cities.jsp?country1=Kenya&country2=Ghana&city1=Nairobi&city2=Accra)\n",
    "\n",
    "All cost will be extracted in Kenyan shilling. Due to the small amount of data available on **Foursquare API** for these locations, the number of location types for a small set will be used to determine similarity. City center coordinates will be obtained."
   ]
  },
  {
   "cell_type": "markdown",
   "metadata": {},
   "source": [
    "### Data Collection and Data Cleaning\n",
    "From the age group the assumption of a single person, renting an apartment away from the centre. To reduce the exttracted data, our initial search deals with a demographic with no dependents (*Based on population data, and general society structure this might not be the case*). These are just a few indicators, foodstuff prices were not extracted as they vary with location within cites.\n",
    "\n",
    "\n",
    "With this in mind, indice difference along with the following shall be extracted:\n",
    "* Basic (Electricity, Heating, Cooling, Water, Garbage) for 85m2 Apartment\n",
    "* Apartment (1 bedroom) Outside of Centre\n",
    "* Fitness Club, Monthly Fee for 1 Adult\n",
    "* Internet (60 Mbps or More, Unlimited Data, Cable/ADSL)\n",
    "* Monthly Pass (Regular Price)(**There has been an increase in fuel price in Nigeria, so this might not be a true representation**)\n",
    "* Meal for 2 People, Mid-range Restaurant, Three-course\n",
    "* Meal, Inexpensive Restaurant"
   ]
  },
  {
   "cell_type": "markdown",
   "metadata": {},
   "source": [
    "Having outlined all necessary parameters that will be observed, data cleaning process was performed."
   ]
  },
  {
   "cell_type": "markdown",
   "metadata": {},
   "source": [
    "#### Nairobi vs Accra Cost of Living\n",
    "In this section, the webscraping method to extract information will be set-up. Libraries imported, and function defined to create a general structure of how the *numbeo* cost of living data is extraced. The data frame will then be created for the Nairobi Accra comparison."
   ]
  },
  {
   "cell_type": "code",
   "execution_count": 7,
   "metadata": {},
   "outputs": [
    {
     "name": "stdout",
     "output_type": "stream",
     "text": [
      "Collecting bs4\n",
      "  Downloading https://files.pythonhosted.org/packages/10/ed/7e8b97591f6f456174139ec089c769f89a94a1a4025fe967691de971f314/bs4-0.0.1.tar.gz\n",
      "Collecting beautifulsoup4 (from bs4)\n",
      "\u001b[?25l  Downloading https://files.pythonhosted.org/packages/d1/41/e6495bd7d3781cee623ce23ea6ac73282a373088fcd0ddc809a047b18eae/beautifulsoup4-4.9.3-py3-none-any.whl (115kB)\n",
      "\u001b[K     |████████████████████████████████| 122kB 5.9MB/s eta 0:00:01\n",
      "\u001b[?25hCollecting soupsieve>1.2; python_version >= \"3.0\" (from beautifulsoup4->bs4)\n",
      "  Downloading https://files.pythonhosted.org/packages/36/69/d82d04022f02733bf9a72bc3b96332d360c0c5307096d76f6bb7489f7e57/soupsieve-2.2.1-py3-none-any.whl\n",
      "Building wheels for collected packages: bs4\n",
      "  Building wheel for bs4 (setup.py) ... \u001b[?25ldone\n",
      "\u001b[?25h  Stored in directory: /home/jupyterlab/.cache/pip/wheels/a0/b0/b2/4f80b9456b87abedbc0bf2d52235414c3467d8889be38dd472\n",
      "Successfully built bs4\n",
      "Installing collected packages: soupsieve, beautifulsoup4, bs4\n",
      "Successfully installed beautifulsoup4-4.9.3 bs4-0.0.1 soupsieve-2.2.1\n"
     ]
    }
   ],
   "source": [
    "## Import Libraries\n",
    "!pip install bs4\n",
    "import pandas as pd\n",
    "import requests\n",
    "from bs4 import BeautifulSoup # for webscraping"
   ]
  },
  {
   "cell_type": "markdown",
   "metadata": {},
   "source": [
    "###### Webscraping the Numbeo Nairobi vs Accra page"
   ]
  },
  {
   "cell_type": "code",
   "execution_count": 36,
   "metadata": {
    "scrolled": true
   },
   "outputs": [],
   "source": [
    "# Use webscraping for data\n",
    "url_GHK = 'https://www.numbeo.com/cost-of-living/compare_cities.jsp?country1=Kenya&country2=Ghana&city1=Nairobi&city2=Accra'\n",
    "html_data = requests.get(url_GHK).text\n",
    "# bea\n",
    "beautiful_soup = BeautifulSoup(html_data, \"html5lib\")\n",
    "#beautiful_soup"
   ]
  },
  {
   "cell_type": "markdown",
   "metadata": {},
   "source": [
    "As these will occur twice, functions were defined for processing ease."
   ]
  },
  {
   "cell_type": "code",
   "execution_count": 37,
   "metadata": {},
   "outputs": [],
   "source": [
    "### Indice Extraction\n",
    "def getIndice(indice, soupTables, indlist, compCountry):\n",
    "    NairobiDiff= \"Nairobi\"+ compCountry + \"(%)\"   \n",
    "    compCountry = compCountry + \"(KSh)\"\n",
    "    livingCost = pd.DataFrame(columns=[\"Indicator\", \"Nairobi (KSh)\", compCountry, NairobiDiff])\n",
    "\n",
    "    for row in soupTables[indice].find(\"tbody\").find_all(\"tr\"):\n",
    "        col = row.find_all(\"td\")\n",
    "        # Loop through indicator cost list\n",
    "        for indicator in indlist:\n",
    "            if (indicator in str(col)):\n",
    "                ind = col[0].text\n",
    "                nai = col[1].text.strip('\\n').split(\"(\")[0].strip(\"KSh\").replace(',', \"\")\n",
    "                comp = col[2].text.strip('\\n').split(\"(\")[0].strip(\"KSh\").replace(',', \"\")\n",
    "                compDiff = col[3].text.strip('\\n').strip(\"%\").replace('\\n', \"\")\n",
    "                livingCost = livingCost.append({\"Indicator\":ind, \"Nairobi (KSh)\":float(nai), compCountry : float(comp), NairobiDiff : float(compDiff)}, ignore_index=True)\n",
    "    \n",
    "    ### Find the total cost of Living\n",
    "    ind = \"TOTAL\"\n",
    "    nai = livingCost[\"Nairobi (KSh)\"].sum()\n",
    "    comp = livingCost[compCountry].sum()\n",
    "    compDiff = 100 * (comp-nai)/nai # Finding the percent difference\n",
    "    livingCost = livingCost.append({\"Indicator\":ind, \"Nairobi (KSh)\":float(nai), compCountry : float(comp), NairobiDiff : float(compDiff)}, ignore_index=True)\n",
    "    \n",
    "    return livingCost\n",
    "\n"
   ]
  },
  {
   "cell_type": "markdown",
   "metadata": {},
   "source": [
    "Extract Data and save in dataframe"
   ]
  },
  {
   "cell_type": "code",
   "execution_count": 38,
   "metadata": {},
   "outputs": [],
   "source": [
    "#Using beautiful soup to extract data into table\n",
    "# New dataframe\n",
    "costIndicators= ['Basic (Electricity, Heating, Cooling, Water, Garbage) for 915 sq ft Apartment', 'Apartment (1 bedroom) Outside of Centre', 'Fitness Club, Monthly Fee for 1 Adult', 'Internet (60 Mbps or More, Unlimited Data, Cable/ADSL)', 'Monthly Pass (Regular Price)', 'Meal for 2 People, Mid-range Restaurant, Three-course', 'Meal, Inexpensive Restaurant']\n",
    "tables = beautiful_soup.find_all('table')\n",
    "\n",
    "for index,table in enumerate(tables):\n",
    "    if (\"Indices Difference\" in str(table)):\n",
    "        indice = index\n",
    "    elif (\"highlighted_th prices\" in str(table)):\n",
    "        LC = index"
   ]
  },
  {
   "cell_type": "code",
   "execution_count": 39,
   "metadata": {},
   "outputs": [
    {
     "name": "stdout",
     "output_type": "stream",
     "text": [
      "The Overall indicator differences for both are as follows:\n",
      "Consumer Prices in Accra are 13.91% higher than in Nairobi (without rent)\n",
      "Consumer Prices Including Rent in Accra are 24.17% higher than in Nairobi\n",
      "Rent Prices in Accra are 56.68% higher than in Nairobi\n",
      "Restaurant Prices in Accra are 5.74% higher than in Nairobi\n",
      "Groceries Prices in Accra are 28.42% higher than in Nairobi\n",
      "Local Purchasing Power in Accra is 22.16% lower than in Nairobi\n"
     ]
    }
   ],
   "source": [
    "# # PRINT OUT INDICE ANALYSIS\n",
    "print(\"The Overall indicator differences for both are as follows:\")\n",
    "for row in tables[indice].find(\"tbody\").find_all(\"tr\"):\n",
    "    col = row.find_all(\"td\")\n",
    "    if (col != []):\n",
    "        print(col[0].text)"
   ]
  },
  {
   "cell_type": "code",
   "execution_count": 40,
   "metadata": {},
   "outputs": [
    {
     "data": {
      "text/html": [
       "<div>\n",
       "<style scoped>\n",
       "    .dataframe tbody tr th:only-of-type {\n",
       "        vertical-align: middle;\n",
       "    }\n",
       "\n",
       "    .dataframe tbody tr th {\n",
       "        vertical-align: top;\n",
       "    }\n",
       "\n",
       "    .dataframe thead th {\n",
       "        text-align: right;\n",
       "    }\n",
       "</style>\n",
       "<table border=\"1\" class=\"dataframe\">\n",
       "  <thead>\n",
       "    <tr style=\"text-align: right;\">\n",
       "      <th></th>\n",
       "      <th>Indicator</th>\n",
       "      <th>Nairobi (KSh)</th>\n",
       "      <th>Accra(KSh)</th>\n",
       "      <th>NairobiAccra(%)</th>\n",
       "    </tr>\n",
       "  </thead>\n",
       "  <tbody>\n",
       "    <tr>\n",
       "      <th>0</th>\n",
       "      <td>Meal, Inexpensive Restaurant</td>\n",
       "      <td>500.00</td>\n",
       "      <td>554.51</td>\n",
       "      <td>10.90</td>\n",
       "    </tr>\n",
       "    <tr>\n",
       "      <th>1</th>\n",
       "      <td>Meal for 2 People, Mid-range Restaurant, Three...</td>\n",
       "      <td>3500.00</td>\n",
       "      <td>3824.19</td>\n",
       "      <td>9.26</td>\n",
       "    </tr>\n",
       "    <tr>\n",
       "      <th>2</th>\n",
       "      <td>Monthly Pass (Regular Price)</td>\n",
       "      <td>3489.13</td>\n",
       "      <td>3346.17</td>\n",
       "      <td>-4.10</td>\n",
       "    </tr>\n",
       "    <tr>\n",
       "      <th>3</th>\n",
       "      <td>Basic (Electricity, Heating, Cooling, Water, G...</td>\n",
       "      <td>4348.98</td>\n",
       "      <td>8237.95</td>\n",
       "      <td>89.42</td>\n",
       "    </tr>\n",
       "    <tr>\n",
       "      <th>4</th>\n",
       "      <td>Internet (60 Mbps or More, Unlimited Data, Cab...</td>\n",
       "      <td>6266.63</td>\n",
       "      <td>6028.99</td>\n",
       "      <td>-3.79</td>\n",
       "    </tr>\n",
       "  </tbody>\n",
       "</table>\n",
       "</div>"
      ],
      "text/plain": [
       "                                           Indicator  Nairobi (KSh)  \\\n",
       "0                       Meal, Inexpensive Restaurant         500.00   \n",
       "1  Meal for 2 People, Mid-range Restaurant, Three...        3500.00   \n",
       "2                       Monthly Pass (Regular Price)        3489.13   \n",
       "3  Basic (Electricity, Heating, Cooling, Water, G...        4348.98   \n",
       "4  Internet (60 Mbps or More, Unlimited Data, Cab...        6266.63   \n",
       "\n",
       "   Accra(KSh)  NairobiAccra(%)  \n",
       "0      554.51            10.90  \n",
       "1     3824.19             9.26  \n",
       "2     3346.17            -4.10  \n",
       "3     8237.95            89.42  \n",
       "4     6028.99            -3.79  "
      ]
     },
     "execution_count": 40,
     "metadata": {},
     "output_type": "execute_result"
    }
   ],
   "source": [
    "### DATA FRAME WITH SPECIFIC LIVING COSTS.\n",
    "country = \"Accra\"\n",
    "LivingCostGH= getIndice(LC, tables, costIndicators, country)\n",
    "LivingCostGH.head()"
   ]
  },
  {
   "cell_type": "markdown",
   "metadata": {},
   "source": [
    "#### Nairobi vs Lagos Cost of Living\n",
    "Following the resulting dataframe with the Ghana comparison, a similar process will be followed to create a Nairobi/Lagos comparison dataframe. The extracted data will then be showcased as a combined table."
   ]
  },
  {
   "cell_type": "markdown",
   "metadata": {},
   "source": [
    "Webscrapping"
   ]
  },
  {
   "cell_type": "code",
   "execution_count": 41,
   "metadata": {},
   "outputs": [],
   "source": [
    "# Use webscraping for data\n",
    "url_NGK = 'https://www.numbeo.com/cost-of-living/compare_cities.jsp?country1=Kenya&country2=Nigeria&city1=Nairobi&city2=Lagos&tracking=getDispatchComparison'\n",
    "html_data = requests.get(url_NGK).text\n",
    "# bea\n",
    "beautiful_soup = BeautifulSoup(html_data, \"html5lib\")\n",
    "#beautiful_soup"
   ]
  },
  {
   "cell_type": "markdown",
   "metadata": {},
   "source": [
    "Extract Data and save in DataFrame"
   ]
  },
  {
   "cell_type": "code",
   "execution_count": 42,
   "metadata": {},
   "outputs": [],
   "source": [
    "#Using beautiful soup to extract data into table\n",
    "# New dataframe\n",
    "costIndicators= ['Basic (Electricity, Heating, Cooling, Water, Garbage)', 'Apartment (1 bedroom) Outside of Centre', 'Fitness Club, Monthly Fee for 1 Adult', 'Internet (60 Mbps or More, Unlimited Data, Cable/ADSL)', 'Monthly Pass (Regular Price)', 'Meal for 2 People, Mid-range Restaurant, Three-course', 'Meal, Inexpensive Restaurant']\n",
    "tables = beautiful_soup.find_all('table')\n",
    "\n",
    "for index,table in enumerate(tables):\n",
    "    if (\"Indices Difference\" in str(table)):\n",
    "        indice = index\n",
    "    elif (\"highlighted_th prices\" in str(table)):\n",
    "        LC = index"
   ]
  },
  {
   "cell_type": "code",
   "execution_count": 43,
   "metadata": {},
   "outputs": [
    {
     "name": "stdout",
     "output_type": "stream",
     "text": [
      "The Overall indicator differences for both are as follows:\n",
      "Consumer Prices in Lagos are 6.01% lower than in Nairobi (without rent)\n",
      "Consumer Prices Including Rent in Lagos are 53.28% higher than in Nairobi\n",
      "Rent Prices in Lagos are 241.09% higher than in Nairobi\n",
      "Restaurant Prices in Lagos are 14.14% lower than in Nairobi\n",
      "Groceries Prices in Lagos are 7.20% higher than in Nairobi\n",
      "Local Purchasing Power in Lagos is 59.00% lower than in Nairobi\n"
     ]
    }
   ],
   "source": [
    "# # PRINT OUT INDICE ANALYSIS\n",
    "print(\"The Overall indicator differences for both are as follows:\")\n",
    "for row in tables[indice].find(\"tbody\").find_all(\"tr\"):\n",
    "    col = row.find_all(\"td\")\n",
    "    if (col != []):\n",
    "        print(col[0].text)"
   ]
  },
  {
   "cell_type": "code",
   "execution_count": 44,
   "metadata": {},
   "outputs": [
    {
     "data": {
      "text/html": [
       "<div>\n",
       "<style scoped>\n",
       "    .dataframe tbody tr th:only-of-type {\n",
       "        vertical-align: middle;\n",
       "    }\n",
       "\n",
       "    .dataframe tbody tr th {\n",
       "        vertical-align: top;\n",
       "    }\n",
       "\n",
       "    .dataframe thead th {\n",
       "        text-align: right;\n",
       "    }\n",
       "</style>\n",
       "<table border=\"1\" class=\"dataframe\">\n",
       "  <thead>\n",
       "    <tr style=\"text-align: right;\">\n",
       "      <th></th>\n",
       "      <th>Indicator</th>\n",
       "      <th>Nairobi (KSh)</th>\n",
       "      <th>Lagos(KSh)</th>\n",
       "      <th>NairobiLagos(%)</th>\n",
       "    </tr>\n",
       "  </thead>\n",
       "  <tbody>\n",
       "    <tr>\n",
       "      <th>0</th>\n",
       "      <td>Meal, Inexpensive Restaurant</td>\n",
       "      <td>500.00</td>\n",
       "      <td>267.05</td>\n",
       "      <td>-46.59</td>\n",
       "    </tr>\n",
       "    <tr>\n",
       "      <th>1</th>\n",
       "      <td>Meal for 2 People, Mid-range Restaurant, Three...</td>\n",
       "      <td>3500.00</td>\n",
       "      <td>4330.49</td>\n",
       "      <td>23.73</td>\n",
       "    </tr>\n",
       "    <tr>\n",
       "      <th>2</th>\n",
       "      <td>Monthly Pass (Regular Price)</td>\n",
       "      <td>3489.13</td>\n",
       "      <td>2886.99</td>\n",
       "      <td>-17.26</td>\n",
       "    </tr>\n",
       "    <tr>\n",
       "      <th>3</th>\n",
       "      <td>Basic (Electricity, Heating, Cooling, Water, G...</td>\n",
       "      <td>4348.98</td>\n",
       "      <td>3336.70</td>\n",
       "      <td>-23.28</td>\n",
       "    </tr>\n",
       "    <tr>\n",
       "      <th>4</th>\n",
       "      <td>Internet (60 Mbps or More, Unlimited Data, Cab...</td>\n",
       "      <td>6266.63</td>\n",
       "      <td>4575.36</td>\n",
       "      <td>-26.99</td>\n",
       "    </tr>\n",
       "  </tbody>\n",
       "</table>\n",
       "</div>"
      ],
      "text/plain": [
       "                                           Indicator  Nairobi (KSh)  \\\n",
       "0                       Meal, Inexpensive Restaurant         500.00   \n",
       "1  Meal for 2 People, Mid-range Restaurant, Three...        3500.00   \n",
       "2                       Monthly Pass (Regular Price)        3489.13   \n",
       "3  Basic (Electricity, Heating, Cooling, Water, G...        4348.98   \n",
       "4  Internet (60 Mbps or More, Unlimited Data, Cab...        6266.63   \n",
       "\n",
       "   Lagos(KSh)  NairobiLagos(%)  \n",
       "0      267.05           -46.59  \n",
       "1     4330.49            23.73  \n",
       "2     2886.99           -17.26  \n",
       "3     3336.70           -23.28  \n",
       "4     4575.36           -26.99  "
      ]
     },
     "execution_count": 44,
     "metadata": {},
     "output_type": "execute_result"
    }
   ],
   "source": [
    "### DATA FRAME WITH SPECIFIC LIVING COSTS.\n",
    "country = \"Lagos\"\n",
    "LivingCostNG= getIndice(LC, tables, costIndicators, country)\n",
    "LivingCostNG.head()"
   ]
  },
  {
   "cell_type": "markdown",
   "metadata": {},
   "source": [
    "Merging the two dataframes and reating a total row for the summation of the city living cots:"
   ]
  },
  {
   "cell_type": "code",
   "execution_count": 45,
   "metadata": {},
   "outputs": [
    {
     "data": {
      "text/html": [
       "<div>\n",
       "<style scoped>\n",
       "    .dataframe tbody tr th:only-of-type {\n",
       "        vertical-align: middle;\n",
       "    }\n",
       "\n",
       "    .dataframe tbody tr th {\n",
       "        vertical-align: top;\n",
       "    }\n",
       "\n",
       "    .dataframe thead th {\n",
       "        text-align: right;\n",
       "    }\n",
       "</style>\n",
       "<table border=\"1\" class=\"dataframe\">\n",
       "  <thead>\n",
       "    <tr style=\"text-align: right;\">\n",
       "      <th></th>\n",
       "      <th>Indicator</th>\n",
       "      <th>Nairobi (KSh)</th>\n",
       "      <th>Lagos(KSh)</th>\n",
       "      <th>NairobiLagos(%)</th>\n",
       "      <th>Accra(KSh)</th>\n",
       "      <th>NairobiAccra(%)</th>\n",
       "    </tr>\n",
       "  </thead>\n",
       "  <tbody>\n",
       "    <tr>\n",
       "      <th>0</th>\n",
       "      <td>Meal, Inexpensive Restaurant</td>\n",
       "      <td>500.00</td>\n",
       "      <td>267.05</td>\n",
       "      <td>-46.590000</td>\n",
       "      <td>554.51</td>\n",
       "      <td>10.900000</td>\n",
       "    </tr>\n",
       "    <tr>\n",
       "      <th>1</th>\n",
       "      <td>Meal for 2 People, Mid-range Restaurant, Three...</td>\n",
       "      <td>3500.00</td>\n",
       "      <td>4330.49</td>\n",
       "      <td>23.730000</td>\n",
       "      <td>3824.19</td>\n",
       "      <td>9.260000</td>\n",
       "    </tr>\n",
       "    <tr>\n",
       "      <th>2</th>\n",
       "      <td>Monthly Pass (Regular Price)</td>\n",
       "      <td>3489.13</td>\n",
       "      <td>2886.99</td>\n",
       "      <td>-17.260000</td>\n",
       "      <td>3346.17</td>\n",
       "      <td>-4.100000</td>\n",
       "    </tr>\n",
       "    <tr>\n",
       "      <th>3</th>\n",
       "      <td>Basic (Electricity, Heating, Cooling, Water, G...</td>\n",
       "      <td>4348.98</td>\n",
       "      <td>3336.70</td>\n",
       "      <td>-23.280000</td>\n",
       "      <td>8237.95</td>\n",
       "      <td>89.420000</td>\n",
       "    </tr>\n",
       "    <tr>\n",
       "      <th>4</th>\n",
       "      <td>Internet (60 Mbps or More, Unlimited Data, Cab...</td>\n",
       "      <td>6266.63</td>\n",
       "      <td>4575.36</td>\n",
       "      <td>-26.990000</td>\n",
       "      <td>6028.99</td>\n",
       "      <td>-3.790000</td>\n",
       "    </tr>\n",
       "    <tr>\n",
       "      <th>5</th>\n",
       "      <td>Fitness Club, Monthly Fee for 1 Adult</td>\n",
       "      <td>5310.34</td>\n",
       "      <td>5081.10</td>\n",
       "      <td>-4.320000</td>\n",
       "      <td>6596.74</td>\n",
       "      <td>24.220000</td>\n",
       "    </tr>\n",
       "    <tr>\n",
       "      <th>6</th>\n",
       "      <td>Apartment (1 bedroom) Outside of Centre</td>\n",
       "      <td>19281.25</td>\n",
       "      <td>75886.62</td>\n",
       "      <td>293.580000</td>\n",
       "      <td>11559.50</td>\n",
       "      <td>-40.050000</td>\n",
       "    </tr>\n",
       "    <tr>\n",
       "      <th>7</th>\n",
       "      <td>TOTAL</td>\n",
       "      <td>42696.33</td>\n",
       "      <td>96364.31</td>\n",
       "      <td>125.696939</td>\n",
       "      <td>40148.05</td>\n",
       "      <td>-5.968382</td>\n",
       "    </tr>\n",
       "  </tbody>\n",
       "</table>\n",
       "</div>"
      ],
      "text/plain": [
       "                                           Indicator  Nairobi (KSh)  \\\n",
       "0                       Meal, Inexpensive Restaurant         500.00   \n",
       "1  Meal for 2 People, Mid-range Restaurant, Three...        3500.00   \n",
       "2                       Monthly Pass (Regular Price)        3489.13   \n",
       "3  Basic (Electricity, Heating, Cooling, Water, G...        4348.98   \n",
       "4  Internet (60 Mbps or More, Unlimited Data, Cab...        6266.63   \n",
       "5              Fitness Club, Monthly Fee for 1 Adult        5310.34   \n",
       "6            Apartment (1 bedroom) Outside of Centre       19281.25   \n",
       "7                                              TOTAL       42696.33   \n",
       "\n",
       "   Lagos(KSh)  NairobiLagos(%)  Accra(KSh)  NairobiAccra(%)  \n",
       "0      267.05       -46.590000      554.51        10.900000  \n",
       "1     4330.49        23.730000     3824.19         9.260000  \n",
       "2     2886.99       -17.260000     3346.17        -4.100000  \n",
       "3     3336.70       -23.280000     8237.95        89.420000  \n",
       "4     4575.36       -26.990000     6028.99        -3.790000  \n",
       "5     5081.10        -4.320000     6596.74        24.220000  \n",
       "6    75886.62       293.580000    11559.50       -40.050000  \n",
       "7    96364.31       125.696939    40148.05        -5.968382  "
      ]
     },
     "execution_count": 45,
     "metadata": {},
     "output_type": "execute_result"
    }
   ],
   "source": [
    "livingCost = LivingCostNG.join(LivingCostGH.set_index(['Indicator', 'Nairobi (KSh)']), on = ['Indicator', 'Nairobi (KSh)'])\n",
    "livingCost"
   ]
  },
  {
   "cell_type": "markdown",
   "metadata": {},
   "source": [
    "##### Getting venues from each city\n",
    "Using Foursquare API, restaurant and venue information will be obtained foe Nairobi, Accra and Lagos. Sub-category list of restaurants will also be filtered."
   ]
  },
  {
   "cell_type": "code",
   "execution_count": 1,
   "metadata": {},
   "outputs": [
    {
     "name": "stdout",
     "output_type": "stream",
     "text": [
      "Collecting geopy\n",
      "\u001b[?25l  Downloading https://files.pythonhosted.org/packages/0c/67/915668d0e286caa21a1da82a85ffe3d20528ec7212777b43ccd027d94023/geopy-2.1.0-py3-none-any.whl (112kB)\n",
      "\u001b[K     |████████████████████████████████| 112kB 4.6MB/s eta 0:00:01\n",
      "\u001b[?25hCollecting geographiclib<2,>=1.49 (from geopy)\n",
      "  Downloading https://files.pythonhosted.org/packages/8b/62/26ec95a98ba64299163199e95ad1b0e34ad3f4e176e221c40245f211e425/geographiclib-1.50-py3-none-any.whl\n",
      "Installing collected packages: geographiclib, geopy\n",
      "Successfully installed geographiclib-1.50 geopy-2.1.0\n",
      "Requirement already satisfied: folium==0.5.0 in /home/jupyterlab/conda/envs/python/lib/python3.6/site-packages (0.5.0)\n",
      "Requirement already satisfied: requests in /home/jupyterlab/conda/envs/python/lib/python3.6/site-packages (from folium==0.5.0) (2.25.0)\n",
      "Requirement already satisfied: six in /home/jupyterlab/conda/envs/python/lib/python3.6/site-packages (from folium==0.5.0) (1.15.0)\n",
      "Requirement already satisfied: branca in /home/jupyterlab/conda/envs/python/lib/python3.6/site-packages (from folium==0.5.0) (0.4.1)\n",
      "Requirement already satisfied: jinja2 in /home/jupyterlab/conda/envs/python/lib/python3.6/site-packages (from folium==0.5.0) (2.11.2)\n",
      "Requirement already satisfied: chardet<4,>=3.0.2 in /home/jupyterlab/conda/envs/python/lib/python3.6/site-packages (from requests->folium==0.5.0) (3.0.4)\n",
      "Requirement already satisfied: urllib3<1.27,>=1.21.1 in /home/jupyterlab/conda/envs/python/lib/python3.6/site-packages (from requests->folium==0.5.0) (1.25.11)\n",
      "Requirement already satisfied: certifi>=2017.4.17 in /home/jupyterlab/conda/envs/python/lib/python3.6/site-packages (from requests->folium==0.5.0) (2020.12.5)\n",
      "Requirement already satisfied: idna<3,>=2.5 in /home/jupyterlab/conda/envs/python/lib/python3.6/site-packages (from requests->folium==0.5.0) (2.10)\n",
      "Requirement already satisfied: MarkupSafe>=0.23 in /home/jupyterlab/conda/envs/python/lib/python3.6/site-packages (from jinja2->folium==0.5.0) (1.1.1)\n",
      "Folium installed\n",
      "Libraries imported.\n"
     ]
    }
   ],
   "source": [
    "# Import libraries\n",
    "import random # library for random number generation\n",
    "\n",
    "\n",
    "!pip install geopy\n",
    "from geopy.geocoders import Nominatim # module to convert an address into latitude and longitude values\n",
    "\n",
    "# libraries for displaying images\n",
    "from IPython.display import Image \n",
    "from IPython.core.display import HTML \n",
    "    \n",
    "# tranforming json file into a pandas dataframe library\n",
    "from pandas.io.json import json_normalize\n",
    "\n",
    "\n",
    "! pip install folium==0.5.0\n",
    "import folium # plotting library\n",
    "\n",
    "print('Folium installed')\n",
    "print('Libraries imported.')"
   ]
  },
  {
   "cell_type": "markdown",
   "metadata": {},
   "source": [
    "Focussing on entertainment and recreation only, therefore places of worship, shopping centers and other areas might not be explicitly searched for. The following categories are of interest:\n",
    "\n",
    "* Arts & Entertainment ('4d4b7104d754a06370d81259')\n",
    "* Event ('4d4b7105d754a06373d81259')\n",
    "* Food ('4d4b7105d754a06374d81259')\n",
    "* Nightlife Spot ('4d4b7105d754a06376d81259')\n",
    "* Outdoors & Recreation ('4d4b7105d754a06377d81259')\n",
    "* Food ('4d4b7105d754a06374d81259')\n",
    "\n",
    "For ease of data collection and cleaning, two functions were created. This was to improve code efficiency as the foursquare method and maps will be executed for each city."
   ]
  },
  {
   "cell_type": "code",
   "execution_count": 2,
   "metadata": {},
   "outputs": [],
   "source": [
    "## This function creates a dataframe\n",
    "def getVenues(url):\n",
    "    # Send GET request\n",
    "    results = requests.get(url).json()\n",
    "\n",
    "    # assign relevant part of JSON to venues\n",
    "    venues = results['response']['venues']\n",
    "\n",
    "    # tranform venues into a dataframe\n",
    "    dataframe = json_normalize(venues)\n",
    "\n",
    "    # keep only columns that include venue name, and anything that is associated with location\n",
    "    filtered_columns = ['name', 'categories'] + [col for col in dataframe.columns if col.startswith('location.')] + ['id']\n",
    "    dataframe_filtered = dataframe.loc[:, filtered_columns]\n",
    "\n",
    "    # function that extracts the category of the venue\n",
    "    def get_category_type(row):\n",
    "        try:\n",
    "            categories_list = row['categories']\n",
    "        except:\n",
    "            categories_list = row['venue.categories']\n",
    "        \n",
    "        if len(categories_list) == 0:\n",
    "            return None\n",
    "        else:\n",
    "            return categories_list[0]['name']\n",
    "\n",
    "    # filter the category for each row\n",
    "    dataframe_filtered['categories'] = dataframe_filtered.apply(get_category_type, axis=1)\n",
    "\n",
    "    # clean column names by keeping only last term\n",
    "    dataframe_filtered.columns = [column.split('.')[-1] for column in dataframe_filtered.columns]\n",
    "\n",
    "    return dataframe_filtered\n",
    "\n",
    "## This function creates a map visualization\n",
    "def cityMap(latitude, longitude, dataframe_filtered):\n",
    "\n",
    "    venues_map = folium.Map(location=[latitude, longitude], zoom_start=13) # generate map centred around the Conrad Hotel\n",
    "\n",
    "    # add a red circle marker to represent the Conrad Hotel\n",
    "    folium.CircleMarker(\n",
    "        [latitude, longitude],\n",
    "        radius=10,\n",
    "        color='red',\n",
    "        popup='Conrad Hotel',\n",
    "        fill = True,\n",
    "        fill_color = 'red',\n",
    "        fill_opacity = 0.6\n",
    "    ).add_to(venues_map)\n",
    "\n",
    "    # add the Italian restaurants as blue circle markers\n",
    "    for lat, lng, label in zip(dataframe_filtered.lat, dataframe_filtered.lng, dataframe_filtered.categories):\n",
    "        folium.CircleMarker(\n",
    "            [lat, lng],\n",
    "            radius=5,\n",
    "            color='blue',\n",
    "            popup=label,\n",
    "            fill = True,\n",
    "            fill_color='blue',\n",
    "            fill_opacity=0.6\n",
    "        ).add_to(venues_map)\n",
    "\n",
    "# display map\n",
    "    return venues_map\n"
   ]
  },
  {
   "cell_type": "code",
   "execution_count": 12,
   "metadata": {},
   "outputs": [],
   "source": [
    "# @hidden_cell\n",
    "CLIENT_ID = 'ZRUWJRSMGR2OOB3T42YFXDBAYDL2DG5UTCNUYE03LRULEOX4' # your Foursquare ID\n",
    "CLIENT_SECRET = 'TQFD51WLSCINNLQTJBPFIIEGV4EU0R2AYG5OB5KTIFP4LWDN' # your Foursquare Secret\n",
    "ACCESS_TOKEN = 'RDYYGMGCFCDVMKTG4S1OCAE1DMNVUBAWPRN55OZW13HHXIZL' # your FourSquare Access Token\n",
    "VERSION = '20180604'\n",
    "LIMIT = 500 # limit number of venues gotten"
   ]
  },
  {
   "cell_type": "code",
   "execution_count": 4,
   "metadata": {},
   "outputs": [],
   "source": [
    "# Defining longitude and Latitude\n",
    "latGH = 5.55602\n",
    "latNG = 6.45407\n",
    "latKE = -1.28333\n",
    "lonGh = -0.1969\n",
    "lonNG =3.39467\n",
    "lonKE = 36.81667"
   ]
  },
  {
   "cell_type": "markdown",
   "metadata": {},
   "source": [
    "Obtaining the 500 Accra venues within a 7500 m radius from the city centre (**this ensures that some parts of the outskirts is captured**) and plotting map:"
   ]
  },
  {
   "cell_type": "code",
   "execution_count": 20,
   "metadata": {},
   "outputs": [
    {
     "name": "stderr",
     "output_type": "stream",
     "text": [
      "/home/jupyterlab/conda/envs/python/lib/python3.6/site-packages/ipykernel_launcher.py:10: FutureWarning: pandas.io.json.json_normalize is deprecated, use pandas.json_normalize instead\n",
      "  # Remove the CWD from sys.path while we load stuff.\n"
     ]
    },
    {
     "data": {
      "text/html": [
       "<div>\n",
       "<style scoped>\n",
       "    .dataframe tbody tr th:only-of-type {\n",
       "        vertical-align: middle;\n",
       "    }\n",
       "\n",
       "    .dataframe tbody tr th {\n",
       "        vertical-align: top;\n",
       "    }\n",
       "\n",
       "    .dataframe thead th {\n",
       "        text-align: right;\n",
       "    }\n",
       "</style>\n",
       "<table border=\"1\" class=\"dataframe\">\n",
       "  <thead>\n",
       "    <tr style=\"text-align: right;\">\n",
       "      <th></th>\n",
       "      <th>name</th>\n",
       "      <th>categories</th>\n",
       "      <th>address</th>\n",
       "      <th>lat</th>\n",
       "      <th>lng</th>\n",
       "      <th>labeledLatLngs</th>\n",
       "      <th>distance</th>\n",
       "      <th>cc</th>\n",
       "      <th>city</th>\n",
       "      <th>state</th>\n",
       "      <th>country</th>\n",
       "      <th>formattedAddress</th>\n",
       "      <th>crossStreet</th>\n",
       "      <th>postalCode</th>\n",
       "      <th>neighborhood</th>\n",
       "      <th>id</th>\n",
       "    </tr>\n",
       "  </thead>\n",
       "  <tbody>\n",
       "    <tr>\n",
       "      <th>0</th>\n",
       "      <td>Mövenpick Ambassador Hotel</td>\n",
       "      <td>Hotel</td>\n",
       "      <td>Independence Ave.</td>\n",
       "      <td>5.554508</td>\n",
       "      <td>-0.202435</td>\n",
       "      <td>[{'label': 'display', 'lat': 5.554507878285451...</td>\n",
       "      <td>635</td>\n",
       "      <td>GH</td>\n",
       "      <td>Accra</td>\n",
       "      <td>Greater Accra Region</td>\n",
       "      <td>Ghana</td>\n",
       "      <td>[Independence Ave., Accra, Ghana]</td>\n",
       "      <td>NaN</td>\n",
       "      <td>NaN</td>\n",
       "      <td>NaN</td>\n",
       "      <td>4d6e9ee503cba35d478c24f5</td>\n",
       "    </tr>\n",
       "    <tr>\n",
       "      <th>1</th>\n",
       "      <td>Independence Square</td>\n",
       "      <td>Plaza</td>\n",
       "      <td>Labadi Rd, Accra,</td>\n",
       "      <td>5.549360</td>\n",
       "      <td>-0.191886</td>\n",
       "      <td>[{'label': 'display', 'lat': 5.549359545472855...</td>\n",
       "      <td>926</td>\n",
       "      <td>GH</td>\n",
       "      <td>Greater Accra</td>\n",
       "      <td>Ghana</td>\n",
       "      <td>Ghana</td>\n",
       "      <td>[Labadi Rd, Accra,, Greater Accra, Ghana]</td>\n",
       "      <td>NaN</td>\n",
       "      <td>NaN</td>\n",
       "      <td>NaN</td>\n",
       "      <td>4d481ac7febd8eec6a661282</td>\n",
       "    </tr>\n",
       "    <tr>\n",
       "      <th>2</th>\n",
       "      <td>Osu</td>\n",
       "      <td>Other Great Outdoors</td>\n",
       "      <td>NaN</td>\n",
       "      <td>5.561015</td>\n",
       "      <td>-0.182378</td>\n",
       "      <td>[{'label': 'display', 'lat': 5.56101511526483,...</td>\n",
       "      <td>1702</td>\n",
       "      <td>GH</td>\n",
       "      <td>Accra</td>\n",
       "      <td>Greater Accra Region</td>\n",
       "      <td>Ghana</td>\n",
       "      <td>[Accra, Ghana]</td>\n",
       "      <td>NaN</td>\n",
       "      <td>NaN</td>\n",
       "      <td>NaN</td>\n",
       "      <td>4ef75aef29c268318966d2e1</td>\n",
       "    </tr>\n",
       "    <tr>\n",
       "      <th>3</th>\n",
       "      <td>Twist</td>\n",
       "      <td>Lounge</td>\n",
       "      <td>Abafun Crescent</td>\n",
       "      <td>5.571706</td>\n",
       "      <td>-0.167054</td>\n",
       "      <td>[{'label': 'display', 'lat': 5.571706158277336...</td>\n",
       "      <td>3739</td>\n",
       "      <td>GH</td>\n",
       "      <td>Accra Metropolis</td>\n",
       "      <td>Greater Accra Region</td>\n",
       "      <td>Ghana</td>\n",
       "      <td>[Abafun Crescent, Accra Metropolis, Ghana]</td>\n",
       "      <td>NaN</td>\n",
       "      <td>NaN</td>\n",
       "      <td>NaN</td>\n",
       "      <td>4baa8b4ff964a52047733ae3</td>\n",
       "    </tr>\n",
       "    <tr>\n",
       "      <th>4</th>\n",
       "      <td>Purple Pub</td>\n",
       "      <td>Bar</td>\n",
       "      <td>Ring Rd E</td>\n",
       "      <td>5.564984</td>\n",
       "      <td>-0.177914</td>\n",
       "      <td>[{'label': 'display', 'lat': 5.564984451431374...</td>\n",
       "      <td>2328</td>\n",
       "      <td>GH</td>\n",
       "      <td>Accra</td>\n",
       "      <td>Greater Accra Region</td>\n",
       "      <td>Ghana</td>\n",
       "      <td>[Ring Rd E, Accra, Ghana]</td>\n",
       "      <td>NaN</td>\n",
       "      <td>NaN</td>\n",
       "      <td>NaN</td>\n",
       "      <td>4cd1ffa17f56a1431217d8a6</td>\n",
       "    </tr>\n",
       "  </tbody>\n",
       "</table>\n",
       "</div>"
      ],
      "text/plain": [
       "                         name            categories            address  \\\n",
       "0  Mövenpick Ambassador Hotel                 Hotel  Independence Ave.   \n",
       "1         Independence Square                 Plaza  Labadi Rd, Accra,   \n",
       "2                         Osu  Other Great Outdoors                NaN   \n",
       "3                       Twist                Lounge    Abafun Crescent   \n",
       "4                  Purple Pub                   Bar          Ring Rd E   \n",
       "\n",
       "        lat       lng                                     labeledLatLngs  \\\n",
       "0  5.554508 -0.202435  [{'label': 'display', 'lat': 5.554507878285451...   \n",
       "1  5.549360 -0.191886  [{'label': 'display', 'lat': 5.549359545472855...   \n",
       "2  5.561015 -0.182378  [{'label': 'display', 'lat': 5.56101511526483,...   \n",
       "3  5.571706 -0.167054  [{'label': 'display', 'lat': 5.571706158277336...   \n",
       "4  5.564984 -0.177914  [{'label': 'display', 'lat': 5.564984451431374...   \n",
       "\n",
       "   distance  cc              city                 state country  \\\n",
       "0       635  GH             Accra  Greater Accra Region   Ghana   \n",
       "1       926  GH     Greater Accra                 Ghana   Ghana   \n",
       "2      1702  GH             Accra  Greater Accra Region   Ghana   \n",
       "3      3739  GH  Accra Metropolis  Greater Accra Region   Ghana   \n",
       "4      2328  GH             Accra  Greater Accra Region   Ghana   \n",
       "\n",
       "                             formattedAddress crossStreet postalCode  \\\n",
       "0           [Independence Ave., Accra, Ghana]         NaN        NaN   \n",
       "1   [Labadi Rd, Accra,, Greater Accra, Ghana]         NaN        NaN   \n",
       "2                              [Accra, Ghana]         NaN        NaN   \n",
       "3  [Abafun Crescent, Accra Metropolis, Ghana]         NaN        NaN   \n",
       "4                   [Ring Rd E, Accra, Ghana]         NaN        NaN   \n",
       "\n",
       "  neighborhood                        id  \n",
       "0          NaN  4d6e9ee503cba35d478c24f5  \n",
       "1          NaN  4d481ac7febd8eec6a661282  \n",
       "2          NaN  4ef75aef29c268318966d2e1  \n",
       "3          NaN  4baa8b4ff964a52047733ae3  \n",
       "4          NaN  4cd1ffa17f56a1431217d8a6  "
      ]
     },
     "execution_count": 20,
     "metadata": {},
     "output_type": "execute_result"
    }
   ],
   "source": [
    "# Define URL\n",
    "longitude =lonGh\n",
    "latitude = latGH\n",
    "radius = 7500\n",
    "url = 'https://api.foursquare.com/v2/venues/search?categoryId=4d4b7104d754a06370d81259,4d4b7105d754a06373d81259,4d4b7105d754a06374d81259,4d4b7105d754a06376d81259,4d4b7105d754a06377d81259,4d4b7105d754a06374d81259&client_id={}&client_secret={}&ll={},{}&oauth_token={}&v={}&radius={}&limit={}'.format(CLIENT_ID, CLIENT_SECRET, latitude, longitude,ACCESS_TOKEN, VERSION, radius, LIMIT)\n",
    "\n",
    "# Get dataframe\n",
    "accra_filtered =  getVenues(url)\n",
    "accra_filtered.head()"
   ]
  },
  {
   "cell_type": "code",
   "execution_count": 21,
   "metadata": {},
   "outputs": [
    {
     "data": {
      "text/html": [
       "<div style=\"width:100%;\"><div style=\"position:relative;width:100%;height:0;padding-bottom:60%;\"><span style=\"color:#565656\">Make this Notebook Trusted to load map: File -> Trust Notebook</span><iframe src=\"about:blank\" style=\"position:absolute;width:100%;height:100%;left:0;top:0;border:none !important;\" data-html=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 onload=\"this.contentDocument.open();this.contentDocument.write(atob(this.getAttribute('data-html')));this.contentDocument.close();\" allowfullscreen webkitallowfullscreen mozallowfullscreen></iframe></div></div>"
      ],
      "text/plain": [
       "<folium.folium.Map at 0x7ff1e8fa1f60>"
      ]
     },
     "execution_count": 21,
     "metadata": {},
     "output_type": "execute_result"
    }
   ],
   "source": [
    "accra_map= cityMap(latitude, longitude, accra_filtered)\n",
    "accra_map"
   ]
  },
  {
   "cell_type": "markdown",
   "metadata": {},
   "source": [
    "Obtaining the 500 Lagos venues within a 17,000 m radius from the city centre (**this ensures that some parts of the outskirts is captured**) and plotting map:"
   ]
  },
  {
   "cell_type": "code",
   "execution_count": 22,
   "metadata": {},
   "outputs": [
    {
     "name": "stderr",
     "output_type": "stream",
     "text": [
      "/home/jupyterlab/conda/envs/python/lib/python3.6/site-packages/ipykernel_launcher.py:10: FutureWarning: pandas.io.json.json_normalize is deprecated, use pandas.json_normalize instead\n",
      "  # Remove the CWD from sys.path while we load stuff.\n"
     ]
    },
    {
     "data": {
      "text/html": [
       "<div>\n",
       "<style scoped>\n",
       "    .dataframe tbody tr th:only-of-type {\n",
       "        vertical-align: middle;\n",
       "    }\n",
       "\n",
       "    .dataframe tbody tr th {\n",
       "        vertical-align: top;\n",
       "    }\n",
       "\n",
       "    .dataframe thead th {\n",
       "        text-align: right;\n",
       "    }\n",
       "</style>\n",
       "<table border=\"1\" class=\"dataframe\">\n",
       "  <thead>\n",
       "    <tr style=\"text-align: right;\">\n",
       "      <th></th>\n",
       "      <th>name</th>\n",
       "      <th>categories</th>\n",
       "      <th>address</th>\n",
       "      <th>lat</th>\n",
       "      <th>lng</th>\n",
       "      <th>labeledLatLngs</th>\n",
       "      <th>distance</th>\n",
       "      <th>cc</th>\n",
       "      <th>city</th>\n",
       "      <th>state</th>\n",
       "      <th>country</th>\n",
       "      <th>formattedAddress</th>\n",
       "      <th>crossStreet</th>\n",
       "      <th>neighborhood</th>\n",
       "      <th>id</th>\n",
       "    </tr>\n",
       "  </thead>\n",
       "  <tbody>\n",
       "    <tr>\n",
       "      <th>0</th>\n",
       "      <td>Campos Stadium</td>\n",
       "      <td>Soccer Field</td>\n",
       "      <td>Campos Street</td>\n",
       "      <td>6.451098</td>\n",
       "      <td>3.394655</td>\n",
       "      <td>[{'label': 'display', 'lat': 6.451097614372146...</td>\n",
       "      <td>330</td>\n",
       "      <td>NG</td>\n",
       "      <td>Lagos Island</td>\n",
       "      <td>Lagos</td>\n",
       "      <td>Nigeria</td>\n",
       "      <td>[Campos Street, Lagos Island, Lagos, Nigeria]</td>\n",
       "      <td>NaN</td>\n",
       "      <td>NaN</td>\n",
       "      <td>50ba3f00e4b0c78358420c87</td>\n",
       "    </tr>\n",
       "    <tr>\n",
       "      <th>1</th>\n",
       "      <td>Eko Bridge</td>\n",
       "      <td>Bridge</td>\n",
       "      <td>Lagos</td>\n",
       "      <td>6.470538</td>\n",
       "      <td>3.371415</td>\n",
       "      <td>[{'label': 'display', 'lat': 6.470537780438158...</td>\n",
       "      <td>3158</td>\n",
       "      <td>NG</td>\n",
       "      <td>Lagos</td>\n",
       "      <td>Lagos</td>\n",
       "      <td>Nigeria</td>\n",
       "      <td>[Lagos, Lagos, Lagos, Nigeria]</td>\n",
       "      <td>NaN</td>\n",
       "      <td>NaN</td>\n",
       "      <td>4ef5c0e46c25c411e9dabc3b</td>\n",
       "    </tr>\n",
       "    <tr>\n",
       "      <th>2</th>\n",
       "      <td>Carter Bridge</td>\n",
       "      <td>Bridge</td>\n",
       "      <td>NaN</td>\n",
       "      <td>6.458465</td>\n",
       "      <td>3.393601</td>\n",
       "      <td>[{'label': 'display', 'lat': 6.458464997800156...</td>\n",
       "      <td>503</td>\n",
       "      <td>NG</td>\n",
       "      <td>Lagos</td>\n",
       "      <td>Lagos</td>\n",
       "      <td>Nigeria</td>\n",
       "      <td>[Lagos, Lagos, Nigeria]</td>\n",
       "      <td>NaN</td>\n",
       "      <td>NaN</td>\n",
       "      <td>515c4fcfe4b0e4dc2efcf0eb</td>\n",
       "    </tr>\n",
       "    <tr>\n",
       "      <th>3</th>\n",
       "      <td>Magodo GRA Suya Spot</td>\n",
       "      <td>BBQ Joint</td>\n",
       "      <td>Magodo GRA</td>\n",
       "      <td>6.619215</td>\n",
       "      <td>3.374753</td>\n",
       "      <td>[{'label': 'display', 'lat': 6.619215251243562...</td>\n",
       "      <td>18515</td>\n",
       "      <td>NG</td>\n",
       "      <td>NaN</td>\n",
       "      <td>NaN</td>\n",
       "      <td>Nigeria</td>\n",
       "      <td>[Magodo GRA, Nigeria]</td>\n",
       "      <td>NaN</td>\n",
       "      <td>NaN</td>\n",
       "      <td>4fac0c3ae4b0c811fe5c9266</td>\n",
       "    </tr>\n",
       "    <tr>\n",
       "      <th>4</th>\n",
       "      <td>Mega Chicken</td>\n",
       "      <td>African Restaurant</td>\n",
       "      <td>Agidingbi road</td>\n",
       "      <td>6.625926</td>\n",
       "      <td>3.353504</td>\n",
       "      <td>[{'label': 'display', 'lat': 6.625926, 'lng': ...</td>\n",
       "      <td>19665</td>\n",
       "      <td>NG</td>\n",
       "      <td>Ikeja</td>\n",
       "      <td>Lagos</td>\n",
       "      <td>Nigeria</td>\n",
       "      <td>[Agidingbi road, Ikeja, Lagos, Nigeria]</td>\n",
       "      <td>NaN</td>\n",
       "      <td>NaN</td>\n",
       "      <td>58a459d228680442688dd6f1</td>\n",
       "    </tr>\n",
       "  </tbody>\n",
       "</table>\n",
       "</div>"
      ],
      "text/plain": [
       "                   name          categories         address       lat  \\\n",
       "0        Campos Stadium        Soccer Field   Campos Street  6.451098   \n",
       "1            Eko Bridge              Bridge           Lagos  6.470538   \n",
       "2         Carter Bridge              Bridge             NaN  6.458465   \n",
       "3  Magodo GRA Suya Spot           BBQ Joint      Magodo GRA  6.619215   \n",
       "4          Mega Chicken  African Restaurant  Agidingbi road  6.625926   \n",
       "\n",
       "        lng                                     labeledLatLngs  distance  cc  \\\n",
       "0  3.394655  [{'label': 'display', 'lat': 6.451097614372146...       330  NG   \n",
       "1  3.371415  [{'label': 'display', 'lat': 6.470537780438158...      3158  NG   \n",
       "2  3.393601  [{'label': 'display', 'lat': 6.458464997800156...       503  NG   \n",
       "3  3.374753  [{'label': 'display', 'lat': 6.619215251243562...     18515  NG   \n",
       "4  3.353504  [{'label': 'display', 'lat': 6.625926, 'lng': ...     19665  NG   \n",
       "\n",
       "           city  state  country  \\\n",
       "0  Lagos Island  Lagos  Nigeria   \n",
       "1         Lagos  Lagos  Nigeria   \n",
       "2         Lagos  Lagos  Nigeria   \n",
       "3           NaN    NaN  Nigeria   \n",
       "4         Ikeja  Lagos  Nigeria   \n",
       "\n",
       "                                formattedAddress crossStreet neighborhood  \\\n",
       "0  [Campos Street, Lagos Island, Lagos, Nigeria]         NaN          NaN   \n",
       "1                 [Lagos, Lagos, Lagos, Nigeria]         NaN          NaN   \n",
       "2                        [Lagos, Lagos, Nigeria]         NaN          NaN   \n",
       "3                          [Magodo GRA, Nigeria]         NaN          NaN   \n",
       "4        [Agidingbi road, Ikeja, Lagos, Nigeria]         NaN          NaN   \n",
       "\n",
       "                         id  \n",
       "0  50ba3f00e4b0c78358420c87  \n",
       "1  4ef5c0e46c25c411e9dabc3b  \n",
       "2  515c4fcfe4b0e4dc2efcf0eb  \n",
       "3  4fac0c3ae4b0c811fe5c9266  \n",
       "4  58a459d228680442688dd6f1  "
      ]
     },
     "execution_count": 22,
     "metadata": {},
     "output_type": "execute_result"
    }
   ],
   "source": [
    "# Define URL\n",
    "longitude =lonNG\n",
    "latitude = latNG\n",
    "radius = 17000\n",
    "url = 'https://api.foursquare.com/v2/venues/search?categoryId=4d4b7104d754a06370d81259,4d4b7105d754a06373d81259,4d4b7105d754a06374d81259,4d4b7105d754a06376d81259,4d4b7105d754a06377d81259,4d4b7105d754a06374d81259&client_id={}&client_secret={}&ll={},{}&oauth_token={}&v={}&radius={}&limit={}'.format(CLIENT_ID, CLIENT_SECRET, latitude, longitude,ACCESS_TOKEN, VERSION, radius, LIMIT)\n",
    "\n",
    "# Get dataframe\n",
    "lagos_filtered =  getVenues(url)\n",
    "lagos_filtered.head()"
   ]
  },
  {
   "cell_type": "code",
   "execution_count": 23,
   "metadata": {},
   "outputs": [
    {
     "data": {
      "text/html": [
       "<div style=\"width:100%;\"><div style=\"position:relative;width:100%;height:0;padding-bottom:60%;\"><span style=\"color:#565656\">Make this Notebook Trusted to load map: File -> Trust Notebook</span><iframe src=\"about:blank\" style=\"position:absolute;width:100%;height:100%;left:0;top:0;border:none !important;\" data-html=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 onload=\"this.contentDocument.open();this.contentDocument.write(atob(this.getAttribute('data-html')));this.contentDocument.close();\" allowfullscreen webkitallowfullscreen mozallowfullscreen></iframe></div></div>"
      ],
      "text/plain": [
       "<folium.folium.Map at 0x7ff1e8d3b358>"
      ]
     },
     "execution_count": 23,
     "metadata": {},
     "output_type": "execute_result"
    }
   ],
   "source": [
    "lagos_map= cityMap(latitude, longitude, lagos_filtered)\n",
    "lagos_map"
   ]
  },
  {
   "cell_type": "markdown",
   "metadata": {},
   "source": [
    "Obtaining the 500 Nairobi venues within a 14,900 m radius from the city centre (**this ensures that some parts of the outskirts is captured**) and plotting map:"
   ]
  },
  {
   "cell_type": "code",
   "execution_count": 24,
   "metadata": {},
   "outputs": [
    {
     "name": "stderr",
     "output_type": "stream",
     "text": [
      "/home/jupyterlab/conda/envs/python/lib/python3.6/site-packages/ipykernel_launcher.py:10: FutureWarning: pandas.io.json.json_normalize is deprecated, use pandas.json_normalize instead\n",
      "  # Remove the CWD from sys.path while we load stuff.\n"
     ]
    },
    {
     "data": {
      "text/html": [
       "<div>\n",
       "<style scoped>\n",
       "    .dataframe tbody tr th:only-of-type {\n",
       "        vertical-align: middle;\n",
       "    }\n",
       "\n",
       "    .dataframe tbody tr th {\n",
       "        vertical-align: top;\n",
       "    }\n",
       "\n",
       "    .dataframe thead th {\n",
       "        text-align: right;\n",
       "    }\n",
       "</style>\n",
       "<table border=\"1\" class=\"dataframe\">\n",
       "  <thead>\n",
       "    <tr style=\"text-align: right;\">\n",
       "      <th></th>\n",
       "      <th>name</th>\n",
       "      <th>categories</th>\n",
       "      <th>lat</th>\n",
       "      <th>lng</th>\n",
       "      <th>labeledLatLngs</th>\n",
       "      <th>distance</th>\n",
       "      <th>cc</th>\n",
       "      <th>neighborhood</th>\n",
       "      <th>city</th>\n",
       "      <th>state</th>\n",
       "      <th>country</th>\n",
       "      <th>formattedAddress</th>\n",
       "      <th>address</th>\n",
       "      <th>crossStreet</th>\n",
       "      <th>postalCode</th>\n",
       "      <th>id</th>\n",
       "    </tr>\n",
       "  </thead>\n",
       "  <tbody>\n",
       "    <tr>\n",
       "      <th>0</th>\n",
       "      <td>Nairobi Safari Club Health Club</td>\n",
       "      <td>Gym</td>\n",
       "      <td>-1.280801</td>\n",
       "      <td>36.817412</td>\n",
       "      <td>[{'label': 'display', 'lat': -1.28080122530391...</td>\n",
       "      <td>293</td>\n",
       "      <td>KE</td>\n",
       "      <td>Nairobi Central Business District</td>\n",
       "      <td>Nairobi</td>\n",
       "      <td>Nairobi</td>\n",
       "      <td>Kenya</td>\n",
       "      <td>[Nairobi, Kenya]</td>\n",
       "      <td>NaN</td>\n",
       "      <td>NaN</td>\n",
       "      <td>NaN</td>\n",
       "      <td>50f4ebcae4b09bf7364fc914</td>\n",
       "    </tr>\n",
       "    <tr>\n",
       "      <th>1</th>\n",
       "      <td>GPO</td>\n",
       "      <td>Post Office</td>\n",
       "      <td>-1.286062</td>\n",
       "      <td>36.818532</td>\n",
       "      <td>[{'label': 'display', 'lat': -1.28606233636563...</td>\n",
       "      <td>368</td>\n",
       "      <td>KE</td>\n",
       "      <td>City Square</td>\n",
       "      <td>Nairobi</td>\n",
       "      <td>Nairobi</td>\n",
       "      <td>Kenya</td>\n",
       "      <td>[Kenyatta Avenue, Nairobi, Kenya]</td>\n",
       "      <td>Kenyatta Avenue</td>\n",
       "      <td>NaN</td>\n",
       "      <td>NaN</td>\n",
       "      <td>4e1970d87d8b8af913973f43</td>\n",
       "    </tr>\n",
       "    <tr>\n",
       "      <th>2</th>\n",
       "      <td>Mister Wok</td>\n",
       "      <td>Chinese Restaurant</td>\n",
       "      <td>-1.270387</td>\n",
       "      <td>36.816228</td>\n",
       "      <td>[{'label': 'display', 'lat': -1.27038727522028...</td>\n",
       "      <td>1441</td>\n",
       "      <td>KE</td>\n",
       "      <td>NaN</td>\n",
       "      <td>Nairobi</td>\n",
       "      <td>Nairobi</td>\n",
       "      <td>Kenya</td>\n",
       "      <td>[Forest Rd., Nairobi, Kenya]</td>\n",
       "      <td>Forest Rd.</td>\n",
       "      <td>NaN</td>\n",
       "      <td>NaN</td>\n",
       "      <td>4dc42fb1d164eb9c9fcee061</td>\n",
       "    </tr>\n",
       "    <tr>\n",
       "      <th>3</th>\n",
       "      <td>Winning Post</td>\n",
       "      <td>Lounge</td>\n",
       "      <td>-1.311537</td>\n",
       "      <td>36.742291</td>\n",
       "      <td>[{'label': 'display', 'lat': -1.311537, 'lng':...</td>\n",
       "      <td>8853</td>\n",
       "      <td>KE</td>\n",
       "      <td>NaN</td>\n",
       "      <td>NaN</td>\n",
       "      <td>NaN</td>\n",
       "      <td>Kenya</td>\n",
       "      <td>[Kenya]</td>\n",
       "      <td>NaN</td>\n",
       "      <td>NaN</td>\n",
       "      <td>NaN</td>\n",
       "      <td>5fe86cea45ffa21fad22d02e</td>\n",
       "    </tr>\n",
       "    <tr>\n",
       "      <th>4</th>\n",
       "      <td>Tibs ribs</td>\n",
       "      <td>BBQ Joint</td>\n",
       "      <td>-1.276540</td>\n",
       "      <td>36.874717</td>\n",
       "      <td>[{'label': 'display', 'lat': -1.27654027401033...</td>\n",
       "      <td>6504</td>\n",
       "      <td>KE</td>\n",
       "      <td>NaN</td>\n",
       "      <td>Nairobi</td>\n",
       "      <td>Nairobi</td>\n",
       "      <td>Kenya</td>\n",
       "      <td>[Nairobi, Kenya]</td>\n",
       "      <td>NaN</td>\n",
       "      <td>NaN</td>\n",
       "      <td>NaN</td>\n",
       "      <td>4ff5a41ee4b09751a6d63531</td>\n",
       "    </tr>\n",
       "  </tbody>\n",
       "</table>\n",
       "</div>"
      ],
      "text/plain": [
       "                              name          categories       lat        lng  \\\n",
       "0  Nairobi Safari Club Health Club                 Gym -1.280801  36.817412   \n",
       "1                              GPO         Post Office -1.286062  36.818532   \n",
       "2                       Mister Wok  Chinese Restaurant -1.270387  36.816228   \n",
       "3                     Winning Post              Lounge -1.311537  36.742291   \n",
       "4                        Tibs ribs           BBQ Joint -1.276540  36.874717   \n",
       "\n",
       "                                      labeledLatLngs  distance  cc  \\\n",
       "0  [{'label': 'display', 'lat': -1.28080122530391...       293  KE   \n",
       "1  [{'label': 'display', 'lat': -1.28606233636563...       368  KE   \n",
       "2  [{'label': 'display', 'lat': -1.27038727522028...      1441  KE   \n",
       "3  [{'label': 'display', 'lat': -1.311537, 'lng':...      8853  KE   \n",
       "4  [{'label': 'display', 'lat': -1.27654027401033...      6504  KE   \n",
       "\n",
       "                        neighborhood     city    state country  \\\n",
       "0  Nairobi Central Business District  Nairobi  Nairobi   Kenya   \n",
       "1                        City Square  Nairobi  Nairobi   Kenya   \n",
       "2                                NaN  Nairobi  Nairobi   Kenya   \n",
       "3                                NaN      NaN      NaN   Kenya   \n",
       "4                                NaN  Nairobi  Nairobi   Kenya   \n",
       "\n",
       "                    formattedAddress          address crossStreet postalCode  \\\n",
       "0                   [Nairobi, Kenya]              NaN         NaN        NaN   \n",
       "1  [Kenyatta Avenue, Nairobi, Kenya]  Kenyatta Avenue         NaN        NaN   \n",
       "2       [Forest Rd., Nairobi, Kenya]       Forest Rd.         NaN        NaN   \n",
       "3                            [Kenya]              NaN         NaN        NaN   \n",
       "4                   [Nairobi, Kenya]              NaN         NaN        NaN   \n",
       "\n",
       "                         id  \n",
       "0  50f4ebcae4b09bf7364fc914  \n",
       "1  4e1970d87d8b8af913973f43  \n",
       "2  4dc42fb1d164eb9c9fcee061  \n",
       "3  5fe86cea45ffa21fad22d02e  \n",
       "4  4ff5a41ee4b09751a6d63531  "
      ]
     },
     "execution_count": 24,
     "metadata": {},
     "output_type": "execute_result"
    }
   ],
   "source": [
    "# Define URL\n",
    "longitude =lonKE\n",
    "latitude = latKE\n",
    "radius = 14900\n",
    "url = 'https://api.foursquare.com/v2/venues/search?categoryId=4d4b7104d754a06370d81259,4d4b7105d754a06373d81259,4d4b7105d754a06374d81259,4d4b7105d754a06376d81259,4d4b7105d754a06377d81259,4d4b7105d754a06374d81259&client_id={}&client_secret={}&ll={},{}&oauth_token={}&v={}&radius={}&limit={}'.format(CLIENT_ID, CLIENT_SECRET, latitude, longitude,ACCESS_TOKEN, VERSION, radius, LIMIT)\n",
    "\n",
    "# Get dataframe\n",
    "nairobi_filtered =  getVenues(url)\n",
    "nairobi_filtered.head()"
   ]
  },
  {
   "cell_type": "code",
   "execution_count": 25,
   "metadata": {},
   "outputs": [
    {
     "data": {
      "text/html": [
       "<div style=\"width:100%;\"><div style=\"position:relative;width:100%;height:0;padding-bottom:60%;\"><span style=\"color:#565656\">Make this Notebook Trusted to load map: File -> Trust Notebook</span><iframe src=\"about:blank\" style=\"position:absolute;width:100%;height:100%;left:0;top:0;border:none !important;\" data-html=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 onload=\"this.contentDocument.open();this.contentDocument.write(atob(this.getAttribute('data-html')));this.contentDocument.close();\" allowfullscreen webkitallowfullscreen mozallowfullscreen></iframe></div></div>"
      ],
      "text/plain": [
       "<folium.folium.Map at 0x7ff1e8c82d68>"
      ]
     },
     "execution_count": 25,
     "metadata": {},
     "output_type": "execute_result"
    }
   ],
   "source": [
    "nairobi_map= cityMap(latitude, longitude, nairobi_filtered)\n",
    "nairobi_map"
   ]
  },
  {
   "cell_type": "markdown",
   "metadata": {},
   "source": [
    "Now that all the necessary data has been extracted and cleaned, the next step is to give a proper overview of how the data science methodlogy will be applied to this business project."
   ]
  },
  {
   "cell_type": "markdown",
   "metadata": {},
   "source": [
    "## Methodology <a name=\"methodology\"></a>"
   ]
  },
  {
   "cell_type": "markdown",
   "metadata": {},
   "source": [
    "Although insights on possible restaurant locations in a West african city can be gained from this project, it will focus on exploring the similarities in the recreational lives of the single independent Youths of these cities. Factoring in the overall cost of living as compared to a similarly popular East African city.\n",
    "\n",
    "To achieve this, living cost information was extracted from **numbeo*** based on specified indicators. Some exploratory analysis was done, with charts for better visualization. The next step was the application of foursquare API, where **five hundred (500) venues from each city** was gotten.These venues are based on recreation and entertainment, therefore the appropriate categories were applied for filtering.\n",
    "\n",
    "The maps and locations were rendered, analysis on this data would be performed by determining the number of venues that exist in each category. In this restaurants will also be filtered,although there is a lack of address and neighborhood data for some of extracted venues the few that exist will be compared.\n",
    "\n",
    "*data has been collected from people Nairobi (129), Accra (57), Lagos (140) which is a small representation of overall living costs."
   ]
  },
  {
   "cell_type": "markdown",
   "metadata": {},
   "source": [
    "## Analysis <a name=\"analysis\"></a>"
   ]
  },
  {
   "cell_type": "markdown",
   "metadata": {},
   "source": [
    "In this section, basic exploratory data analysis will be used to gain additional information from the cleaned data.\n",
    "\n",
    "### Living Cost Comparison\n",
    "\n",
    "The table below shows a statistical analysis of the living cost data extracted from numbeo; the total calculated during initial cleaning was not included in this analysis.\n"
   ]
  },
  {
   "cell_type": "code",
   "execution_count": 52,
   "metadata": {},
   "outputs": [
    {
     "data": {
      "text/html": [
       "<div>\n",
       "<style scoped>\n",
       "    .dataframe tbody tr th:only-of-type {\n",
       "        vertical-align: middle;\n",
       "    }\n",
       "\n",
       "    .dataframe tbody tr th {\n",
       "        vertical-align: top;\n",
       "    }\n",
       "\n",
       "    .dataframe thead th {\n",
       "        text-align: right;\n",
       "    }\n",
       "</style>\n",
       "<table border=\"1\" class=\"dataframe\">\n",
       "  <thead>\n",
       "    <tr style=\"text-align: right;\">\n",
       "      <th></th>\n",
       "      <th>Nairobi (KSh)</th>\n",
       "      <th>Lagos(KSh)</th>\n",
       "      <th>NairobiLagos(%)</th>\n",
       "      <th>Accra(KSh)</th>\n",
       "      <th>NairobiAccra(%)</th>\n",
       "    </tr>\n",
       "  </thead>\n",
       "  <tbody>\n",
       "    <tr>\n",
       "      <th>count</th>\n",
       "      <td>7.000000</td>\n",
       "      <td>7.000000</td>\n",
       "      <td>7.000000</td>\n",
       "      <td>7.000000</td>\n",
       "      <td>7.000000</td>\n",
       "    </tr>\n",
       "    <tr>\n",
       "      <th>mean</th>\n",
       "      <td>6099.475714</td>\n",
       "      <td>13766.330000</td>\n",
       "      <td>28.410000</td>\n",
       "      <td>5735.435714</td>\n",
       "      <td>12.265714</td>\n",
       "    </tr>\n",
       "    <tr>\n",
       "      <th>std</th>\n",
       "      <td>6088.231699</td>\n",
       "      <td>27438.538704</td>\n",
       "      <td>118.925782</td>\n",
       "      <td>3587.333361</td>\n",
       "      <td>39.516125</td>\n",
       "    </tr>\n",
       "    <tr>\n",
       "      <th>min</th>\n",
       "      <td>500.000000</td>\n",
       "      <td>267.050000</td>\n",
       "      <td>-46.590000</td>\n",
       "      <td>554.510000</td>\n",
       "      <td>-40.050000</td>\n",
       "    </tr>\n",
       "    <tr>\n",
       "      <th>25%</th>\n",
       "      <td>3494.565000</td>\n",
       "      <td>3111.845000</td>\n",
       "      <td>-25.135000</td>\n",
       "      <td>3585.180000</td>\n",
       "      <td>-3.945000</td>\n",
       "    </tr>\n",
       "    <tr>\n",
       "      <th>50%</th>\n",
       "      <td>4348.980000</td>\n",
       "      <td>4330.490000</td>\n",
       "      <td>-17.260000</td>\n",
       "      <td>6028.990000</td>\n",
       "      <td>9.260000</td>\n",
       "    </tr>\n",
       "    <tr>\n",
       "      <th>75%</th>\n",
       "      <td>5788.485000</td>\n",
       "      <td>4828.230000</td>\n",
       "      <td>9.705000</td>\n",
       "      <td>7417.345000</td>\n",
       "      <td>17.560000</td>\n",
       "    </tr>\n",
       "    <tr>\n",
       "      <th>max</th>\n",
       "      <td>19281.250000</td>\n",
       "      <td>75886.620000</td>\n",
       "      <td>293.580000</td>\n",
       "      <td>11559.500000</td>\n",
       "      <td>89.420000</td>\n",
       "    </tr>\n",
       "  </tbody>\n",
       "</table>\n",
       "</div>"
      ],
      "text/plain": [
       "       Nairobi (KSh)    Lagos(KSh)  NairobiLagos(%)    Accra(KSh)  \\\n",
       "count       7.000000      7.000000         7.000000      7.000000   \n",
       "mean     6099.475714  13766.330000        28.410000   5735.435714   \n",
       "std      6088.231699  27438.538704       118.925782   3587.333361   \n",
       "min       500.000000    267.050000       -46.590000    554.510000   \n",
       "25%      3494.565000   3111.845000       -25.135000   3585.180000   \n",
       "50%      4348.980000   4330.490000       -17.260000   6028.990000   \n",
       "75%      5788.485000   4828.230000         9.705000   7417.345000   \n",
       "max     19281.250000  75886.620000       293.580000  11559.500000   \n",
       "\n",
       "       NairobiAccra(%)  \n",
       "count         7.000000  \n",
       "mean         12.265714  \n",
       "std          39.516125  \n",
       "min         -40.050000  \n",
       "25%          -3.945000  \n",
       "50%           9.260000  \n",
       "75%          17.560000  \n",
       "max          89.420000  "
      ]
     },
     "execution_count": 52,
     "metadata": {},
     "output_type": "execute_result"
    }
   ],
   "source": [
    "livingCost[:7].describe() # Statistical analysis"
   ]
  },
  {
   "cell_type": "markdown",
   "metadata": {},
   "source": [
    "A brief sidenote to highlight the exchange rate between *Kenyan Shilling* and *Ghanaian Cedis* is significantly lower than the exchange rate with *Nigerian Naira*. The table is generally nice as an initial overview, but more analysis is needed to gain more insight; and so graphs were created."
   ]
  },
  {
   "cell_type": "code",
   "execution_count": 62,
   "metadata": {},
   "outputs": [
    {
     "name": "stdout",
     "output_type": "stream",
     "text": [
      "Matplotlib version:  3.3.3\n"
     ]
    }
   ],
   "source": [
    "# Import necessary libraries\n",
    "import numpy as np\n",
    "%matplotlib inline\n",
    "\n",
    "import matplotlib as mpl\n",
    "import matplotlib.pyplot as plt\n",
    "import plotly.express as px\n",
    "import plotly.graph_objects as go\n",
    "\n",
    "mpl.style.use('ggplot') # optional: for ggplot-like style\n",
    "\n",
    "# check for latest version of Matplotlib\n",
    "print('Matplotlib version: ', mpl.__version__) # >= 2.0.0\n"
   ]
  },
  {
   "cell_type": "code",
   "execution_count": 54,
   "metadata": {},
   "outputs": [
    {
     "data": {
      "text/html": [
       "<div>\n",
       "<style scoped>\n",
       "    .dataframe tbody tr th:only-of-type {\n",
       "        vertical-align: middle;\n",
       "    }\n",
       "\n",
       "    .dataframe tbody tr th {\n",
       "        vertical-align: top;\n",
       "    }\n",
       "\n",
       "    .dataframe thead th {\n",
       "        text-align: right;\n",
       "    }\n",
       "</style>\n",
       "<table border=\"1\" class=\"dataframe\">\n",
       "  <thead>\n",
       "    <tr style=\"text-align: right;\">\n",
       "      <th></th>\n",
       "      <th>Nairobi (KSh)</th>\n",
       "      <th>Lagos(KSh)</th>\n",
       "      <th>NairobiLagos(%)</th>\n",
       "      <th>Accra(KSh)</th>\n",
       "      <th>NairobiAccra(%)</th>\n",
       "    </tr>\n",
       "    <tr>\n",
       "      <th>Indicator</th>\n",
       "      <th></th>\n",
       "      <th></th>\n",
       "      <th></th>\n",
       "      <th></th>\n",
       "      <th></th>\n",
       "    </tr>\n",
       "  </thead>\n",
       "  <tbody>\n",
       "    <tr>\n",
       "      <th>Meal, Inexpensive Restaurant</th>\n",
       "      <td>500.00</td>\n",
       "      <td>267.05</td>\n",
       "      <td>-46.590000</td>\n",
       "      <td>554.51</td>\n",
       "      <td>10.900000</td>\n",
       "    </tr>\n",
       "    <tr>\n",
       "      <th>Meal for 2 People, Mid-range Restaurant, Three-course</th>\n",
       "      <td>3500.00</td>\n",
       "      <td>4330.49</td>\n",
       "      <td>23.730000</td>\n",
       "      <td>3824.19</td>\n",
       "      <td>9.260000</td>\n",
       "    </tr>\n",
       "    <tr>\n",
       "      <th>Monthly Pass (Regular Price)</th>\n",
       "      <td>3489.13</td>\n",
       "      <td>2886.99</td>\n",
       "      <td>-17.260000</td>\n",
       "      <td>3346.17</td>\n",
       "      <td>-4.100000</td>\n",
       "    </tr>\n",
       "    <tr>\n",
       "      <th>Basic (Electricity, Heating, Cooling, Water, Garbage) for 915 sq ft Apartment</th>\n",
       "      <td>4348.98</td>\n",
       "      <td>3336.70</td>\n",
       "      <td>-23.280000</td>\n",
       "      <td>8237.95</td>\n",
       "      <td>89.420000</td>\n",
       "    </tr>\n",
       "    <tr>\n",
       "      <th>Internet (60 Mbps or More, Unlimited Data, Cable/ADSL)</th>\n",
       "      <td>6266.63</td>\n",
       "      <td>4575.36</td>\n",
       "      <td>-26.990000</td>\n",
       "      <td>6028.99</td>\n",
       "      <td>-3.790000</td>\n",
       "    </tr>\n",
       "    <tr>\n",
       "      <th>Fitness Club, Monthly Fee for 1 Adult</th>\n",
       "      <td>5310.34</td>\n",
       "      <td>5081.10</td>\n",
       "      <td>-4.320000</td>\n",
       "      <td>6596.74</td>\n",
       "      <td>24.220000</td>\n",
       "    </tr>\n",
       "    <tr>\n",
       "      <th>Apartment (1 bedroom) Outside of Centre</th>\n",
       "      <td>19281.25</td>\n",
       "      <td>75886.62</td>\n",
       "      <td>293.580000</td>\n",
       "      <td>11559.50</td>\n",
       "      <td>-40.050000</td>\n",
       "    </tr>\n",
       "    <tr>\n",
       "      <th>TOTAL</th>\n",
       "      <td>42696.33</td>\n",
       "      <td>96364.31</td>\n",
       "      <td>125.696939</td>\n",
       "      <td>40148.05</td>\n",
       "      <td>-5.968382</td>\n",
       "    </tr>\n",
       "  </tbody>\n",
       "</table>\n",
       "</div>"
      ],
      "text/plain": [
       "                                                    Nairobi (KSh)  Lagos(KSh)  \\\n",
       "Indicator                                                                       \n",
       "Meal, Inexpensive Restaurant                               500.00      267.05   \n",
       "Meal for 2 People, Mid-range Restaurant, Three-...        3500.00     4330.49   \n",
       "Monthly Pass (Regular Price)                              3489.13     2886.99   \n",
       "Basic (Electricity, Heating, Cooling, Water, Ga...        4348.98     3336.70   \n",
       "Internet (60 Mbps or More, Unlimited Data, Cabl...        6266.63     4575.36   \n",
       "Fitness Club, Monthly Fee for 1 Adult                     5310.34     5081.10   \n",
       "Apartment (1 bedroom) Outside of Centre                  19281.25    75886.62   \n",
       "TOTAL                                                    42696.33    96364.31   \n",
       "\n",
       "                                                    NairobiLagos(%)  \\\n",
       "Indicator                                                             \n",
       "Meal, Inexpensive Restaurant                             -46.590000   \n",
       "Meal for 2 People, Mid-range Restaurant, Three-...        23.730000   \n",
       "Monthly Pass (Regular Price)                             -17.260000   \n",
       "Basic (Electricity, Heating, Cooling, Water, Ga...       -23.280000   \n",
       "Internet (60 Mbps or More, Unlimited Data, Cabl...       -26.990000   \n",
       "Fitness Club, Monthly Fee for 1 Adult                     -4.320000   \n",
       "Apartment (1 bedroom) Outside of Centre                  293.580000   \n",
       "TOTAL                                                    125.696939   \n",
       "\n",
       "                                                    Accra(KSh)  \\\n",
       "Indicator                                                        \n",
       "Meal, Inexpensive Restaurant                            554.51   \n",
       "Meal for 2 People, Mid-range Restaurant, Three-...     3824.19   \n",
       "Monthly Pass (Regular Price)                           3346.17   \n",
       "Basic (Electricity, Heating, Cooling, Water, Ga...     8237.95   \n",
       "Internet (60 Mbps or More, Unlimited Data, Cabl...     6028.99   \n",
       "Fitness Club, Monthly Fee for 1 Adult                  6596.74   \n",
       "Apartment (1 bedroom) Outside of Centre               11559.50   \n",
       "TOTAL                                                 40148.05   \n",
       "\n",
       "                                                    NairobiAccra(%)  \n",
       "Indicator                                                            \n",
       "Meal, Inexpensive Restaurant                              10.900000  \n",
       "Meal for 2 People, Mid-range Restaurant, Three-...         9.260000  \n",
       "Monthly Pass (Regular Price)                              -4.100000  \n",
       "Basic (Electricity, Heating, Cooling, Water, Ga...        89.420000  \n",
       "Internet (60 Mbps or More, Unlimited Data, Cabl...        -3.790000  \n",
       "Fitness Club, Monthly Fee for 1 Adult                     24.220000  \n",
       "Apartment (1 bedroom) Outside of Centre                  -40.050000  \n",
       "TOTAL                                                     -5.968382  "
      ]
     },
     "execution_count": 54,
     "metadata": {},
     "output_type": "execute_result"
    }
   ],
   "source": [
    "# For ease set the index as Indicator\n",
    "livingCost.set_index('Indicator')\n"
   ]
  },
  {
   "cell_type": "markdown",
   "metadata": {},
   "source": [
    " A little cleaning is still required for better visualization, the indicator column will be slightly modified."
   ]
  },
  {
   "cell_type": "code",
   "execution_count": 71,
   "metadata": {},
   "outputs": [
    {
     "data": {
      "text/html": [
       "<div>\n",
       "<style scoped>\n",
       "    .dataframe tbody tr th:only-of-type {\n",
       "        vertical-align: middle;\n",
       "    }\n",
       "\n",
       "    .dataframe tbody tr th {\n",
       "        vertical-align: top;\n",
       "    }\n",
       "\n",
       "    .dataframe thead th {\n",
       "        text-align: right;\n",
       "    }\n",
       "</style>\n",
       "<table border=\"1\" class=\"dataframe\">\n",
       "  <thead>\n",
       "    <tr style=\"text-align: right;\">\n",
       "      <th></th>\n",
       "      <th>Indicator</th>\n",
       "      <th>Nairobi (KSh)</th>\n",
       "      <th>Lagos(KSh)</th>\n",
       "      <th>NairobiLagos(%)</th>\n",
       "      <th>Accra(KSh)</th>\n",
       "      <th>NairobiAccra(%)</th>\n",
       "    </tr>\n",
       "  </thead>\n",
       "  <tbody>\n",
       "    <tr>\n",
       "      <th>0</th>\n",
       "      <td>Meal</td>\n",
       "      <td>500.00</td>\n",
       "      <td>267.05</td>\n",
       "      <td>-46.59</td>\n",
       "      <td>554.51</td>\n",
       "      <td>10.90</td>\n",
       "    </tr>\n",
       "    <tr>\n",
       "      <th>1</th>\n",
       "      <td>Meal for 2</td>\n",
       "      <td>3500.00</td>\n",
       "      <td>4330.49</td>\n",
       "      <td>23.73</td>\n",
       "      <td>3824.19</td>\n",
       "      <td>9.26</td>\n",
       "    </tr>\n",
       "    <tr>\n",
       "      <th>2</th>\n",
       "      <td>Transport</td>\n",
       "      <td>3489.13</td>\n",
       "      <td>2886.99</td>\n",
       "      <td>-17.26</td>\n",
       "      <td>3346.17</td>\n",
       "      <td>-4.10</td>\n",
       "    </tr>\n",
       "  </tbody>\n",
       "</table>\n",
       "</div>"
      ],
      "text/plain": [
       "    Indicator  Nairobi (KSh)  Lagos(KSh)  NairobiLagos(%)  Accra(KSh)  \\\n",
       "0        Meal         500.00      267.05           -46.59      554.51   \n",
       "1  Meal for 2        3500.00     4330.49            23.73     3824.19   \n",
       "2   Transport        3489.13     2886.99           -17.26     3346.17   \n",
       "\n",
       "   NairobiAccra(%)  \n",
       "0            10.90  \n",
       "1             9.26  \n",
       "2            -4.10  "
      ]
     },
     "execution_count": 71,
     "metadata": {},
     "output_type": "execute_result"
    }
   ],
   "source": [
    "newIndicator = ['Meal', 'Meal for 2', 'Transport', 'Basic', 'Internet', 'Gym', 'Rent', 'TOTAL']\n",
    "livingCost['Indicator'] = newIndicator\n",
    "livingCost.head(3)"
   ]
  },
  {
   "cell_type": "code",
   "execution_count": null,
   "metadata": {},
   "outputs": [],
   "source": [
    "# generate histogram\n",
    "df_t.plot(kind='hist', figsize=(10, 6))\n",
    "\n",
    "plt.title('Histogram of Immigration from Denmark, Norway, and Sweden from 1980 - 2013')\n",
    "plt.ylabel('Number of Years')\n",
    "plt.xlabel('Number of Immigrants')\n",
    "\n",
    "plt.show()"
   ]
  },
  {
   "cell_type": "code",
   "execution_count": 72,
   "metadata": {},
   "outputs": [
    {
     "data": {
      "application/vnd.plotly.v1+json": {
       "config": {
        "plotlyServerURL": "https://plot.ly"
       },
       "data": [
        {
         "alignmentgroup": "True",
         "bingroup": "x",
         "histfunc": "sum",
         "hovertemplate": "variable=Nairobi (KSh)<br>Indicator=%{x}<br>sum of value=%{y}<extra></extra>",
         "legendgroup": "Nairobi (KSh)",
         "marker": {
          "color": "#636efa"
         },
         "name": "Nairobi (KSh)",
         "offsetgroup": "Nairobi (KSh)",
         "orientation": "v",
         "showlegend": true,
         "type": "histogram",
         "x": [
          "Meal",
          "Meal for 2",
          "Transport",
          "Basic",
          "Internet",
          "Gym",
          "Rent",
          "TOTAL"
         ],
         "xaxis": "x",
         "y": [
          500,
          3500,
          3489.13,
          4348.98,
          6266.63,
          5310.34,
          19281.25,
          42696.33
         ],
         "yaxis": "y"
        },
        {
         "alignmentgroup": "True",
         "bingroup": "x",
         "histfunc": "sum",
         "hovertemplate": "variable=Lagos(KSh)<br>Indicator=%{x}<br>sum of value=%{y}<extra></extra>",
         "legendgroup": "Lagos(KSh)",
         "marker": {
          "color": "#EF553B"
         },
         "name": "Lagos(KSh)",
         "offsetgroup": "Lagos(KSh)",
         "orientation": "v",
         "showlegend": true,
         "type": "histogram",
         "x": [
          "Meal",
          "Meal for 2",
          "Transport",
          "Basic",
          "Internet",
          "Gym",
          "Rent",
          "TOTAL"
         ],
         "xaxis": "x",
         "y": [
          267.05,
          4330.49,
          2886.99,
          3336.7,
          4575.36,
          5081.1,
          75886.62,
          96364.31
         ],
         "yaxis": "y"
        },
        {
         "alignmentgroup": "True",
         "bingroup": "x",
         "histfunc": "sum",
         "hovertemplate": "variable=Accra(KSh)<br>Indicator=%{x}<br>sum of value=%{y}<extra></extra>",
         "legendgroup": "Accra(KSh)",
         "marker": {
          "color": "#00cc96"
         },
         "name": "Accra(KSh)",
         "offsetgroup": "Accra(KSh)",
         "orientation": "v",
         "showlegend": true,
         "type": "histogram",
         "x": [
          "Meal",
          "Meal for 2",
          "Transport",
          "Basic",
          "Internet",
          "Gym",
          "Rent",
          "TOTAL"
         ],
         "xaxis": "x",
         "y": [
          554.51,
          3824.19,
          3346.17,
          8237.95,
          6028.99,
          6596.74,
          11559.5,
          40148.049999999996
         ],
         "yaxis": "y"
        }
       ],
       "layout": {
        "autosize": true,
        "barmode": "relative",
        "legend": {
         "title": {
          "text": "variable"
         },
         "tracegroupgap": 0
        },
        "template": {
         "data": {
          "bar": [
           {
            "error_x": {
             "color": "#2a3f5f"
            },
            "error_y": {
             "color": "#2a3f5f"
            },
            "marker": {
             "line": {
              "color": "#E5ECF6",
              "width": 0.5
             }
            },
            "type": "bar"
           }
          ],
          "barpolar": [
           {
            "marker": {
             "line": {
              "color": "#E5ECF6",
              "width": 0.5
             }
            },
            "type": "barpolar"
           }
          ],
          "carpet": [
           {
            "aaxis": {
             "endlinecolor": "#2a3f5f",
             "gridcolor": "white",
             "linecolor": "white",
             "minorgridcolor": "white",
             "startlinecolor": "#2a3f5f"
            },
            "baxis": {
             "endlinecolor": "#2a3f5f",
             "gridcolor": "white",
             "linecolor": "white",
             "minorgridcolor": "white",
             "startlinecolor": "#2a3f5f"
            },
            "type": "carpet"
           }
          ],
          "choropleth": [
           {
            "colorbar": {
             "outlinewidth": 0,
             "ticks": ""
            },
            "type": "choropleth"
           }
          ],
          "contour": [
           {
            "colorbar": {
             "outlinewidth": 0,
             "ticks": ""
            },
            "colorscale": [
             [
              0,
              "#0d0887"
             ],
             [
              0.1111111111111111,
              "#46039f"
             ],
             [
              0.2222222222222222,
              "#7201a8"
             ],
             [
              0.3333333333333333,
              "#9c179e"
             ],
             [
              0.4444444444444444,
              "#bd3786"
             ],
             [
              0.5555555555555556,
              "#d8576b"
             ],
             [
              0.6666666666666666,
              "#ed7953"
             ],
             [
              0.7777777777777778,
              "#fb9f3a"
             ],
             [
              0.8888888888888888,
              "#fdca26"
             ],
             [
              1,
              "#f0f921"
             ]
            ],
            "type": "contour"
           }
          ],
          "contourcarpet": [
           {
            "colorbar": {
             "outlinewidth": 0,
             "ticks": ""
            },
            "type": "contourcarpet"
           }
          ],
          "heatmap": [
           {
            "colorbar": {
             "outlinewidth": 0,
             "ticks": ""
            },
            "colorscale": [
             [
              0,
              "#0d0887"
             ],
             [
              0.1111111111111111,
              "#46039f"
             ],
             [
              0.2222222222222222,
              "#7201a8"
             ],
             [
              0.3333333333333333,
              "#9c179e"
             ],
             [
              0.4444444444444444,
              "#bd3786"
             ],
             [
              0.5555555555555556,
              "#d8576b"
             ],
             [
              0.6666666666666666,
              "#ed7953"
             ],
             [
              0.7777777777777778,
              "#fb9f3a"
             ],
             [
              0.8888888888888888,
              "#fdca26"
             ],
             [
              1,
              "#f0f921"
             ]
            ],
            "type": "heatmap"
           }
          ],
          "heatmapgl": [
           {
            "colorbar": {
             "outlinewidth": 0,
             "ticks": ""
            },
            "colorscale": [
             [
              0,
              "#0d0887"
             ],
             [
              0.1111111111111111,
              "#46039f"
             ],
             [
              0.2222222222222222,
              "#7201a8"
             ],
             [
              0.3333333333333333,
              "#9c179e"
             ],
             [
              0.4444444444444444,
              "#bd3786"
             ],
             [
              0.5555555555555556,
              "#d8576b"
             ],
             [
              0.6666666666666666,
              "#ed7953"
             ],
             [
              0.7777777777777778,
              "#fb9f3a"
             ],
             [
              0.8888888888888888,
              "#fdca26"
             ],
             [
              1,
              "#f0f921"
             ]
            ],
            "type": "heatmapgl"
           }
          ],
          "histogram": [
           {
            "marker": {
             "colorbar": {
              "outlinewidth": 0,
              "ticks": ""
             }
            },
            "type": "histogram"
           }
          ],
          "histogram2d": [
           {
            "colorbar": {
             "outlinewidth": 0,
             "ticks": ""
            },
            "colorscale": [
             [
              0,
              "#0d0887"
             ],
             [
              0.1111111111111111,
              "#46039f"
             ],
             [
              0.2222222222222222,
              "#7201a8"
             ],
             [
              0.3333333333333333,
              "#9c179e"
             ],
             [
              0.4444444444444444,
              "#bd3786"
             ],
             [
              0.5555555555555556,
              "#d8576b"
             ],
             [
              0.6666666666666666,
              "#ed7953"
             ],
             [
              0.7777777777777778,
              "#fb9f3a"
             ],
             [
              0.8888888888888888,
              "#fdca26"
             ],
             [
              1,
              "#f0f921"
             ]
            ],
            "type": "histogram2d"
           }
          ],
          "histogram2dcontour": [
           {
            "colorbar": {
             "outlinewidth": 0,
             "ticks": ""
            },
            "colorscale": [
             [
              0,
              "#0d0887"
             ],
             [
              0.1111111111111111,
              "#46039f"
             ],
             [
              0.2222222222222222,
              "#7201a8"
             ],
             [
              0.3333333333333333,
              "#9c179e"
             ],
             [
              0.4444444444444444,
              "#bd3786"
             ],
             [
              0.5555555555555556,
              "#d8576b"
             ],
             [
              0.6666666666666666,
              "#ed7953"
             ],
             [
              0.7777777777777778,
              "#fb9f3a"
             ],
             [
              0.8888888888888888,
              "#fdca26"
             ],
             [
              1,
              "#f0f921"
             ]
            ],
            "type": "histogram2dcontour"
           }
          ],
          "mesh3d": [
           {
            "colorbar": {
             "outlinewidth": 0,
             "ticks": ""
            },
            "type": "mesh3d"
           }
          ],
          "parcoords": [
           {
            "line": {
             "colorbar": {
              "outlinewidth": 0,
              "ticks": ""
             }
            },
            "type": "parcoords"
           }
          ],
          "pie": [
           {
            "automargin": true,
            "type": "pie"
           }
          ],
          "scatter": [
           {
            "marker": {
             "colorbar": {
              "outlinewidth": 0,
              "ticks": ""
             }
            },
            "type": "scatter"
           }
          ],
          "scatter3d": [
           {
            "line": {
             "colorbar": {
              "outlinewidth": 0,
              "ticks": ""
             }
            },
            "marker": {
             "colorbar": {
              "outlinewidth": 0,
              "ticks": ""
             }
            },
            "type": "scatter3d"
           }
          ],
          "scattercarpet": [
           {
            "marker": {
             "colorbar": {
              "outlinewidth": 0,
              "ticks": ""
             }
            },
            "type": "scattercarpet"
           }
          ],
          "scattergeo": [
           {
            "marker": {
             "colorbar": {
              "outlinewidth": 0,
              "ticks": ""
             }
            },
            "type": "scattergeo"
           }
          ],
          "scattergl": [
           {
            "marker": {
             "colorbar": {
              "outlinewidth": 0,
              "ticks": ""
             }
            },
            "type": "scattergl"
           }
          ],
          "scattermapbox": [
           {
            "marker": {
             "colorbar": {
              "outlinewidth": 0,
              "ticks": ""
             }
            },
            "type": "scattermapbox"
           }
          ],
          "scatterpolar": [
           {
            "marker": {
             "colorbar": {
              "outlinewidth": 0,
              "ticks": ""
             }
            },
            "type": "scatterpolar"
           }
          ],
          "scatterpolargl": [
           {
            "marker": {
             "colorbar": {
              "outlinewidth": 0,
              "ticks": ""
             }
            },
            "type": "scatterpolargl"
           }
          ],
          "scatterternary": [
           {
            "marker": {
             "colorbar": {
              "outlinewidth": 0,
              "ticks": ""
             }
            },
            "type": "scatterternary"
           }
          ],
          "surface": [
           {
            "colorbar": {
             "outlinewidth": 0,
             "ticks": ""
            },
            "colorscale": [
             [
              0,
              "#0d0887"
             ],
             [
              0.1111111111111111,
              "#46039f"
             ],
             [
              0.2222222222222222,
              "#7201a8"
             ],
             [
              0.3333333333333333,
              "#9c179e"
             ],
             [
              0.4444444444444444,
              "#bd3786"
             ],
             [
              0.5555555555555556,
              "#d8576b"
             ],
             [
              0.6666666666666666,
              "#ed7953"
             ],
             [
              0.7777777777777778,
              "#fb9f3a"
             ],
             [
              0.8888888888888888,
              "#fdca26"
             ],
             [
              1,
              "#f0f921"
             ]
            ],
            "type": "surface"
           }
          ],
          "table": [
           {
            "cells": {
             "fill": {
              "color": "#EBF0F8"
             },
             "line": {
              "color": "white"
             }
            },
            "header": {
             "fill": {
              "color": "#C8D4E3"
             },
             "line": {
              "color": "white"
             }
            },
            "type": "table"
           }
          ]
         },
         "layout": {
          "annotationdefaults": {
           "arrowcolor": "#2a3f5f",
           "arrowhead": 0,
           "arrowwidth": 1
          },
          "autotypenumbers": "strict",
          "coloraxis": {
           "colorbar": {
            "outlinewidth": 0,
            "ticks": ""
           }
          },
          "colorscale": {
           "diverging": [
            [
             0,
             "#8e0152"
            ],
            [
             0.1,
             "#c51b7d"
            ],
            [
             0.2,
             "#de77ae"
            ],
            [
             0.3,
             "#f1b6da"
            ],
            [
             0.4,
             "#fde0ef"
            ],
            [
             0.5,
             "#f7f7f7"
            ],
            [
             0.6,
             "#e6f5d0"
            ],
            [
             0.7,
             "#b8e186"
            ],
            [
             0.8,
             "#7fbc41"
            ],
            [
             0.9,
             "#4d9221"
            ],
            [
             1,
             "#276419"
            ]
           ],
           "sequential": [
            [
             0,
             "#0d0887"
            ],
            [
             0.1111111111111111,
             "#46039f"
            ],
            [
             0.2222222222222222,
             "#7201a8"
            ],
            [
             0.3333333333333333,
             "#9c179e"
            ],
            [
             0.4444444444444444,
             "#bd3786"
            ],
            [
             0.5555555555555556,
             "#d8576b"
            ],
            [
             0.6666666666666666,
             "#ed7953"
            ],
            [
             0.7777777777777778,
             "#fb9f3a"
            ],
            [
             0.8888888888888888,
             "#fdca26"
            ],
            [
             1,
             "#f0f921"
            ]
           ],
           "sequentialminus": [
            [
             0,
             "#0d0887"
            ],
            [
             0.1111111111111111,
             "#46039f"
            ],
            [
             0.2222222222222222,
             "#7201a8"
            ],
            [
             0.3333333333333333,
             "#9c179e"
            ],
            [
             0.4444444444444444,
             "#bd3786"
            ],
            [
             0.5555555555555556,
             "#d8576b"
            ],
            [
             0.6666666666666666,
             "#ed7953"
            ],
            [
             0.7777777777777778,
             "#fb9f3a"
            ],
            [
             0.8888888888888888,
             "#fdca26"
            ],
            [
             1,
             "#f0f921"
            ]
           ]
          },
          "colorway": [
           "#636efa",
           "#EF553B",
           "#00cc96",
           "#ab63fa",
           "#FFA15A",
           "#19d3f3",
           "#FF6692",
           "#B6E880",
           "#FF97FF",
           "#FECB52"
          ],
          "font": {
           "color": "#2a3f5f"
          },
          "geo": {
           "bgcolor": "white",
           "lakecolor": "white",
           "landcolor": "#E5ECF6",
           "showlakes": true,
           "showland": true,
           "subunitcolor": "white"
          },
          "hoverlabel": {
           "align": "left"
          },
          "hovermode": "closest",
          "mapbox": {
           "style": "light"
          },
          "paper_bgcolor": "white",
          "plot_bgcolor": "#E5ECF6",
          "polar": {
           "angularaxis": {
            "gridcolor": "white",
            "linecolor": "white",
            "ticks": ""
           },
           "bgcolor": "#E5ECF6",
           "radialaxis": {
            "gridcolor": "white",
            "linecolor": "white",
            "ticks": ""
           }
          },
          "scene": {
           "xaxis": {
            "backgroundcolor": "#E5ECF6",
            "gridcolor": "white",
            "gridwidth": 2,
            "linecolor": "white",
            "showbackground": true,
            "ticks": "",
            "zerolinecolor": "white"
           },
           "yaxis": {
            "backgroundcolor": "#E5ECF6",
            "gridcolor": "white",
            "gridwidth": 2,
            "linecolor": "white",
            "showbackground": true,
            "ticks": "",
            "zerolinecolor": "white"
           },
           "zaxis": {
            "backgroundcolor": "#E5ECF6",
            "gridcolor": "white",
            "gridwidth": 2,
            "linecolor": "white",
            "showbackground": true,
            "ticks": "",
            "zerolinecolor": "white"
           }
          },
          "shapedefaults": {
           "line": {
            "color": "#2a3f5f"
           }
          },
          "ternary": {
           "aaxis": {
            "gridcolor": "white",
            "linecolor": "white",
            "ticks": ""
           },
           "baxis": {
            "gridcolor": "white",
            "linecolor": "white",
            "ticks": ""
           },
           "bgcolor": "#E5ECF6",
           "caxis": {
            "gridcolor": "white",
            "linecolor": "white",
            "ticks": ""
           }
          },
          "title": {
           "x": 0.05
          },
          "xaxis": {
           "automargin": true,
           "gridcolor": "white",
           "linecolor": "white",
           "ticks": "",
           "title": {
            "standoff": 15
           },
           "zerolinecolor": "white",
           "zerolinewidth": 2
          },
          "yaxis": {
           "automargin": true,
           "gridcolor": "white",
           "linecolor": "white",
           "ticks": "",
           "title": {
            "standoff": 15
           },
           "zerolinecolor": "white",
           "zerolinewidth": 2
          }
         }
        },
        "title": {
         "text": "Histogram of Nairobi, Lagos and Accra Living Costs"
        },
        "xaxis": {
         "anchor": "y",
         "autorange": true,
         "domain": [
          0,
          1
         ],
         "range": [
          -0.5,
          7.5
         ],
         "title": {
          "text": "Indicator"
         },
         "type": "category"
        },
        "yaxis": {
         "anchor": "x",
         "autorange": true,
         "domain": [
          0,
          1
         ],
         "range": [
          0,
          188640.72631578948
         ],
         "title": {
          "text": "sum of value"
         },
         "type": "linear"
        }
       }
      },
      "image/png": "[encoded data removed]",
      "text/html": [
       "<div>                            <div id=\"b3242832-ded1-4e12-8915-937837e2c3e4\" class=\"plotly-graph-div\" style=\"height:525px; width:100%;\"></div>            <script type=\"text/javascript\">                require([\"plotly\"], function(Plotly) {                    window.PLOTLYENV=window.PLOTLYENV || {};                                    if (document.getElementById(\"b3242832-ded1-4e12-8915-937837e2c3e4\")) {                    Plotly.newPlot(                        \"b3242832-ded1-4e12-8915-937837e2c3e4\",                        [{\"alignmentgroup\": \"True\", \"bingroup\": \"x\", \"histfunc\": \"sum\", \"hovertemplate\": \"variable=Nairobi (KSh)<br>Indicator=%{x}<br>sum of value=%{y}<extra></extra>\", \"legendgroup\": \"Nairobi (KSh)\", \"marker\": {\"color\": \"#636efa\"}, \"name\": \"Nairobi (KSh)\", \"offsetgroup\": \"Nairobi (KSh)\", \"orientation\": \"v\", \"showlegend\": true, \"type\": \"histogram\", \"x\": [\"Meal\", \"Meal for 2\", \"Transport\", \"Basic\", \"Internet\", \"Gym\", \"Rent\", \"TOTAL\"], \"xaxis\": \"x\", \"y\": [500.0, 3500.0, 3489.13, 4348.98, 6266.63, 5310.34, 19281.25, 42696.33], \"yaxis\": \"y\"}, {\"alignmentgroup\": \"True\", \"bingroup\": \"x\", \"histfunc\": \"sum\", \"hovertemplate\": \"variable=Lagos(KSh)<br>Indicator=%{x}<br>sum of value=%{y}<extra></extra>\", \"legendgroup\": \"Lagos(KSh)\", \"marker\": {\"color\": \"#EF553B\"}, \"name\": \"Lagos(KSh)\", \"offsetgroup\": \"Lagos(KSh)\", \"orientation\": \"v\", \"showlegend\": true, \"type\": \"histogram\", \"x\": [\"Meal\", \"Meal for 2\", \"Transport\", \"Basic\", \"Internet\", \"Gym\", \"Rent\", \"TOTAL\"], \"xaxis\": \"x\", \"y\": [267.05, 4330.49, 2886.99, 3336.7, 4575.36, 5081.1, 75886.62, 96364.31], \"yaxis\": \"y\"}, {\"alignmentgroup\": \"True\", \"bingroup\": \"x\", \"histfunc\": \"sum\", \"hovertemplate\": \"variable=Accra(KSh)<br>Indicator=%{x}<br>sum of value=%{y}<extra></extra>\", \"legendgroup\": \"Accra(KSh)\", \"marker\": {\"color\": \"#00cc96\"}, \"name\": \"Accra(KSh)\", \"offsetgroup\": \"Accra(KSh)\", \"orientation\": \"v\", \"showlegend\": true, \"type\": \"histogram\", \"x\": [\"Meal\", \"Meal for 2\", \"Transport\", \"Basic\", \"Internet\", \"Gym\", \"Rent\", \"TOTAL\"], \"xaxis\": \"x\", \"y\": [554.51, 3824.19, 3346.17, 8237.95, 6028.99, 6596.74, 11559.5, 40148.049999999996], \"yaxis\": \"y\"}],                        {\"barmode\": \"relative\", \"legend\": {\"title\": {\"text\": \"variable\"}, \"tracegroupgap\": 0}, \"template\": {\"data\": {\"bar\": [{\"error_x\": {\"color\": \"#2a3f5f\"}, \"error_y\": {\"color\": \"#2a3f5f\"}, \"marker\": {\"line\": {\"color\": \"#E5ECF6\", \"width\": 0.5}}, \"type\": \"bar\"}], \"barpolar\": [{\"marker\": {\"line\": {\"color\": \"#E5ECF6\", \"width\": 0.5}}, \"type\": \"barpolar\"}], \"carpet\": [{\"aaxis\": {\"endlinecolor\": \"#2a3f5f\", \"gridcolor\": \"white\", \"linecolor\": \"white\", \"minorgridcolor\": \"white\", \"startlinecolor\": \"#2a3f5f\"}, \"baxis\": {\"endlinecolor\": \"#2a3f5f\", \"gridcolor\": \"white\", \"linecolor\": \"white\", \"minorgridcolor\": \"white\", \"startlinecolor\": \"#2a3f5f\"}, \"type\": \"carpet\"}], \"choropleth\": [{\"colorbar\": {\"outlinewidth\": 0, \"ticks\": \"\"}, \"type\": \"choropleth\"}], \"contour\": [{\"colorbar\": {\"outlinewidth\": 0, \"ticks\": \"\"}, \"colorscale\": [[0.0, \"#0d0887\"], [0.1111111111111111, \"#46039f\"], [0.2222222222222222, \"#7201a8\"], [0.3333333333333333, \"#9c179e\"], [0.4444444444444444, \"#bd3786\"], [0.5555555555555556, \"#d8576b\"], [0.6666666666666666, \"#ed7953\"], [0.7777777777777778, \"#fb9f3a\"], [0.8888888888888888, \"#fdca26\"], [1.0, \"#f0f921\"]], \"type\": \"contour\"}], \"contourcarpet\": [{\"colorbar\": {\"outlinewidth\": 0, \"ticks\": \"\"}, \"type\": \"contourcarpet\"}], \"heatmap\": [{\"colorbar\": {\"outlinewidth\": 0, \"ticks\": \"\"}, \"colorscale\": [[0.0, \"#0d0887\"], [0.1111111111111111, \"#46039f\"], [0.2222222222222222, \"#7201a8\"], [0.3333333333333333, \"#9c179e\"], [0.4444444444444444, \"#bd3786\"], [0.5555555555555556, \"#d8576b\"], [0.6666666666666666, \"#ed7953\"], [0.7777777777777778, \"#fb9f3a\"], [0.8888888888888888, \"#fdca26\"], [1.0, \"#f0f921\"]], \"type\": \"heatmap\"}], \"heatmapgl\": [{\"colorbar\": {\"outlinewidth\": 0, \"ticks\": \"\"}, \"colorscale\": [[0.0, \"#0d0887\"], [0.1111111111111111, \"#46039f\"], [0.2222222222222222, \"#7201a8\"], [0.3333333333333333, \"#9c179e\"], [0.4444444444444444, \"#bd3786\"], [0.5555555555555556, \"#d8576b\"], [0.6666666666666666, \"#ed7953\"], [0.7777777777777778, \"#fb9f3a\"], [0.8888888888888888, \"#fdca26\"], [1.0, \"#f0f921\"]], \"type\": \"heatmapgl\"}], \"histogram\": [{\"marker\": {\"colorbar\": {\"outlinewidth\": 0, \"ticks\": \"\"}}, \"type\": \"histogram\"}], \"histogram2d\": [{\"colorbar\": {\"outlinewidth\": 0, \"ticks\": \"\"}, \"colorscale\": [[0.0, \"#0d0887\"], [0.1111111111111111, \"#46039f\"], [0.2222222222222222, \"#7201a8\"], [0.3333333333333333, \"#9c179e\"], [0.4444444444444444, \"#bd3786\"], [0.5555555555555556, \"#d8576b\"], [0.6666666666666666, \"#ed7953\"], [0.7777777777777778, \"#fb9f3a\"], [0.8888888888888888, \"#fdca26\"], [1.0, \"#f0f921\"]], \"type\": \"histogram2d\"}], \"histogram2dcontour\": [{\"colorbar\": {\"outlinewidth\": 0, \"ticks\": \"\"}, \"colorscale\": [[0.0, \"#0d0887\"], [0.1111111111111111, \"#46039f\"], [0.2222222222222222, \"#7201a8\"], [0.3333333333333333, \"#9c179e\"], [0.4444444444444444, \"#bd3786\"], [0.5555555555555556, \"#d8576b\"], [0.6666666666666666, \"#ed7953\"], [0.7777777777777778, \"#fb9f3a\"], [0.8888888888888888, \"#fdca26\"], [1.0, \"#f0f921\"]], \"type\": \"histogram2dcontour\"}], \"mesh3d\": [{\"colorbar\": {\"outlinewidth\": 0, \"ticks\": \"\"}, \"type\": \"mesh3d\"}], \"parcoords\": [{\"line\": {\"colorbar\": {\"outlinewidth\": 0, \"ticks\": \"\"}}, \"type\": \"parcoords\"}], \"pie\": [{\"automargin\": true, \"type\": \"pie\"}], \"scatter\": [{\"marker\": {\"colorbar\": {\"outlinewidth\": 0, \"ticks\": \"\"}}, \"type\": \"scatter\"}], \"scatter3d\": [{\"line\": {\"colorbar\": {\"outlinewidth\": 0, \"ticks\": \"\"}}, \"marker\": {\"colorbar\": {\"outlinewidth\": 0, \"ticks\": \"\"}}, \"type\": \"scatter3d\"}], \"scattercarpet\": [{\"marker\": {\"colorbar\": {\"outlinewidth\": 0, \"ticks\": \"\"}}, \"type\": \"scattercarpet\"}], \"scattergeo\": [{\"marker\": {\"colorbar\": {\"outlinewidth\": 0, \"ticks\": \"\"}}, \"type\": \"scattergeo\"}], \"scattergl\": [{\"marker\": {\"colorbar\": {\"outlinewidth\": 0, \"ticks\": \"\"}}, \"type\": \"scattergl\"}], \"scattermapbox\": [{\"marker\": {\"colorbar\": {\"outlinewidth\": 0, \"ticks\": \"\"}}, \"type\": \"scattermapbox\"}], \"scatterpolar\": [{\"marker\": {\"colorbar\": {\"outlinewidth\": 0, \"ticks\": \"\"}}, \"type\": \"scatterpolar\"}], \"scatterpolargl\": [{\"marker\": {\"colorbar\": {\"outlinewidth\": 0, \"ticks\": \"\"}}, \"type\": \"scatterpolargl\"}], \"scatterternary\": [{\"marker\": {\"colorbar\": {\"outlinewidth\": 0, \"ticks\": \"\"}}, \"type\": \"scatterternary\"}], \"surface\": [{\"colorbar\": {\"outlinewidth\": 0, \"ticks\": \"\"}, \"colorscale\": [[0.0, \"#0d0887\"], [0.1111111111111111, \"#46039f\"], [0.2222222222222222, \"#7201a8\"], [0.3333333333333333, \"#9c179e\"], [0.4444444444444444, \"#bd3786\"], [0.5555555555555556, \"#d8576b\"], [0.6666666666666666, \"#ed7953\"], [0.7777777777777778, \"#fb9f3a\"], [0.8888888888888888, \"#fdca26\"], [1.0, \"#f0f921\"]], \"type\": \"surface\"}], \"table\": [{\"cells\": {\"fill\": {\"color\": \"#EBF0F8\"}, \"line\": {\"color\": \"white\"}}, \"header\": {\"fill\": {\"color\": \"#C8D4E3\"}, \"line\": {\"color\": \"white\"}}, \"type\": \"table\"}]}, \"layout\": {\"annotationdefaults\": {\"arrowcolor\": \"#2a3f5f\", \"arrowhead\": 0, \"arrowwidth\": 1}, \"autotypenumbers\": \"strict\", \"coloraxis\": {\"colorbar\": {\"outlinewidth\": 0, \"ticks\": \"\"}}, \"colorscale\": {\"diverging\": [[0, \"#8e0152\"], [0.1, \"#c51b7d\"], [0.2, \"#de77ae\"], [0.3, \"#f1b6da\"], [0.4, \"#fde0ef\"], [0.5, \"#f7f7f7\"], [0.6, \"#e6f5d0\"], [0.7, \"#b8e186\"], [0.8, \"#7fbc41\"], [0.9, \"#4d9221\"], [1, \"#276419\"]], \"sequential\": [[0.0, \"#0d0887\"], [0.1111111111111111, \"#46039f\"], [0.2222222222222222, \"#7201a8\"], [0.3333333333333333, \"#9c179e\"], [0.4444444444444444, \"#bd3786\"], [0.5555555555555556, \"#d8576b\"], [0.6666666666666666, \"#ed7953\"], [0.7777777777777778, \"#fb9f3a\"], [0.8888888888888888, \"#fdca26\"], [1.0, \"#f0f921\"]], \"sequentialminus\": [[0.0, \"#0d0887\"], [0.1111111111111111, \"#46039f\"], [0.2222222222222222, \"#7201a8\"], [0.3333333333333333, \"#9c179e\"], [0.4444444444444444, \"#bd3786\"], [0.5555555555555556, \"#d8576b\"], [0.6666666666666666, \"#ed7953\"], [0.7777777777777778, \"#fb9f3a\"], [0.8888888888888888, \"#fdca26\"], [1.0, \"#f0f921\"]]}, \"colorway\": [\"#636efa\", \"#EF553B\", \"#00cc96\", \"#ab63fa\", \"#FFA15A\", \"#19d3f3\", \"#FF6692\", \"#B6E880\", \"#FF97FF\", \"#FECB52\"], \"font\": {\"color\": \"#2a3f5f\"}, \"geo\": {\"bgcolor\": \"white\", \"lakecolor\": \"white\", \"landcolor\": \"#E5ECF6\", \"showlakes\": true, \"showland\": true, \"subunitcolor\": \"white\"}, \"hoverlabel\": {\"align\": \"left\"}, \"hovermode\": \"closest\", \"mapbox\": {\"style\": \"light\"}, \"paper_bgcolor\": \"white\", \"plot_bgcolor\": \"#E5ECF6\", \"polar\": {\"angularaxis\": {\"gridcolor\": \"white\", \"linecolor\": \"white\", \"ticks\": \"\"}, \"bgcolor\": \"#E5ECF6\", \"radialaxis\": {\"gridcolor\": \"white\", \"linecolor\": \"white\", \"ticks\": \"\"}}, \"scene\": {\"xaxis\": {\"backgroundcolor\": \"#E5ECF6\", \"gridcolor\": \"white\", \"gridwidth\": 2, \"linecolor\": \"white\", \"showbackground\": true, \"ticks\": \"\", \"zerolinecolor\": \"white\"}, \"yaxis\": {\"backgroundcolor\": \"#E5ECF6\", \"gridcolor\": \"white\", \"gridwidth\": 2, \"linecolor\": \"white\", \"showbackground\": true, \"ticks\": \"\", \"zerolinecolor\": \"white\"}, \"zaxis\": {\"backgroundcolor\": \"#E5ECF6\", \"gridcolor\": \"white\", \"gridwidth\": 2, \"linecolor\": \"white\", \"showbackground\": true, \"ticks\": \"\", \"zerolinecolor\": \"white\"}}, \"shapedefaults\": {\"line\": {\"color\": \"#2a3f5f\"}}, \"ternary\": {\"aaxis\": {\"gridcolor\": \"white\", \"linecolor\": \"white\", \"ticks\": \"\"}, \"baxis\": {\"gridcolor\": \"white\", \"linecolor\": \"white\", \"ticks\": \"\"}, \"bgcolor\": \"#E5ECF6\", \"caxis\": {\"gridcolor\": \"white\", \"linecolor\": \"white\", \"ticks\": \"\"}}, \"title\": {\"x\": 0.05}, \"xaxis\": {\"automargin\": true, \"gridcolor\": \"white\", \"linecolor\": \"white\", \"ticks\": \"\", \"title\": {\"standoff\": 15}, \"zerolinecolor\": \"white\", \"zerolinewidth\": 2}, \"yaxis\": {\"automargin\": true, \"gridcolor\": \"white\", \"linecolor\": \"white\", \"ticks\": \"\", \"title\": {\"standoff\": 15}, \"zerolinecolor\": \"white\", \"zerolinewidth\": 2}}}, \"title\": {\"text\": \"Histogram of Nairobi, Lagos and Accra Living Costs\"}, \"xaxis\": {\"anchor\": \"y\", \"domain\": [0.0, 1.0], \"title\": {\"text\": \"Indicator\"}}, \"yaxis\": {\"anchor\": \"x\", \"domain\": [0.0, 1.0], \"title\": {\"text\": \"sum of value\"}}},                        {\"responsive\": true}                    ).then(function(){\n",
       "                            \n",
       "var gd = document.getElementById('b3242832-ded1-4e12-8915-937837e2c3e4');\n",
       "var x = new MutationObserver(function (mutations, observer) {{\n",
       "        var display = window.getComputedStyle(gd).display;\n",
       "        if (!display || display === 'none') {{\n",
       "            console.log([gd, 'removed!']);\n",
       "            Plotly.purge(gd);\n",
       "            observer.disconnect();\n",
       "        }}\n",
       "}});\n",
       "\n",
       "// Listen for the removal of the full notebook cells\n",
       "var notebookContainer = gd.closest('#notebook-container');\n",
       "if (notebookContainer) {{\n",
       "    x.observe(notebookContainer, {childList: true});\n",
       "}}\n",
       "\n",
       "// Listen for the clearing of the current output cell\n",
       "var outputEl = gd.closest('.output');\n",
       "if (outputEl) {{\n",
       "    x.observe(outputEl, {childList: true});\n",
       "}}\n",
       "\n",
       "                        })                };                });            </script>        </div>"
      ]
     },
     "metadata": {},
     "output_type": "display_data"
    },
    {
     "data": {
      "text/plain": [
       "<Figure size 1440x432 with 0 Axes>"
      ]
     },
     "metadata": {},
     "output_type": "display_data"
    }
   ],
   "source": [
    "# Create approprite dataframes with price and percent difference columns seeperated\n",
    "df_price = livingCost[['Nairobi (KSh)', 'Lagos(KSh)', 'Accra(KSh)']]\n",
    "df_diff = livingCost[['NairobiLagos(%)', 'NairobiAccra(%)']]\n",
    "\n",
    "# Plot the figure\n",
    "\n",
    "# Subplot 1: Box plot\n",
    "fig1= px.histogram(livingCost, x='Indicator', y=['Nairobi (KSh)', 'Lagos(KSh)', 'Accra(KSh)'], title='Histogram of Nairobi, Lagos and Accra Living Costs') \n",
    "\n",
    "plt.figure(figsize=(20, 6))\n",
    "\n",
    "fig1.show()"
   ]
  },
  {
   "cell_type": "markdown",
   "metadata": {},
   "source": [
    "Removing the total and rent rows to get a better view of the individual changes:"
   ]
  },
  {
   "cell_type": "code",
   "execution_count": 79,
   "metadata": {},
   "outputs": [
    {
     "data": {
      "application/vnd.plotly.v1+json": {
       "config": {
        "plotlyServerURL": "https://plot.ly"
       },
       "data": [
        {
         "alignmentgroup": "True",
         "hovertemplate": "variable=Nairobi (KSh)<br>Indicator=%{x}<br>value=%{y}<extra></extra>",
         "legendgroup": "Nairobi (KSh)",
         "marker": {
          "color": "#636efa"
         },
         "name": "Nairobi (KSh)",
         "offsetgroup": "Nairobi (KSh)",
         "orientation": "v",
         "showlegend": true,
         "textposition": "auto",
         "type": "bar",
         "x": [
          "Meal",
          "Meal for 2",
          "Transport",
          "Basic",
          "Internet",
          "Gym"
         ],
         "xaxis": "x",
         "y": [
          500,
          3500,
          3489.13,
          4348.98,
          6266.63,
          5310.34
         ],
         "yaxis": "y"
        },
        {
         "alignmentgroup": "True",
         "hovertemplate": "variable=Lagos(KSh)<br>Indicator=%{x}<br>value=%{y}<extra></extra>",
         "legendgroup": "Lagos(KSh)",
         "marker": {
          "color": "#EF553B"
         },
         "name": "Lagos(KSh)",
         "offsetgroup": "Lagos(KSh)",
         "orientation": "v",
         "showlegend": true,
         "textposition": "auto",
         "type": "bar",
         "x": [
          "Meal",
          "Meal for 2",
          "Transport",
          "Basic",
          "Internet",
          "Gym"
         ],
         "xaxis": "x",
         "y": [
          267.05,
          4330.49,
          2886.99,
          3336.7,
          4575.36,
          5081.1
         ],
         "yaxis": "y"
        },
        {
         "alignmentgroup": "True",
         "hovertemplate": "variable=Accra(KSh)<br>Indicator=%{x}<br>value=%{y}<extra></extra>",
         "legendgroup": "Accra(KSh)",
         "marker": {
          "color": "#00cc96"
         },
         "name": "Accra(KSh)",
         "offsetgroup": "Accra(KSh)",
         "orientation": "v",
         "showlegend": true,
         "textposition": "auto",
         "type": "bar",
         "x": [
          "Meal",
          "Meal for 2",
          "Transport",
          "Basic",
          "Internet",
          "Gym"
         ],
         "xaxis": "x",
         "y": [
          554.51,
          3824.19,
          3346.17,
          8237.95,
          6028.99,
          6596.74
         ],
         "yaxis": "y"
        }
       ],
       "layout": {
        "autosize": true,
        "barmode": "relative",
        "legend": {
         "title": {
          "text": "variable"
         },
         "tracegroupgap": 0
        },
        "template": {
         "data": {
          "bar": [
           {
            "error_x": {
             "color": "#2a3f5f"
            },
            "error_y": {
             "color": "#2a3f5f"
            },
            "marker": {
             "line": {
              "color": "#E5ECF6",
              "width": 0.5
             }
            },
            "type": "bar"
           }
          ],
          "barpolar": [
           {
            "marker": {
             "line": {
              "color": "#E5ECF6",
              "width": 0.5
             }
            },
            "type": "barpolar"
           }
          ],
          "carpet": [
           {
            "aaxis": {
             "endlinecolor": "#2a3f5f",
             "gridcolor": "white",
             "linecolor": "white",
             "minorgridcolor": "white",
             "startlinecolor": "#2a3f5f"
            },
            "baxis": {
             "endlinecolor": "#2a3f5f",
             "gridcolor": "white",
             "linecolor": "white",
             "minorgridcolor": "white",
             "startlinecolor": "#2a3f5f"
            },
            "type": "carpet"
           }
          ],
          "choropleth": [
           {
            "colorbar": {
             "outlinewidth": 0,
             "ticks": ""
            },
            "type": "choropleth"
           }
          ],
          "contour": [
           {
            "colorbar": {
             "outlinewidth": 0,
             "ticks": ""
            },
            "colorscale": [
             [
              0,
              "#0d0887"
             ],
             [
              0.1111111111111111,
              "#46039f"
             ],
             [
              0.2222222222222222,
              "#7201a8"
             ],
             [
              0.3333333333333333,
              "#9c179e"
             ],
             [
              0.4444444444444444,
              "#bd3786"
             ],
             [
              0.5555555555555556,
              "#d8576b"
             ],
             [
              0.6666666666666666,
              "#ed7953"
             ],
             [
              0.7777777777777778,
              "#fb9f3a"
             ],
             [
              0.8888888888888888,
              "#fdca26"
             ],
             [
              1,
              "#f0f921"
             ]
            ],
            "type": "contour"
           }
          ],
          "contourcarpet": [
           {
            "colorbar": {
             "outlinewidth": 0,
             "ticks": ""
            },
            "type": "contourcarpet"
           }
          ],
          "heatmap": [
           {
            "colorbar": {
             "outlinewidth": 0,
             "ticks": ""
            },
            "colorscale": [
             [
              0,
              "#0d0887"
             ],
             [
              0.1111111111111111,
              "#46039f"
             ],
             [
              0.2222222222222222,
              "#7201a8"
             ],
             [
              0.3333333333333333,
              "#9c179e"
             ],
             [
              0.4444444444444444,
              "#bd3786"
             ],
             [
              0.5555555555555556,
              "#d8576b"
             ],
             [
              0.6666666666666666,
              "#ed7953"
             ],
             [
              0.7777777777777778,
              "#fb9f3a"
             ],
             [
              0.8888888888888888,
              "#fdca26"
             ],
             [
              1,
              "#f0f921"
             ]
            ],
            "type": "heatmap"
           }
          ],
          "heatmapgl": [
           {
            "colorbar": {
             "outlinewidth": 0,
             "ticks": ""
            },
            "colorscale": [
             [
              0,
              "#0d0887"
             ],
             [
              0.1111111111111111,
              "#46039f"
             ],
             [
              0.2222222222222222,
              "#7201a8"
             ],
             [
              0.3333333333333333,
              "#9c179e"
             ],
             [
              0.4444444444444444,
              "#bd3786"
             ],
             [
              0.5555555555555556,
              "#d8576b"
             ],
             [
              0.6666666666666666,
              "#ed7953"
             ],
             [
              0.7777777777777778,
              "#fb9f3a"
             ],
             [
              0.8888888888888888,
              "#fdca26"
             ],
             [
              1,
              "#f0f921"
             ]
            ],
            "type": "heatmapgl"
           }
          ],
          "histogram": [
           {
            "marker": {
             "colorbar": {
              "outlinewidth": 0,
              "ticks": ""
             }
            },
            "type": "histogram"
           }
          ],
          "histogram2d": [
           {
            "colorbar": {
             "outlinewidth": 0,
             "ticks": ""
            },
            "colorscale": [
             [
              0,
              "#0d0887"
             ],
             [
              0.1111111111111111,
              "#46039f"
             ],
             [
              0.2222222222222222,
              "#7201a8"
             ],
             [
              0.3333333333333333,
              "#9c179e"
             ],
             [
              0.4444444444444444,
              "#bd3786"
             ],
             [
              0.5555555555555556,
              "#d8576b"
             ],
             [
              0.6666666666666666,
              "#ed7953"
             ],
             [
              0.7777777777777778,
              "#fb9f3a"
             ],
             [
              0.8888888888888888,
              "#fdca26"
             ],
             [
              1,
              "#f0f921"
             ]
            ],
            "type": "histogram2d"
           }
          ],
          "histogram2dcontour": [
           {
            "colorbar": {
             "outlinewidth": 0,
             "ticks": ""
            },
            "colorscale": [
             [
              0,
              "#0d0887"
             ],
             [
              0.1111111111111111,
              "#46039f"
             ],
             [
              0.2222222222222222,
              "#7201a8"
             ],
             [
              0.3333333333333333,
              "#9c179e"
             ],
             [
              0.4444444444444444,
              "#bd3786"
             ],
             [
              0.5555555555555556,
              "#d8576b"
             ],
             [
              0.6666666666666666,
              "#ed7953"
             ],
             [
              0.7777777777777778,
              "#fb9f3a"
             ],
             [
              0.8888888888888888,
              "#fdca26"
             ],
             [
              1,
              "#f0f921"
             ]
            ],
            "type": "histogram2dcontour"
           }
          ],
          "mesh3d": [
           {
            "colorbar": {
             "outlinewidth": 0,
             "ticks": ""
            },
            "type": "mesh3d"
           }
          ],
          "parcoords": [
           {
            "line": {
             "colorbar": {
              "outlinewidth": 0,
              "ticks": ""
             }
            },
            "type": "parcoords"
           }
          ],
          "pie": [
           {
            "automargin": true,
            "type": "pie"
           }
          ],
          "scatter": [
           {
            "marker": {
             "colorbar": {
              "outlinewidth": 0,
              "ticks": ""
             }
            },
            "type": "scatter"
           }
          ],
          "scatter3d": [
           {
            "line": {
             "colorbar": {
              "outlinewidth": 0,
              "ticks": ""
             }
            },
            "marker": {
             "colorbar": {
              "outlinewidth": 0,
              "ticks": ""
             }
            },
            "type": "scatter3d"
           }
          ],
          "scattercarpet": [
           {
            "marker": {
             "colorbar": {
              "outlinewidth": 0,
              "ticks": ""
             }
            },
            "type": "scattercarpet"
           }
          ],
          "scattergeo": [
           {
            "marker": {
             "colorbar": {
              "outlinewidth": 0,
              "ticks": ""
             }
            },
            "type": "scattergeo"
           }
          ],
          "scattergl": [
           {
            "marker": {
             "colorbar": {
              "outlinewidth": 0,
              "ticks": ""
             }
            },
            "type": "scattergl"
           }
          ],
          "scattermapbox": [
           {
            "marker": {
             "colorbar": {
              "outlinewidth": 0,
              "ticks": ""
             }
            },
            "type": "scattermapbox"
           }
          ],
          "scatterpolar": [
           {
            "marker": {
             "colorbar": {
              "outlinewidth": 0,
              "ticks": ""
             }
            },
            "type": "scatterpolar"
           }
          ],
          "scatterpolargl": [
           {
            "marker": {
             "colorbar": {
              "outlinewidth": 0,
              "ticks": ""
             }
            },
            "type": "scatterpolargl"
           }
          ],
          "scatterternary": [
           {
            "marker": {
             "colorbar": {
              "outlinewidth": 0,
              "ticks": ""
             }
            },
            "type": "scatterternary"
           }
          ],
          "surface": [
           {
            "colorbar": {
             "outlinewidth": 0,
             "ticks": ""
            },
            "colorscale": [
             [
              0,
              "#0d0887"
             ],
             [
              0.1111111111111111,
              "#46039f"
             ],
             [
              0.2222222222222222,
              "#7201a8"
             ],
             [
              0.3333333333333333,
              "#9c179e"
             ],
             [
              0.4444444444444444,
              "#bd3786"
             ],
             [
              0.5555555555555556,
              "#d8576b"
             ],
             [
              0.6666666666666666,
              "#ed7953"
             ],
             [
              0.7777777777777778,
              "#fb9f3a"
             ],
             [
              0.8888888888888888,
              "#fdca26"
             ],
             [
              1,
              "#f0f921"
             ]
            ],
            "type": "surface"
           }
          ],
          "table": [
           {
            "cells": {
             "fill": {
              "color": "#EBF0F8"
             },
             "line": {
              "color": "white"
             }
            },
            "header": {
             "fill": {
              "color": "#C8D4E3"
             },
             "line": {
              "color": "white"
             }
            },
            "type": "table"
           }
          ]
         },
         "layout": {
          "annotationdefaults": {
           "arrowcolor": "#2a3f5f",
           "arrowhead": 0,
           "arrowwidth": 1
          },
          "autotypenumbers": "strict",
          "coloraxis": {
           "colorbar": {
            "outlinewidth": 0,
            "ticks": ""
           }
          },
          "colorscale": {
           "diverging": [
            [
             0,
             "#8e0152"
            ],
            [
             0.1,
             "#c51b7d"
            ],
            [
             0.2,
             "#de77ae"
            ],
            [
             0.3,
             "#f1b6da"
            ],
            [
             0.4,
             "#fde0ef"
            ],
            [
             0.5,
             "#f7f7f7"
            ],
            [
             0.6,
             "#e6f5d0"
            ],
            [
             0.7,
             "#b8e186"
            ],
            [
             0.8,
             "#7fbc41"
            ],
            [
             0.9,
             "#4d9221"
            ],
            [
             1,
             "#276419"
            ]
           ],
           "sequential": [
            [
             0,
             "#0d0887"
            ],
            [
             0.1111111111111111,
             "#46039f"
            ],
            [
             0.2222222222222222,
             "#7201a8"
            ],
            [
             0.3333333333333333,
             "#9c179e"
            ],
            [
             0.4444444444444444,
             "#bd3786"
            ],
            [
             0.5555555555555556,
             "#d8576b"
            ],
            [
             0.6666666666666666,
             "#ed7953"
            ],
            [
             0.7777777777777778,
             "#fb9f3a"
            ],
            [
             0.8888888888888888,
             "#fdca26"
            ],
            [
             1,
             "#f0f921"
            ]
           ],
           "sequentialminus": [
            [
             0,
             "#0d0887"
            ],
            [
             0.1111111111111111,
             "#46039f"
            ],
            [
             0.2222222222222222,
             "#7201a8"
            ],
            [
             0.3333333333333333,
             "#9c179e"
            ],
            [
             0.4444444444444444,
             "#bd3786"
            ],
            [
             0.5555555555555556,
             "#d8576b"
            ],
            [
             0.6666666666666666,
             "#ed7953"
            ],
            [
             0.7777777777777778,
             "#fb9f3a"
            ],
            [
             0.8888888888888888,
             "#fdca26"
            ],
            [
             1,
             "#f0f921"
            ]
           ]
          },
          "colorway": [
           "#636efa",
           "#EF553B",
           "#00cc96",
           "#ab63fa",
           "#FFA15A",
           "#19d3f3",
           "#FF6692",
           "#B6E880",
           "#FF97FF",
           "#FECB52"
          ],
          "font": {
           "color": "#2a3f5f"
          },
          "geo": {
           "bgcolor": "white",
           "lakecolor": "white",
           "landcolor": "#E5ECF6",
           "showlakes": true,
           "showland": true,
           "subunitcolor": "white"
          },
          "hoverlabel": {
           "align": "left"
          },
          "hovermode": "closest",
          "mapbox": {
           "style": "light"
          },
          "paper_bgcolor": "white",
          "plot_bgcolor": "#E5ECF6",
          "polar": {
           "angularaxis": {
            "gridcolor": "white",
            "linecolor": "white",
            "ticks": ""
           },
           "bgcolor": "#E5ECF6",
           "radialaxis": {
            "gridcolor": "white",
            "linecolor": "white",
            "ticks": ""
           }
          },
          "scene": {
           "xaxis": {
            "backgroundcolor": "#E5ECF6",
            "gridcolor": "white",
            "gridwidth": 2,
            "linecolor": "white",
            "showbackground": true,
            "ticks": "",
            "zerolinecolor": "white"
           },
           "yaxis": {
            "backgroundcolor": "#E5ECF6",
            "gridcolor": "white",
            "gridwidth": 2,
            "linecolor": "white",
            "showbackground": true,
            "ticks": "",
            "zerolinecolor": "white"
           },
           "zaxis": {
            "backgroundcolor": "#E5ECF6",
            "gridcolor": "white",
            "gridwidth": 2,
            "linecolor": "white",
            "showbackground": true,
            "ticks": "",
            "zerolinecolor": "white"
           }
          },
          "shapedefaults": {
           "line": {
            "color": "#2a3f5f"
           }
          },
          "ternary": {
           "aaxis": {
            "gridcolor": "white",
            "linecolor": "white",
            "ticks": ""
           },
           "baxis": {
            "gridcolor": "white",
            "linecolor": "white",
            "ticks": ""
           },
           "bgcolor": "#E5ECF6",
           "caxis": {
            "gridcolor": "white",
            "linecolor": "white",
            "ticks": ""
           }
          },
          "title": {
           "x": 0.05
          },
          "xaxis": {
           "automargin": true,
           "gridcolor": "white",
           "linecolor": "white",
           "ticks": "",
           "title": {
            "standoff": 15
           },
           "zerolinecolor": "white",
           "zerolinewidth": 2
          },
          "yaxis": {
           "automargin": true,
           "gridcolor": "white",
           "linecolor": "white",
           "ticks": "",
           "title": {
            "standoff": 15
           },
           "zerolinecolor": "white",
           "zerolinewidth": 2
          }
         }
        },
        "title": {
         "text": "Bar of Nairobi, Lagos and Accra Living Costs"
        },
        "xaxis": {
         "anchor": "y",
         "autorange": true,
         "domain": [
          0,
          1
         ],
         "range": [
          -0.5,
          5.5
         ],
         "title": {
          "text": "Indicator"
         },
         "type": "category"
        },
        "yaxis": {
         "anchor": "x",
         "autorange": true,
         "domain": [
          0,
          1
         ],
         "range": [
          0,
          17882.294736842105
         ],
         "title": {
          "text": "Price (KSh)"
         },
         "type": "linear"
        }
       }
      },
      "image/png": "[encoded data removed]",
      "text/html": [
       "<div>                            <div id=\"a1e176d9-d0ba-4197-9e56-69a2de493c0f\" class=\"plotly-graph-div\" style=\"height:525px; width:100%;\"></div>            <script type=\"text/javascript\">                require([\"plotly\"], function(Plotly) {                    window.PLOTLYENV=window.PLOTLYENV || {};                                    if (document.getElementById(\"a1e176d9-d0ba-4197-9e56-69a2de493c0f\")) {                    Plotly.newPlot(                        \"a1e176d9-d0ba-4197-9e56-69a2de493c0f\",                        [{\"alignmentgroup\": \"True\", \"hovertemplate\": \"variable=Nairobi (KSh)<br>Indicator=%{x}<br>value=%{y}<extra></extra>\", \"legendgroup\": \"Nairobi (KSh)\", \"marker\": {\"color\": \"#636efa\"}, \"name\": \"Nairobi (KSh)\", \"offsetgroup\": \"Nairobi (KSh)\", \"orientation\": \"v\", \"showlegend\": true, \"textposition\": \"auto\", \"type\": \"bar\", \"x\": [\"Meal\", \"Meal for 2\", \"Transport\", \"Basic\", \"Internet\", \"Gym\"], \"xaxis\": \"x\", \"y\": [500.0, 3500.0, 3489.13, 4348.98, 6266.63, 5310.34], \"yaxis\": \"y\"}, {\"alignmentgroup\": \"True\", \"hovertemplate\": \"variable=Lagos(KSh)<br>Indicator=%{x}<br>value=%{y}<extra></extra>\", \"legendgroup\": \"Lagos(KSh)\", \"marker\": {\"color\": \"#EF553B\"}, \"name\": \"Lagos(KSh)\", \"offsetgroup\": \"Lagos(KSh)\", \"orientation\": \"v\", \"showlegend\": true, \"textposition\": \"auto\", \"type\": \"bar\", \"x\": [\"Meal\", \"Meal for 2\", \"Transport\", \"Basic\", \"Internet\", \"Gym\"], \"xaxis\": \"x\", \"y\": [267.05, 4330.49, 2886.99, 3336.7, 4575.36, 5081.1], \"yaxis\": \"y\"}, {\"alignmentgroup\": \"True\", \"hovertemplate\": \"variable=Accra(KSh)<br>Indicator=%{x}<br>value=%{y}<extra></extra>\", \"legendgroup\": \"Accra(KSh)\", \"marker\": {\"color\": \"#00cc96\"}, \"name\": \"Accra(KSh)\", \"offsetgroup\": \"Accra(KSh)\", \"orientation\": \"v\", \"showlegend\": true, \"textposition\": \"auto\", \"type\": \"bar\", \"x\": [\"Meal\", \"Meal for 2\", \"Transport\", \"Basic\", \"Internet\", \"Gym\"], \"xaxis\": \"x\", \"y\": [554.51, 3824.19, 3346.17, 8237.95, 6028.99, 6596.74], \"yaxis\": \"y\"}],                        {\"barmode\": \"relative\", \"legend\": {\"title\": {\"text\": \"variable\"}, \"tracegroupgap\": 0}, \"template\": {\"data\": {\"bar\": [{\"error_x\": {\"color\": \"#2a3f5f\"}, \"error_y\": {\"color\": \"#2a3f5f\"}, \"marker\": {\"line\": {\"color\": \"#E5ECF6\", \"width\": 0.5}}, \"type\": \"bar\"}], \"barpolar\": [{\"marker\": {\"line\": {\"color\": \"#E5ECF6\", \"width\": 0.5}}, \"type\": \"barpolar\"}], \"carpet\": [{\"aaxis\": {\"endlinecolor\": \"#2a3f5f\", \"gridcolor\": \"white\", \"linecolor\": \"white\", \"minorgridcolor\": \"white\", \"startlinecolor\": \"#2a3f5f\"}, \"baxis\": {\"endlinecolor\": \"#2a3f5f\", \"gridcolor\": \"white\", \"linecolor\": \"white\", \"minorgridcolor\": \"white\", \"startlinecolor\": \"#2a3f5f\"}, \"type\": \"carpet\"}], \"choropleth\": [{\"colorbar\": {\"outlinewidth\": 0, \"ticks\": \"\"}, \"type\": \"choropleth\"}], \"contour\": [{\"colorbar\": {\"outlinewidth\": 0, \"ticks\": \"\"}, \"colorscale\": [[0.0, \"#0d0887\"], [0.1111111111111111, \"#46039f\"], [0.2222222222222222, \"#7201a8\"], [0.3333333333333333, \"#9c179e\"], [0.4444444444444444, \"#bd3786\"], [0.5555555555555556, \"#d8576b\"], [0.6666666666666666, \"#ed7953\"], [0.7777777777777778, \"#fb9f3a\"], [0.8888888888888888, \"#fdca26\"], [1.0, \"#f0f921\"]], \"type\": \"contour\"}], \"contourcarpet\": [{\"colorbar\": {\"outlinewidth\": 0, \"ticks\": \"\"}, \"type\": \"contourcarpet\"}], \"heatmap\": [{\"colorbar\": {\"outlinewidth\": 0, \"ticks\": \"\"}, \"colorscale\": [[0.0, \"#0d0887\"], [0.1111111111111111, \"#46039f\"], [0.2222222222222222, \"#7201a8\"], [0.3333333333333333, \"#9c179e\"], [0.4444444444444444, \"#bd3786\"], [0.5555555555555556, \"#d8576b\"], [0.6666666666666666, \"#ed7953\"], [0.7777777777777778, \"#fb9f3a\"], [0.8888888888888888, \"#fdca26\"], [1.0, \"#f0f921\"]], \"type\": \"heatmap\"}], \"heatmapgl\": [{\"colorbar\": {\"outlinewidth\": 0, \"ticks\": \"\"}, \"colorscale\": [[0.0, \"#0d0887\"], [0.1111111111111111, \"#46039f\"], [0.2222222222222222, \"#7201a8\"], [0.3333333333333333, \"#9c179e\"], [0.4444444444444444, \"#bd3786\"], [0.5555555555555556, \"#d8576b\"], [0.6666666666666666, \"#ed7953\"], [0.7777777777777778, \"#fb9f3a\"], [0.8888888888888888, \"#fdca26\"], [1.0, \"#f0f921\"]], \"type\": \"heatmapgl\"}], \"histogram\": [{\"marker\": {\"colorbar\": {\"outlinewidth\": 0, \"ticks\": \"\"}}, \"type\": \"histogram\"}], \"histogram2d\": [{\"colorbar\": {\"outlinewidth\": 0, \"ticks\": \"\"}, \"colorscale\": [[0.0, \"#0d0887\"], [0.1111111111111111, \"#46039f\"], [0.2222222222222222, \"#7201a8\"], [0.3333333333333333, \"#9c179e\"], [0.4444444444444444, \"#bd3786\"], [0.5555555555555556, \"#d8576b\"], [0.6666666666666666, \"#ed7953\"], [0.7777777777777778, \"#fb9f3a\"], [0.8888888888888888, \"#fdca26\"], [1.0, \"#f0f921\"]], \"type\": \"histogram2d\"}], \"histogram2dcontour\": [{\"colorbar\": {\"outlinewidth\": 0, \"ticks\": \"\"}, \"colorscale\": [[0.0, \"#0d0887\"], [0.1111111111111111, \"#46039f\"], [0.2222222222222222, \"#7201a8\"], [0.3333333333333333, \"#9c179e\"], [0.4444444444444444, \"#bd3786\"], [0.5555555555555556, \"#d8576b\"], [0.6666666666666666, \"#ed7953\"], [0.7777777777777778, \"#fb9f3a\"], [0.8888888888888888, \"#fdca26\"], [1.0, \"#f0f921\"]], \"type\": \"histogram2dcontour\"}], \"mesh3d\": [{\"colorbar\": {\"outlinewidth\": 0, \"ticks\": \"\"}, \"type\": \"mesh3d\"}], \"parcoords\": [{\"line\": {\"colorbar\": {\"outlinewidth\": 0, \"ticks\": \"\"}}, \"type\": \"parcoords\"}], \"pie\": [{\"automargin\": true, \"type\": \"pie\"}], \"scatter\": [{\"marker\": {\"colorbar\": {\"outlinewidth\": 0, \"ticks\": \"\"}}, \"type\": \"scatter\"}], \"scatter3d\": [{\"line\": {\"colorbar\": {\"outlinewidth\": 0, \"ticks\": \"\"}}, \"marker\": {\"colorbar\": {\"outlinewidth\": 0, \"ticks\": \"\"}}, \"type\": \"scatter3d\"}], \"scattercarpet\": [{\"marker\": {\"colorbar\": {\"outlinewidth\": 0, \"ticks\": \"\"}}, \"type\": \"scattercarpet\"}], \"scattergeo\": [{\"marker\": {\"colorbar\": {\"outlinewidth\": 0, \"ticks\": \"\"}}, \"type\": \"scattergeo\"}], \"scattergl\": [{\"marker\": {\"colorbar\": {\"outlinewidth\": 0, \"ticks\": \"\"}}, \"type\": \"scattergl\"}], \"scattermapbox\": [{\"marker\": {\"colorbar\": {\"outlinewidth\": 0, \"ticks\": \"\"}}, \"type\": \"scattermapbox\"}], \"scatterpolar\": [{\"marker\": {\"colorbar\": {\"outlinewidth\": 0, \"ticks\": \"\"}}, \"type\": \"scatterpolar\"}], \"scatterpolargl\": [{\"marker\": {\"colorbar\": {\"outlinewidth\": 0, \"ticks\": \"\"}}, \"type\": \"scatterpolargl\"}], \"scatterternary\": [{\"marker\": {\"colorbar\": {\"outlinewidth\": 0, \"ticks\": \"\"}}, \"type\": \"scatterternary\"}], \"surface\": [{\"colorbar\": {\"outlinewidth\": 0, \"ticks\": \"\"}, \"colorscale\": [[0.0, \"#0d0887\"], [0.1111111111111111, \"#46039f\"], [0.2222222222222222, \"#7201a8\"], [0.3333333333333333, \"#9c179e\"], [0.4444444444444444, \"#bd3786\"], [0.5555555555555556, \"#d8576b\"], [0.6666666666666666, \"#ed7953\"], [0.7777777777777778, \"#fb9f3a\"], [0.8888888888888888, \"#fdca26\"], [1.0, \"#f0f921\"]], \"type\": \"surface\"}], \"table\": [{\"cells\": {\"fill\": {\"color\": \"#EBF0F8\"}, \"line\": {\"color\": \"white\"}}, \"header\": {\"fill\": {\"color\": \"#C8D4E3\"}, \"line\": {\"color\": \"white\"}}, \"type\": \"table\"}]}, \"layout\": {\"annotationdefaults\": {\"arrowcolor\": \"#2a3f5f\", \"arrowhead\": 0, \"arrowwidth\": 1}, \"autotypenumbers\": \"strict\", \"coloraxis\": {\"colorbar\": {\"outlinewidth\": 0, \"ticks\": \"\"}}, \"colorscale\": {\"diverging\": [[0, \"#8e0152\"], [0.1, \"#c51b7d\"], [0.2, \"#de77ae\"], [0.3, \"#f1b6da\"], [0.4, \"#fde0ef\"], [0.5, \"#f7f7f7\"], [0.6, \"#e6f5d0\"], [0.7, \"#b8e186\"], [0.8, \"#7fbc41\"], [0.9, \"#4d9221\"], [1, \"#276419\"]], \"sequential\": [[0.0, \"#0d0887\"], [0.1111111111111111, \"#46039f\"], [0.2222222222222222, \"#7201a8\"], [0.3333333333333333, \"#9c179e\"], [0.4444444444444444, \"#bd3786\"], [0.5555555555555556, \"#d8576b\"], [0.6666666666666666, \"#ed7953\"], [0.7777777777777778, \"#fb9f3a\"], [0.8888888888888888, \"#fdca26\"], [1.0, \"#f0f921\"]], \"sequentialminus\": [[0.0, \"#0d0887\"], [0.1111111111111111, \"#46039f\"], [0.2222222222222222, \"#7201a8\"], [0.3333333333333333, \"#9c179e\"], [0.4444444444444444, \"#bd3786\"], [0.5555555555555556, \"#d8576b\"], [0.6666666666666666, \"#ed7953\"], [0.7777777777777778, \"#fb9f3a\"], [0.8888888888888888, \"#fdca26\"], [1.0, \"#f0f921\"]]}, \"colorway\": [\"#636efa\", \"#EF553B\", \"#00cc96\", \"#ab63fa\", \"#FFA15A\", \"#19d3f3\", \"#FF6692\", \"#B6E880\", \"#FF97FF\", \"#FECB52\"], \"font\": {\"color\": \"#2a3f5f\"}, \"geo\": {\"bgcolor\": \"white\", \"lakecolor\": \"white\", \"landcolor\": \"#E5ECF6\", \"showlakes\": true, \"showland\": true, \"subunitcolor\": \"white\"}, \"hoverlabel\": {\"align\": \"left\"}, \"hovermode\": \"closest\", \"mapbox\": {\"style\": \"light\"}, \"paper_bgcolor\": \"white\", \"plot_bgcolor\": \"#E5ECF6\", \"polar\": {\"angularaxis\": {\"gridcolor\": \"white\", \"linecolor\": \"white\", \"ticks\": \"\"}, \"bgcolor\": \"#E5ECF6\", \"radialaxis\": {\"gridcolor\": \"white\", \"linecolor\": \"white\", \"ticks\": \"\"}}, \"scene\": {\"xaxis\": {\"backgroundcolor\": \"#E5ECF6\", \"gridcolor\": \"white\", \"gridwidth\": 2, \"linecolor\": \"white\", \"showbackground\": true, \"ticks\": \"\", \"zerolinecolor\": \"white\"}, \"yaxis\": {\"backgroundcolor\": \"#E5ECF6\", \"gridcolor\": \"white\", \"gridwidth\": 2, \"linecolor\": \"white\", \"showbackground\": true, \"ticks\": \"\", \"zerolinecolor\": \"white\"}, \"zaxis\": {\"backgroundcolor\": \"#E5ECF6\", \"gridcolor\": \"white\", \"gridwidth\": 2, \"linecolor\": \"white\", \"showbackground\": true, \"ticks\": \"\", \"zerolinecolor\": \"white\"}}, \"shapedefaults\": {\"line\": {\"color\": \"#2a3f5f\"}}, \"ternary\": {\"aaxis\": {\"gridcolor\": \"white\", \"linecolor\": \"white\", \"ticks\": \"\"}, \"baxis\": {\"gridcolor\": \"white\", \"linecolor\": \"white\", \"ticks\": \"\"}, \"bgcolor\": \"#E5ECF6\", \"caxis\": {\"gridcolor\": \"white\", \"linecolor\": \"white\", \"ticks\": \"\"}}, \"title\": {\"x\": 0.05}, \"xaxis\": {\"automargin\": true, \"gridcolor\": \"white\", \"linecolor\": \"white\", \"ticks\": \"\", \"title\": {\"standoff\": 15}, \"zerolinecolor\": \"white\", \"zerolinewidth\": 2}, \"yaxis\": {\"automargin\": true, \"gridcolor\": \"white\", \"linecolor\": \"white\", \"ticks\": \"\", \"title\": {\"standoff\": 15}, \"zerolinecolor\": \"white\", \"zerolinewidth\": 2}}}, \"title\": {\"text\": \"Bar of Nairobi, Lagos and Accra Living Costs\"}, \"xaxis\": {\"anchor\": \"y\", \"domain\": [0.0, 1.0], \"title\": {\"text\": \"Indicator\"}}, \"yaxis\": {\"anchor\": \"x\", \"domain\": [0.0, 1.0], \"title\": {\"text\": \"Price (KSh)\"}}},                        {\"responsive\": true}                    ).then(function(){\n",
       "                            \n",
       "var gd = document.getElementById('a1e176d9-d0ba-4197-9e56-69a2de493c0f');\n",
       "var x = new MutationObserver(function (mutations, observer) {{\n",
       "        var display = window.getComputedStyle(gd).display;\n",
       "        if (!display || display === 'none') {{\n",
       "            console.log([gd, 'removed!']);\n",
       "            Plotly.purge(gd);\n",
       "            observer.disconnect();\n",
       "        }}\n",
       "}});\n",
       "\n",
       "// Listen for the removal of the full notebook cells\n",
       "var notebookContainer = gd.closest('#notebook-container');\n",
       "if (notebookContainer) {{\n",
       "    x.observe(notebookContainer, {childList: true});\n",
       "}}\n",
       "\n",
       "// Listen for the clearing of the current output cell\n",
       "var outputEl = gd.closest('.output');\n",
       "if (outputEl) {{\n",
       "    x.observe(outputEl, {childList: true});\n",
       "}}\n",
       "\n",
       "                        })                };                });            </script>        </div>"
      ]
     },
     "metadata": {},
     "output_type": "display_data"
    }
   ],
   "source": [
    "df_price = livingCost[:6]\n",
    "priceFig= px.bar(df_price, x='Indicator', y=['Nairobi (KSh)', 'Lagos(KSh)', 'Accra(KSh)'], title='Bar of Nairobi, Lagos and Accra Living Costs') \n",
    "priceFig.update_layout(xaxis_title='Indicator', yaxis_title='Price (KSh)')\n",
    "priceFig.show()"
   ]
  },
  {
   "cell_type": "markdown",
   "metadata": {},
   "source": [
    "From this it can be seen that the rent in Lagos largely contributes to the high cost of living. The next plot showin the indicator percent difference further highlights this."
   ]
  },
  {
   "cell_type": "code",
   "execution_count": 80,
   "metadata": {},
   "outputs": [
    {
     "data": {
      "application/vnd.plotly.v1+json": {
       "config": {
        "plotlyServerURL": "https://plot.ly"
       },
       "data": [
        {
         "hovertemplate": "variable=NairobiLagos(%)<br>Indicator=%{x}<br>value=%{y}<extra></extra>",
         "legendgroup": "NairobiLagos(%)",
         "line": {
          "color": "#636efa",
          "dash": "solid"
         },
         "mode": "lines",
         "name": "NairobiLagos(%)",
         "orientation": "v",
         "showlegend": true,
         "type": "scatter",
         "x": [
          "Meal",
          "Meal for 2",
          "Transport",
          "Basic",
          "Internet",
          "Gym",
          "Rent",
          "TOTAL"
         ],
         "xaxis": "x",
         "y": [
          -46.59,
          23.73,
          -17.26,
          -23.28,
          -26.99,
          -4.32,
          293.58,
          125.69693929197193
         ],
         "yaxis": "y"
        },
        {
         "hovertemplate": "variable=NairobiAccra(%)<br>Indicator=%{x}<br>value=%{y}<extra></extra>",
         "legendgroup": "NairobiAccra(%)",
         "line": {
          "color": "#EF553B",
          "dash": "solid"
         },
         "mode": "lines",
         "name": "NairobiAccra(%)",
         "orientation": "v",
         "showlegend": true,
         "type": "scatter",
         "x": [
          "Meal",
          "Meal for 2",
          "Transport",
          "Basic",
          "Internet",
          "Gym",
          "Rent",
          "TOTAL"
         ],
         "xaxis": "x",
         "y": [
          10.9,
          9.26,
          -4.1,
          89.42,
          -3.79,
          24.22,
          -40.05,
          -5.968381825791599
         ],
         "yaxis": "y"
        }
       ],
       "layout": {
        "autosize": true,
        "legend": {
         "title": {
          "text": "variable"
         },
         "tracegroupgap": 0
        },
        "template": {
         "data": {
          "bar": [
           {
            "error_x": {
             "color": "#2a3f5f"
            },
            "error_y": {
             "color": "#2a3f5f"
            },
            "marker": {
             "line": {
              "color": "#E5ECF6",
              "width": 0.5
             }
            },
            "type": "bar"
           }
          ],
          "barpolar": [
           {
            "marker": {
             "line": {
              "color": "#E5ECF6",
              "width": 0.5
             }
            },
            "type": "barpolar"
           }
          ],
          "carpet": [
           {
            "aaxis": {
             "endlinecolor": "#2a3f5f",
             "gridcolor": "white",
             "linecolor": "white",
             "minorgridcolor": "white",
             "startlinecolor": "#2a3f5f"
            },
            "baxis": {
             "endlinecolor": "#2a3f5f",
             "gridcolor": "white",
             "linecolor": "white",
             "minorgridcolor": "white",
             "startlinecolor": "#2a3f5f"
            },
            "type": "carpet"
           }
          ],
          "choropleth": [
           {
            "colorbar": {
             "outlinewidth": 0,
             "ticks": ""
            },
            "type": "choropleth"
           }
          ],
          "contour": [
           {
            "colorbar": {
             "outlinewidth": 0,
             "ticks": ""
            },
            "colorscale": [
             [
              0,
              "#0d0887"
             ],
             [
              0.1111111111111111,
              "#46039f"
             ],
             [
              0.2222222222222222,
              "#7201a8"
             ],
             [
              0.3333333333333333,
              "#9c179e"
             ],
             [
              0.4444444444444444,
              "#bd3786"
             ],
             [
              0.5555555555555556,
              "#d8576b"
             ],
             [
              0.6666666666666666,
              "#ed7953"
             ],
             [
              0.7777777777777778,
              "#fb9f3a"
             ],
             [
              0.8888888888888888,
              "#fdca26"
             ],
             [
              1,
              "#f0f921"
             ]
            ],
            "type": "contour"
           }
          ],
          "contourcarpet": [
           {
            "colorbar": {
             "outlinewidth": 0,
             "ticks": ""
            },
            "type": "contourcarpet"
           }
          ],
          "heatmap": [
           {
            "colorbar": {
             "outlinewidth": 0,
             "ticks": ""
            },
            "colorscale": [
             [
              0,
              "#0d0887"
             ],
             [
              0.1111111111111111,
              "#46039f"
             ],
             [
              0.2222222222222222,
              "#7201a8"
             ],
             [
              0.3333333333333333,
              "#9c179e"
             ],
             [
              0.4444444444444444,
              "#bd3786"
             ],
             [
              0.5555555555555556,
              "#d8576b"
             ],
             [
              0.6666666666666666,
              "#ed7953"
             ],
             [
              0.7777777777777778,
              "#fb9f3a"
             ],
             [
              0.8888888888888888,
              "#fdca26"
             ],
             [
              1,
              "#f0f921"
             ]
            ],
            "type": "heatmap"
           }
          ],
          "heatmapgl": [
           {
            "colorbar": {
             "outlinewidth": 0,
             "ticks": ""
            },
            "colorscale": [
             [
              0,
              "#0d0887"
             ],
             [
              0.1111111111111111,
              "#46039f"
             ],
             [
              0.2222222222222222,
              "#7201a8"
             ],
             [
              0.3333333333333333,
              "#9c179e"
             ],
             [
              0.4444444444444444,
              "#bd3786"
             ],
             [
              0.5555555555555556,
              "#d8576b"
             ],
             [
              0.6666666666666666,
              "#ed7953"
             ],
             [
              0.7777777777777778,
              "#fb9f3a"
             ],
             [
              0.8888888888888888,
              "#fdca26"
             ],
             [
              1,
              "#f0f921"
             ]
            ],
            "type": "heatmapgl"
           }
          ],
          "histogram": [
           {
            "marker": {
             "colorbar": {
              "outlinewidth": 0,
              "ticks": ""
             }
            },
            "type": "histogram"
           }
          ],
          "histogram2d": [
           {
            "colorbar": {
             "outlinewidth": 0,
             "ticks": ""
            },
            "colorscale": [
             [
              0,
              "#0d0887"
             ],
             [
              0.1111111111111111,
              "#46039f"
             ],
             [
              0.2222222222222222,
              "#7201a8"
             ],
             [
              0.3333333333333333,
              "#9c179e"
             ],
             [
              0.4444444444444444,
              "#bd3786"
             ],
             [
              0.5555555555555556,
              "#d8576b"
             ],
             [
              0.6666666666666666,
              "#ed7953"
             ],
             [
              0.7777777777777778,
              "#fb9f3a"
             ],
             [
              0.8888888888888888,
              "#fdca26"
             ],
             [
              1,
              "#f0f921"
             ]
            ],
            "type": "histogram2d"
           }
          ],
          "histogram2dcontour": [
           {
            "colorbar": {
             "outlinewidth": 0,
             "ticks": ""
            },
            "colorscale": [
             [
              0,
              "#0d0887"
             ],
             [
              0.1111111111111111,
              "#46039f"
             ],
             [
              0.2222222222222222,
              "#7201a8"
             ],
             [
              0.3333333333333333,
              "#9c179e"
             ],
             [
              0.4444444444444444,
              "#bd3786"
             ],
             [
              0.5555555555555556,
              "#d8576b"
             ],
             [
              0.6666666666666666,
              "#ed7953"
             ],
             [
              0.7777777777777778,
              "#fb9f3a"
             ],
             [
              0.8888888888888888,
              "#fdca26"
             ],
             [
              1,
              "#f0f921"
             ]
            ],
            "type": "histogram2dcontour"
           }
          ],
          "mesh3d": [
           {
            "colorbar": {
             "outlinewidth": 0,
             "ticks": ""
            },
            "type": "mesh3d"
           }
          ],
          "parcoords": [
           {
            "line": {
             "colorbar": {
              "outlinewidth": 0,
              "ticks": ""
             }
            },
            "type": "parcoords"
           }
          ],
          "pie": [
           {
            "automargin": true,
            "type": "pie"
           }
          ],
          "scatter": [
           {
            "marker": {
             "colorbar": {
              "outlinewidth": 0,
              "ticks": ""
             }
            },
            "type": "scatter"
           }
          ],
          "scatter3d": [
           {
            "line": {
             "colorbar": {
              "outlinewidth": 0,
              "ticks": ""
             }
            },
            "marker": {
             "colorbar": {
              "outlinewidth": 0,
              "ticks": ""
             }
            },
            "type": "scatter3d"
           }
          ],
          "scattercarpet": [
           {
            "marker": {
             "colorbar": {
              "outlinewidth": 0,
              "ticks": ""
             }
            },
            "type": "scattercarpet"
           }
          ],
          "scattergeo": [
           {
            "marker": {
             "colorbar": {
              "outlinewidth": 0,
              "ticks": ""
             }
            },
            "type": "scattergeo"
           }
          ],
          "scattergl": [
           {
            "marker": {
             "colorbar": {
              "outlinewidth": 0,
              "ticks": ""
             }
            },
            "type": "scattergl"
           }
          ],
          "scattermapbox": [
           {
            "marker": {
             "colorbar": {
              "outlinewidth": 0,
              "ticks": ""
             }
            },
            "type": "scattermapbox"
           }
          ],
          "scatterpolar": [
           {
            "marker": {
             "colorbar": {
              "outlinewidth": 0,
              "ticks": ""
             }
            },
            "type": "scatterpolar"
           }
          ],
          "scatterpolargl": [
           {
            "marker": {
             "colorbar": {
              "outlinewidth": 0,
              "ticks": ""
             }
            },
            "type": "scatterpolargl"
           }
          ],
          "scatterternary": [
           {
            "marker": {
             "colorbar": {
              "outlinewidth": 0,
              "ticks": ""
             }
            },
            "type": "scatterternary"
           }
          ],
          "surface": [
           {
            "colorbar": {
             "outlinewidth": 0,
             "ticks": ""
            },
            "colorscale": [
             [
              0,
              "#0d0887"
             ],
             [
              0.1111111111111111,
              "#46039f"
             ],
             [
              0.2222222222222222,
              "#7201a8"
             ],
             [
              0.3333333333333333,
              "#9c179e"
             ],
             [
              0.4444444444444444,
              "#bd3786"
             ],
             [
              0.5555555555555556,
              "#d8576b"
             ],
             [
              0.6666666666666666,
              "#ed7953"
             ],
             [
              0.7777777777777778,
              "#fb9f3a"
             ],
             [
              0.8888888888888888,
              "#fdca26"
             ],
             [
              1,
              "#f0f921"
             ]
            ],
            "type": "surface"
           }
          ],
          "table": [
           {
            "cells": {
             "fill": {
              "color": "#EBF0F8"
             },
             "line": {
              "color": "white"
             }
            },
            "header": {
             "fill": {
              "color": "#C8D4E3"
             },
             "line": {
              "color": "white"
             }
            },
            "type": "table"
           }
          ]
         },
         "layout": {
          "annotationdefaults": {
           "arrowcolor": "#2a3f5f",
           "arrowhead": 0,
           "arrowwidth": 1
          },
          "autotypenumbers": "strict",
          "coloraxis": {
           "colorbar": {
            "outlinewidth": 0,
            "ticks": ""
           }
          },
          "colorscale": {
           "diverging": [
            [
             0,
             "#8e0152"
            ],
            [
             0.1,
             "#c51b7d"
            ],
            [
             0.2,
             "#de77ae"
            ],
            [
             0.3,
             "#f1b6da"
            ],
            [
             0.4,
             "#fde0ef"
            ],
            [
             0.5,
             "#f7f7f7"
            ],
            [
             0.6,
             "#e6f5d0"
            ],
            [
             0.7,
             "#b8e186"
            ],
            [
             0.8,
             "#7fbc41"
            ],
            [
             0.9,
             "#4d9221"
            ],
            [
             1,
             "#276419"
            ]
           ],
           "sequential": [
            [
             0,
             "#0d0887"
            ],
            [
             0.1111111111111111,
             "#46039f"
            ],
            [
             0.2222222222222222,
             "#7201a8"
            ],
            [
             0.3333333333333333,
             "#9c179e"
            ],
            [
             0.4444444444444444,
             "#bd3786"
            ],
            [
             0.5555555555555556,
             "#d8576b"
            ],
            [
             0.6666666666666666,
             "#ed7953"
            ],
            [
             0.7777777777777778,
             "#fb9f3a"
            ],
            [
             0.8888888888888888,
             "#fdca26"
            ],
            [
             1,
             "#f0f921"
            ]
           ],
           "sequentialminus": [
            [
             0,
             "#0d0887"
            ],
            [
             0.1111111111111111,
             "#46039f"
            ],
            [
             0.2222222222222222,
             "#7201a8"
            ],
            [
             0.3333333333333333,
             "#9c179e"
            ],
            [
             0.4444444444444444,
             "#bd3786"
            ],
            [
             0.5555555555555556,
             "#d8576b"
            ],
            [
             0.6666666666666666,
             "#ed7953"
            ],
            [
             0.7777777777777778,
             "#fb9f3a"
            ],
            [
             0.8888888888888888,
             "#fdca26"
            ],
            [
             1,
             "#f0f921"
            ]
           ]
          },
          "colorway": [
           "#636efa",
           "#EF553B",
           "#00cc96",
           "#ab63fa",
           "#FFA15A",
           "#19d3f3",
           "#FF6692",
           "#B6E880",
           "#FF97FF",
           "#FECB52"
          ],
          "font": {
           "color": "#2a3f5f"
          },
          "geo": {
           "bgcolor": "white",
           "lakecolor": "white",
           "landcolor": "#E5ECF6",
           "showlakes": true,
           "showland": true,
           "subunitcolor": "white"
          },
          "hoverlabel": {
           "align": "left"
          },
          "hovermode": "closest",
          "mapbox": {
           "style": "light"
          },
          "paper_bgcolor": "white",
          "plot_bgcolor": "#E5ECF6",
          "polar": {
           "angularaxis": {
            "gridcolor": "white",
            "linecolor": "white",
            "ticks": ""
           },
           "bgcolor": "#E5ECF6",
           "radialaxis": {
            "gridcolor": "white",
            "linecolor": "white",
            "ticks": ""
           }
          },
          "scene": {
           "xaxis": {
            "backgroundcolor": "#E5ECF6",
            "gridcolor": "white",
            "gridwidth": 2,
            "linecolor": "white",
            "showbackground": true,
            "ticks": "",
            "zerolinecolor": "white"
           },
           "yaxis": {
            "backgroundcolor": "#E5ECF6",
            "gridcolor": "white",
            "gridwidth": 2,
            "linecolor": "white",
            "showbackground": true,
            "ticks": "",
            "zerolinecolor": "white"
           },
           "zaxis": {
            "backgroundcolor": "#E5ECF6",
            "gridcolor": "white",
            "gridwidth": 2,
            "linecolor": "white",
            "showbackground": true,
            "ticks": "",
            "zerolinecolor": "white"
           }
          },
          "shapedefaults": {
           "line": {
            "color": "#2a3f5f"
           }
          },
          "ternary": {
           "aaxis": {
            "gridcolor": "white",
            "linecolor": "white",
            "ticks": ""
           },
           "baxis": {
            "gridcolor": "white",
            "linecolor": "white",
            "ticks": ""
           },
           "bgcolor": "#E5ECF6",
           "caxis": {
            "gridcolor": "white",
            "linecolor": "white",
            "ticks": ""
           }
          },
          "title": {
           "x": 0.05
          },
          "xaxis": {
           "automargin": true,
           "gridcolor": "white",
           "linecolor": "white",
           "ticks": "",
           "title": {
            "standoff": 15
           },
           "zerolinecolor": "white",
           "zerolinewidth": 2
          },
          "yaxis": {
           "automargin": true,
           "gridcolor": "white",
           "linecolor": "white",
           "ticks": "",
           "title": {
            "standoff": 15
           },
           "zerolinecolor": "white",
           "zerolinewidth": 2
          }
         }
        },
        "title": {
         "text": "Line Plots of Resulting Percent Difference of Nairobi with Lagos and Accra"
        },
        "xaxis": {
         "anchor": "y",
         "autorange": true,
         "domain": [
          0,
          1
         ],
         "range": [
          0,
          7
         ],
         "title": {
          "text": "Indicator"
         },
         "type": "category"
        },
        "yaxis": {
         "anchor": "x",
         "autorange": true,
         "domain": [
          0,
          1
         ],
         "range": [
          -65.48833333333334,
          312.4783333333333
         ],
         "title": {
          "text": "Percentage Difference to Nairobi (%)"
         },
         "type": "linear"
        }
       }
      },
      "image/png": "[encoded data removed]",
      "text/html": [
       "<div>                            <div id=\"2dac913c-fa48-4dc3-8d62-85fb054c3891\" class=\"plotly-graph-div\" style=\"height:525px; width:100%;\"></div>            <script type=\"text/javascript\">                require([\"plotly\"], function(Plotly) {                    window.PLOTLYENV=window.PLOTLYENV || {};                                    if (document.getElementById(\"2dac913c-fa48-4dc3-8d62-85fb054c3891\")) {                    Plotly.newPlot(                        \"2dac913c-fa48-4dc3-8d62-85fb054c3891\",                        [{\"hovertemplate\": \"variable=NairobiLagos(%)<br>Indicator=%{x}<br>value=%{y}<extra></extra>\", \"legendgroup\": \"NairobiLagos(%)\", \"line\": {\"color\": \"#636efa\", \"dash\": \"solid\"}, \"mode\": \"lines\", \"name\": \"NairobiLagos(%)\", \"orientation\": \"v\", \"showlegend\": true, \"type\": \"scatter\", \"x\": [\"Meal\", \"Meal for 2\", \"Transport\", \"Basic\", \"Internet\", \"Gym\", \"Rent\", \"TOTAL\"], \"xaxis\": \"x\", \"y\": [-46.59, 23.73, -17.26, -23.28, -26.99, -4.32, 293.58, 125.69693929197193], \"yaxis\": \"y\"}, {\"hovertemplate\": \"variable=NairobiAccra(%)<br>Indicator=%{x}<br>value=%{y}<extra></extra>\", \"legendgroup\": \"NairobiAccra(%)\", \"line\": {\"color\": \"#EF553B\", \"dash\": \"solid\"}, \"mode\": \"lines\", \"name\": \"NairobiAccra(%)\", \"orientation\": \"v\", \"showlegend\": true, \"type\": \"scatter\", \"x\": [\"Meal\", \"Meal for 2\", \"Transport\", \"Basic\", \"Internet\", \"Gym\", \"Rent\", \"TOTAL\"], \"xaxis\": \"x\", \"y\": [10.9, 9.26, -4.1, 89.42, -3.79, 24.22, -40.05, -5.968381825791599], \"yaxis\": \"y\"}],                        {\"legend\": {\"title\": {\"text\": \"variable\"}, \"tracegroupgap\": 0}, \"template\": {\"data\": {\"bar\": [{\"error_x\": {\"color\": \"#2a3f5f\"}, \"error_y\": {\"color\": \"#2a3f5f\"}, \"marker\": {\"line\": {\"color\": \"#E5ECF6\", \"width\": 0.5}}, \"type\": \"bar\"}], \"barpolar\": [{\"marker\": {\"line\": {\"color\": \"#E5ECF6\", \"width\": 0.5}}, \"type\": \"barpolar\"}], \"carpet\": [{\"aaxis\": {\"endlinecolor\": \"#2a3f5f\", \"gridcolor\": \"white\", \"linecolor\": \"white\", \"minorgridcolor\": \"white\", \"startlinecolor\": \"#2a3f5f\"}, \"baxis\": {\"endlinecolor\": \"#2a3f5f\", \"gridcolor\": \"white\", \"linecolor\": \"white\", \"minorgridcolor\": \"white\", \"startlinecolor\": \"#2a3f5f\"}, \"type\": \"carpet\"}], \"choropleth\": [{\"colorbar\": {\"outlinewidth\": 0, \"ticks\": \"\"}, \"type\": \"choropleth\"}], \"contour\": [{\"colorbar\": {\"outlinewidth\": 0, \"ticks\": \"\"}, \"colorscale\": [[0.0, \"#0d0887\"], [0.1111111111111111, \"#46039f\"], [0.2222222222222222, \"#7201a8\"], [0.3333333333333333, \"#9c179e\"], [0.4444444444444444, \"#bd3786\"], [0.5555555555555556, \"#d8576b\"], [0.6666666666666666, \"#ed7953\"], [0.7777777777777778, \"#fb9f3a\"], [0.8888888888888888, \"#fdca26\"], [1.0, \"#f0f921\"]], \"type\": \"contour\"}], \"contourcarpet\": [{\"colorbar\": {\"outlinewidth\": 0, \"ticks\": \"\"}, \"type\": \"contourcarpet\"}], \"heatmap\": [{\"colorbar\": {\"outlinewidth\": 0, \"ticks\": \"\"}, \"colorscale\": [[0.0, \"#0d0887\"], [0.1111111111111111, \"#46039f\"], [0.2222222222222222, \"#7201a8\"], [0.3333333333333333, \"#9c179e\"], [0.4444444444444444, \"#bd3786\"], [0.5555555555555556, \"#d8576b\"], [0.6666666666666666, \"#ed7953\"], [0.7777777777777778, \"#fb9f3a\"], [0.8888888888888888, \"#fdca26\"], [1.0, \"#f0f921\"]], \"type\": \"heatmap\"}], \"heatmapgl\": [{\"colorbar\": {\"outlinewidth\": 0, \"ticks\": \"\"}, \"colorscale\": [[0.0, \"#0d0887\"], [0.1111111111111111, \"#46039f\"], [0.2222222222222222, \"#7201a8\"], [0.3333333333333333, \"#9c179e\"], [0.4444444444444444, \"#bd3786\"], [0.5555555555555556, \"#d8576b\"], [0.6666666666666666, \"#ed7953\"], [0.7777777777777778, \"#fb9f3a\"], [0.8888888888888888, \"#fdca26\"], [1.0, \"#f0f921\"]], \"type\": \"heatmapgl\"}], \"histogram\": [{\"marker\": {\"colorbar\": {\"outlinewidth\": 0, \"ticks\": \"\"}}, \"type\": \"histogram\"}], \"histogram2d\": [{\"colorbar\": {\"outlinewidth\": 0, \"ticks\": \"\"}, \"colorscale\": [[0.0, \"#0d0887\"], [0.1111111111111111, \"#46039f\"], [0.2222222222222222, \"#7201a8\"], [0.3333333333333333, \"#9c179e\"], [0.4444444444444444, \"#bd3786\"], [0.5555555555555556, \"#d8576b\"], [0.6666666666666666, \"#ed7953\"], [0.7777777777777778, \"#fb9f3a\"], [0.8888888888888888, \"#fdca26\"], [1.0, \"#f0f921\"]], \"type\": \"histogram2d\"}], \"histogram2dcontour\": [{\"colorbar\": {\"outlinewidth\": 0, \"ticks\": \"\"}, \"colorscale\": [[0.0, \"#0d0887\"], [0.1111111111111111, \"#46039f\"], [0.2222222222222222, \"#7201a8\"], [0.3333333333333333, \"#9c179e\"], [0.4444444444444444, \"#bd3786\"], [0.5555555555555556, \"#d8576b\"], [0.6666666666666666, \"#ed7953\"], [0.7777777777777778, \"#fb9f3a\"], [0.8888888888888888, \"#fdca26\"], [1.0, \"#f0f921\"]], \"type\": \"histogram2dcontour\"}], \"mesh3d\": [{\"colorbar\": {\"outlinewidth\": 0, \"ticks\": \"\"}, \"type\": \"mesh3d\"}], \"parcoords\": [{\"line\": {\"colorbar\": {\"outlinewidth\": 0, \"ticks\": \"\"}}, \"type\": \"parcoords\"}], \"pie\": [{\"automargin\": true, \"type\": \"pie\"}], \"scatter\": [{\"marker\": {\"colorbar\": {\"outlinewidth\": 0, \"ticks\": \"\"}}, \"type\": \"scatter\"}], \"scatter3d\": [{\"line\": {\"colorbar\": {\"outlinewidth\": 0, \"ticks\": \"\"}}, \"marker\": {\"colorbar\": {\"outlinewidth\": 0, \"ticks\": \"\"}}, \"type\": \"scatter3d\"}], \"scattercarpet\": [{\"marker\": {\"colorbar\": {\"outlinewidth\": 0, \"ticks\": \"\"}}, \"type\": \"scattercarpet\"}], \"scattergeo\": [{\"marker\": {\"colorbar\": {\"outlinewidth\": 0, \"ticks\": \"\"}}, \"type\": \"scattergeo\"}], \"scattergl\": [{\"marker\": {\"colorbar\": {\"outlinewidth\": 0, \"ticks\": \"\"}}, \"type\": \"scattergl\"}], \"scattermapbox\": [{\"marker\": {\"colorbar\": {\"outlinewidth\": 0, \"ticks\": \"\"}}, \"type\": \"scattermapbox\"}], \"scatterpolar\": [{\"marker\": {\"colorbar\": {\"outlinewidth\": 0, \"ticks\": \"\"}}, \"type\": \"scatterpolar\"}], \"scatterpolargl\": [{\"marker\": {\"colorbar\": {\"outlinewidth\": 0, \"ticks\": \"\"}}, \"type\": \"scatterpolargl\"}], \"scatterternary\": [{\"marker\": {\"colorbar\": {\"outlinewidth\": 0, \"ticks\": \"\"}}, \"type\": \"scatterternary\"}], \"surface\": [{\"colorbar\": {\"outlinewidth\": 0, \"ticks\": \"\"}, \"colorscale\": [[0.0, \"#0d0887\"], [0.1111111111111111, \"#46039f\"], [0.2222222222222222, \"#7201a8\"], [0.3333333333333333, \"#9c179e\"], [0.4444444444444444, \"#bd3786\"], [0.5555555555555556, \"#d8576b\"], [0.6666666666666666, \"#ed7953\"], [0.7777777777777778, \"#fb9f3a\"], [0.8888888888888888, \"#fdca26\"], [1.0, \"#f0f921\"]], \"type\": \"surface\"}], \"table\": [{\"cells\": {\"fill\": {\"color\": \"#EBF0F8\"}, \"line\": {\"color\": \"white\"}}, \"header\": {\"fill\": {\"color\": \"#C8D4E3\"}, \"line\": {\"color\": \"white\"}}, \"type\": \"table\"}]}, \"layout\": {\"annotationdefaults\": {\"arrowcolor\": \"#2a3f5f\", \"arrowhead\": 0, \"arrowwidth\": 1}, \"autotypenumbers\": \"strict\", \"coloraxis\": {\"colorbar\": {\"outlinewidth\": 0, \"ticks\": \"\"}}, \"colorscale\": {\"diverging\": [[0, \"#8e0152\"], [0.1, \"#c51b7d\"], [0.2, \"#de77ae\"], [0.3, \"#f1b6da\"], [0.4, \"#fde0ef\"], [0.5, \"#f7f7f7\"], [0.6, \"#e6f5d0\"], [0.7, \"#b8e186\"], [0.8, \"#7fbc41\"], [0.9, \"#4d9221\"], [1, \"#276419\"]], \"sequential\": [[0.0, \"#0d0887\"], [0.1111111111111111, \"#46039f\"], [0.2222222222222222, \"#7201a8\"], [0.3333333333333333, \"#9c179e\"], [0.4444444444444444, \"#bd3786\"], [0.5555555555555556, \"#d8576b\"], [0.6666666666666666, \"#ed7953\"], [0.7777777777777778, \"#fb9f3a\"], [0.8888888888888888, \"#fdca26\"], [1.0, \"#f0f921\"]], \"sequentialminus\": [[0.0, \"#0d0887\"], [0.1111111111111111, \"#46039f\"], [0.2222222222222222, \"#7201a8\"], [0.3333333333333333, \"#9c179e\"], [0.4444444444444444, \"#bd3786\"], [0.5555555555555556, \"#d8576b\"], [0.6666666666666666, \"#ed7953\"], [0.7777777777777778, \"#fb9f3a\"], [0.8888888888888888, \"#fdca26\"], [1.0, \"#f0f921\"]]}, \"colorway\": [\"#636efa\", \"#EF553B\", \"#00cc96\", \"#ab63fa\", \"#FFA15A\", \"#19d3f3\", \"#FF6692\", \"#B6E880\", \"#FF97FF\", \"#FECB52\"], \"font\": {\"color\": \"#2a3f5f\"}, \"geo\": {\"bgcolor\": \"white\", \"lakecolor\": \"white\", \"landcolor\": \"#E5ECF6\", \"showlakes\": true, \"showland\": true, \"subunitcolor\": \"white\"}, \"hoverlabel\": {\"align\": \"left\"}, \"hovermode\": \"closest\", \"mapbox\": {\"style\": \"light\"}, \"paper_bgcolor\": \"white\", \"plot_bgcolor\": \"#E5ECF6\", \"polar\": {\"angularaxis\": {\"gridcolor\": \"white\", \"linecolor\": \"white\", \"ticks\": \"\"}, \"bgcolor\": \"#E5ECF6\", \"radialaxis\": {\"gridcolor\": \"white\", \"linecolor\": \"white\", \"ticks\": \"\"}}, \"scene\": {\"xaxis\": {\"backgroundcolor\": \"#E5ECF6\", \"gridcolor\": \"white\", \"gridwidth\": 2, \"linecolor\": \"white\", \"showbackground\": true, \"ticks\": \"\", \"zerolinecolor\": \"white\"}, \"yaxis\": {\"backgroundcolor\": \"#E5ECF6\", \"gridcolor\": \"white\", \"gridwidth\": 2, \"linecolor\": \"white\", \"showbackground\": true, \"ticks\": \"\", \"zerolinecolor\": \"white\"}, \"zaxis\": {\"backgroundcolor\": \"#E5ECF6\", \"gridcolor\": \"white\", \"gridwidth\": 2, \"linecolor\": \"white\", \"showbackground\": true, \"ticks\": \"\", \"zerolinecolor\": \"white\"}}, \"shapedefaults\": {\"line\": {\"color\": \"#2a3f5f\"}}, \"ternary\": {\"aaxis\": {\"gridcolor\": \"white\", \"linecolor\": \"white\", \"ticks\": \"\"}, \"baxis\": {\"gridcolor\": \"white\", \"linecolor\": \"white\", \"ticks\": \"\"}, \"bgcolor\": \"#E5ECF6\", \"caxis\": {\"gridcolor\": \"white\", \"linecolor\": \"white\", \"ticks\": \"\"}}, \"title\": {\"x\": 0.05}, \"xaxis\": {\"automargin\": true, \"gridcolor\": \"white\", \"linecolor\": \"white\", \"ticks\": \"\", \"title\": {\"standoff\": 15}, \"zerolinecolor\": \"white\", \"zerolinewidth\": 2}, \"yaxis\": {\"automargin\": true, \"gridcolor\": \"white\", \"linecolor\": \"white\", \"ticks\": \"\", \"title\": {\"standoff\": 15}, \"zerolinecolor\": \"white\", \"zerolinewidth\": 2}}}, \"title\": {\"text\": \"Line Plots of Resulting Percent Difference of Nairobi with Lagos and Accra\"}, \"xaxis\": {\"anchor\": \"y\", \"domain\": [0.0, 1.0], \"title\": {\"text\": \"Indicator\"}}, \"yaxis\": {\"anchor\": \"x\", \"domain\": [0.0, 1.0], \"title\": {\"text\": \"Percentage Difference to Nairobi (%)\"}}},                        {\"responsive\": true}                    ).then(function(){\n",
       "                            \n",
       "var gd = document.getElementById('2dac913c-fa48-4dc3-8d62-85fb054c3891');\n",
       "var x = new MutationObserver(function (mutations, observer) {{\n",
       "        var display = window.getComputedStyle(gd).display;\n",
       "        if (!display || display === 'none') {{\n",
       "            console.log([gd, 'removed!']);\n",
       "            Plotly.purge(gd);\n",
       "            observer.disconnect();\n",
       "        }}\n",
       "}});\n",
       "\n",
       "// Listen for the removal of the full notebook cells\n",
       "var notebookContainer = gd.closest('#notebook-container');\n",
       "if (notebookContainer) {{\n",
       "    x.observe(notebookContainer, {childList: true});\n",
       "}}\n",
       "\n",
       "// Listen for the clearing of the current output cell\n",
       "var outputEl = gd.closest('.output');\n",
       "if (outputEl) {{\n",
       "    x.observe(outputEl, {childList: true});\n",
       "}}\n",
       "\n",
       "                        })                };                });            </script>        </div>"
      ]
     },
     "metadata": {},
     "output_type": "display_data"
    }
   ],
   "source": [
    "indFig= px.line(livingCost, x='Indicator', y=['NairobiLagos(%)', 'NairobiAccra(%)'], title='Line Plots of Resulting Percent Difference of Nairobi with Lagos and Accra')\n",
    "indFig.update_layout(xaxis_title='Indicator', yaxis_title='Percentage Difference to Nairobi (%)')\n",
    "indFig.show()"
   ]
  },
  {
   "cell_type": "markdown",
   "metadata": {},
   "source": [
    "Following the cost of living analysis, the next section will focus on recreational opportunities.\n",
    "\n",
    "### Foursquare Data\n",
    "In this section, a surface level analysis will be applied to the filtered venue data. Getting a feel of the categories, each category shall be counted and displayed before the removal of venues with missing data.\n"
   ]
  },
  {
   "cell_type": "markdown",
   "metadata": {},
   "source": [
    "Starting off with Nairobi data, find the unique categories and record their frequency."
   ]
  },
  {
   "cell_type": "code",
   "execution_count": 90,
   "metadata": {},
   "outputs": [
    {
     "name": "stdout",
     "output_type": "stream",
     "text": [
      "The number of unique categories found in these 500 venues is: 31\n"
     ]
    }
   ],
   "source": [
    "nairobi_filtered.groupby('categories')\n",
    "naiCat = nairobi_filtered['categories'].unique()\n",
    "naiCatCount = list(nairobi_filtered.categories.value_counts())\n",
    "nairobiCategories= pd.DataFrame({'Category': naiCat, 'Frequency':naiCatCount})\n",
    "print(\"The number of unique categories found in these 500 venues is: {}\".format(len(naiCat)))"
   ]
  },
  {
   "cell_type": "markdown",
   "metadata": {},
   "source": [
    "As there are 31 unique values, these will be sort by frequency to get the top 5 venue types."
   ]
  },
  {
   "cell_type": "code",
   "execution_count": 93,
   "metadata": {},
   "outputs": [
    {
     "data": {
      "text/html": [
       "<div>\n",
       "<style scoped>\n",
       "    .dataframe tbody tr th:only-of-type {\n",
       "        vertical-align: middle;\n",
       "    }\n",
       "\n",
       "    .dataframe tbody tr th {\n",
       "        vertical-align: top;\n",
       "    }\n",
       "\n",
       "    .dataframe thead th {\n",
       "        text-align: right;\n",
       "    }\n",
       "</style>\n",
       "<table border=\"1\" class=\"dataframe\">\n",
       "  <thead>\n",
       "    <tr style=\"text-align: right;\">\n",
       "      <th></th>\n",
       "      <th>Category</th>\n",
       "      <th>Frequency</th>\n",
       "    </tr>\n",
       "  </thead>\n",
       "  <tbody>\n",
       "    <tr>\n",
       "      <th>0</th>\n",
       "      <td>Gym</td>\n",
       "      <td>4</td>\n",
       "    </tr>\n",
       "    <tr>\n",
       "      <th>1</th>\n",
       "      <td>Post Office</td>\n",
       "      <td>4</td>\n",
       "    </tr>\n",
       "    <tr>\n",
       "      <th>2</th>\n",
       "      <td>Chinese Restaurant</td>\n",
       "      <td>4</td>\n",
       "    </tr>\n",
       "    <tr>\n",
       "      <th>3</th>\n",
       "      <td>Lounge</td>\n",
       "      <td>3</td>\n",
       "    </tr>\n",
       "    <tr>\n",
       "      <th>4</th>\n",
       "      <td>BBQ Joint</td>\n",
       "      <td>2</td>\n",
       "    </tr>\n",
       "  </tbody>\n",
       "</table>\n",
       "</div>"
      ],
      "text/plain": [
       "             Category  Frequency\n",
       "0                 Gym          4\n",
       "1         Post Office          4\n",
       "2  Chinese Restaurant          4\n",
       "3              Lounge          3\n",
       "4           BBQ Joint          2"
      ]
     },
     "execution_count": 93,
     "metadata": {},
     "output_type": "execute_result"
    }
   ],
   "source": [
    "nairobiCategories.sort_values(by ='Frequency')# Sort\n",
    "nairobiCategories.head()# Get top 5"
   ]
  },
  {
   "cell_type": "markdown",
   "metadata": {},
   "source": [
    "The same steps have been repeated for Accra and Lagos:"
   ]
  },
  {
   "cell_type": "code",
   "execution_count": 100,
   "metadata": {},
   "outputs": [
    {
     "name": "stdout",
     "output_type": "stream",
     "text": [
      "The number of unique categories found in these 500 venues in ACCRA is: 31\n"
     ]
    }
   ],
   "source": [
    "accra_filtered.groupby('categories')\n",
    "accCat = accra_filtered['categories'].unique()\n",
    "accCatCount = list(accra_filtered.categories.value_counts())\n",
    "accraCategories= pd.DataFrame({'Category': accCat, 'Frequency':accCatCount})\n",
    "print(\"The number of unique categories found in these 500 venues in ACCRA is: {}\".format(len(accCat)))"
   ]
  },
  {
   "cell_type": "code",
   "execution_count": 99,
   "metadata": {},
   "outputs": [
    {
     "data": {
      "text/html": [
       "<div>\n",
       "<style scoped>\n",
       "    .dataframe tbody tr th:only-of-type {\n",
       "        vertical-align: middle;\n",
       "    }\n",
       "\n",
       "    .dataframe tbody tr th {\n",
       "        vertical-align: top;\n",
       "    }\n",
       "\n",
       "    .dataframe thead th {\n",
       "        text-align: right;\n",
       "    }\n",
       "</style>\n",
       "<table border=\"1\" class=\"dataframe\">\n",
       "  <thead>\n",
       "    <tr style=\"text-align: right;\">\n",
       "      <th></th>\n",
       "      <th>Category</th>\n",
       "      <th>Frequency</th>\n",
       "    </tr>\n",
       "  </thead>\n",
       "  <tbody>\n",
       "    <tr>\n",
       "      <th>0</th>\n",
       "      <td>Hotel</td>\n",
       "      <td>4</td>\n",
       "    </tr>\n",
       "    <tr>\n",
       "      <th>1</th>\n",
       "      <td>Plaza</td>\n",
       "      <td>4</td>\n",
       "    </tr>\n",
       "    <tr>\n",
       "      <th>2</th>\n",
       "      <td>Other Great Outdoors</td>\n",
       "      <td>3</td>\n",
       "    </tr>\n",
       "    <tr>\n",
       "      <th>3</th>\n",
       "      <td>Lounge</td>\n",
       "      <td>3</td>\n",
       "    </tr>\n",
       "    <tr>\n",
       "      <th>4</th>\n",
       "      <td>Bar</td>\n",
       "      <td>3</td>\n",
       "    </tr>\n",
       "  </tbody>\n",
       "</table>\n",
       "</div>"
      ],
      "text/plain": [
       "               Category  Frequency\n",
       "0                 Hotel          4\n",
       "1                 Plaza          4\n",
       "2  Other Great Outdoors          3\n",
       "3                Lounge          3\n",
       "4                   Bar          3"
      ]
     },
     "execution_count": 99,
     "metadata": {},
     "output_type": "execute_result"
    }
   ],
   "source": [
    "accraCategories.sort_values(by ='Frequency')# Sort\n",
    "accraCategories.head()# Get top 5"
   ]
  },
  {
   "cell_type": "code",
   "execution_count": 101,
   "metadata": {},
   "outputs": [
    {
     "name": "stdout",
     "output_type": "stream",
     "text": [
      "The number of unique categories found in these 500 venues in LAGOS is: 29\n"
     ]
    }
   ],
   "source": [
    "lagos_filtered.groupby('categories')\n",
    "lagCat = lagos_filtered['categories'].unique()\n",
    "lagCatCount = list(lagos_filtered.categories.value_counts())\n",
    "lagosCategories= pd.DataFrame({'Category': lagCat, 'Frequency':lagCatCount})\n",
    "print(\"The number of unique categories found in these 500 venues in LAGOS is: {}\".format(len(lagCat)))"
   ]
  },
  {
   "cell_type": "code",
   "execution_count": 103,
   "metadata": {},
   "outputs": [
    {
     "data": {
      "text/html": [
       "<div>\n",
       "<style scoped>\n",
       "    .dataframe tbody tr th:only-of-type {\n",
       "        vertical-align: middle;\n",
       "    }\n",
       "\n",
       "    .dataframe tbody tr th {\n",
       "        vertical-align: top;\n",
       "    }\n",
       "\n",
       "    .dataframe thead th {\n",
       "        text-align: right;\n",
       "    }\n",
       "</style>\n",
       "<table border=\"1\" class=\"dataframe\">\n",
       "  <thead>\n",
       "    <tr style=\"text-align: right;\">\n",
       "      <th></th>\n",
       "      <th>Category</th>\n",
       "      <th>Frequency</th>\n",
       "    </tr>\n",
       "  </thead>\n",
       "  <tbody>\n",
       "    <tr>\n",
       "      <th>0</th>\n",
       "      <td>Soccer Field</td>\n",
       "      <td>6</td>\n",
       "    </tr>\n",
       "    <tr>\n",
       "      <th>1</th>\n",
       "      <td>Bridge</td>\n",
       "      <td>4</td>\n",
       "    </tr>\n",
       "    <tr>\n",
       "      <th>2</th>\n",
       "      <td>BBQ Joint</td>\n",
       "      <td>3</td>\n",
       "    </tr>\n",
       "    <tr>\n",
       "      <th>3</th>\n",
       "      <td>African Restaurant</td>\n",
       "      <td>3</td>\n",
       "    </tr>\n",
       "    <tr>\n",
       "      <th>4</th>\n",
       "      <td>Fried Chicken Joint</td>\n",
       "      <td>2</td>\n",
       "    </tr>\n",
       "  </tbody>\n",
       "</table>\n",
       "</div>"
      ],
      "text/plain": [
       "              Category  Frequency\n",
       "0         Soccer Field          6\n",
       "1               Bridge          4\n",
       "2            BBQ Joint          3\n",
       "3   African Restaurant          3\n",
       "4  Fried Chicken Joint          2"
      ]
     },
     "execution_count": 103,
     "metadata": {},
     "output_type": "execute_result"
    }
   ],
   "source": [
    "lagosCategories.sort_values(by ='Frequency')# Sort\n",
    "lagosCategories.head()# Get top 5"
   ]
  },
  {
   "cell_type": "markdown",
   "metadata": {},
   "source": [
    "At this point of the data science methodology, the initial broad categories from Foursquare API would be further specified by going one level down in the categories tree and identifying ideal entertainment and fun venues. Luckily, a function was created for this step and so a rerun would not be too much of a hassle. With *Arts and Entertainment* and *Nightlife* being the main focus and the restaurant data being seperated, the process is repeated."
   ]
  },
  {
   "cell_type": "code",
   "execution_count": 113,
   "metadata": {},
   "outputs": [
    {
     "name": "stderr",
     "output_type": "stream",
     "text": [
      "/home/jupyterlab/conda/envs/python/lib/python3.6/site-packages/ipykernel_launcher.py:10: FutureWarning:\n",
      "\n",
      "pandas.io.json.json_normalize is deprecated, use pandas.json_normalize instead\n",
      "\n"
     ]
    },
    {
     "data": {
      "text/html": [
       "<div>\n",
       "<style scoped>\n",
       "    .dataframe tbody tr th:only-of-type {\n",
       "        vertical-align: middle;\n",
       "    }\n",
       "\n",
       "    .dataframe tbody tr th {\n",
       "        vertical-align: top;\n",
       "    }\n",
       "\n",
       "    .dataframe thead th {\n",
       "        text-align: right;\n",
       "    }\n",
       "</style>\n",
       "<table border=\"1\" class=\"dataframe\">\n",
       "  <thead>\n",
       "    <tr style=\"text-align: right;\">\n",
       "      <th></th>\n",
       "      <th>name</th>\n",
       "      <th>categories</th>\n",
       "      <th>address</th>\n",
       "      <th>lat</th>\n",
       "      <th>lng</th>\n",
       "      <th>labeledLatLngs</th>\n",
       "      <th>distance</th>\n",
       "      <th>cc</th>\n",
       "      <th>city</th>\n",
       "      <th>state</th>\n",
       "      <th>country</th>\n",
       "      <th>formattedAddress</th>\n",
       "      <th>crossStreet</th>\n",
       "      <th>postalCode</th>\n",
       "      <th>id</th>\n",
       "    </tr>\n",
       "  </thead>\n",
       "  <tbody>\n",
       "    <tr>\n",
       "      <th>0</th>\n",
       "      <td>Kempinski Executive Lounge</td>\n",
       "      <td>Lounge</td>\n",
       "      <td>Gamel Abdul Nasser Ave</td>\n",
       "      <td>5.554642</td>\n",
       "      <td>-0.197803</td>\n",
       "      <td>[{'label': 'display', 'lat': 5.554642, 'lng': ...</td>\n",
       "      <td>183</td>\n",
       "      <td>GH</td>\n",
       "      <td>Accra</td>\n",
       "      <td>Greater Accra Region</td>\n",
       "      <td>Ghana</td>\n",
       "      <td>[Gamel Abdul Nasser Ave, Accra, Ghana]</td>\n",
       "      <td>NaN</td>\n",
       "      <td>NaN</td>\n",
       "      <td>5b96cab8b77c77002c8a3c00</td>\n",
       "    </tr>\n",
       "    <tr>\n",
       "      <th>1</th>\n",
       "      <td>Black Star Square</td>\n",
       "      <td>Historic Site</td>\n",
       "      <td>NaN</td>\n",
       "      <td>5.548006</td>\n",
       "      <td>-0.192508</td>\n",
       "      <td>[{'label': 'display', 'lat': 5.548005712763101...</td>\n",
       "      <td>1016</td>\n",
       "      <td>GH</td>\n",
       "      <td>Accra</td>\n",
       "      <td>Greater Accra Region</td>\n",
       "      <td>Ghana</td>\n",
       "      <td>[Accra, Ghana]</td>\n",
       "      <td>NaN</td>\n",
       "      <td>NaN</td>\n",
       "      <td>50ea7c68e4b07c15c8291675</td>\n",
       "    </tr>\n",
       "    <tr>\n",
       "      <th>2</th>\n",
       "      <td>National Theatre</td>\n",
       "      <td>General Entertainment</td>\n",
       "      <td>NaN</td>\n",
       "      <td>5.554857</td>\n",
       "      <td>-0.200591</td>\n",
       "      <td>[{'label': 'display', 'lat': 5.554857044338629...</td>\n",
       "      <td>428</td>\n",
       "      <td>GH</td>\n",
       "      <td>Accra</td>\n",
       "      <td>Greater Accra Region</td>\n",
       "      <td>Ghana</td>\n",
       "      <td>[Accra, Ghana]</td>\n",
       "      <td>NaN</td>\n",
       "      <td>NaN</td>\n",
       "      <td>4db07a7dcda14b702a31f660</td>\n",
       "    </tr>\n",
       "    <tr>\n",
       "      <th>3</th>\n",
       "      <td>Twist</td>\n",
       "      <td>Lounge</td>\n",
       "      <td>Abafun Crescent</td>\n",
       "      <td>5.571706</td>\n",
       "      <td>-0.167054</td>\n",
       "      <td>[{'label': 'display', 'lat': 5.571706158277336...</td>\n",
       "      <td>3739</td>\n",
       "      <td>GH</td>\n",
       "      <td>Accra Metropolis</td>\n",
       "      <td>Greater Accra Region</td>\n",
       "      <td>Ghana</td>\n",
       "      <td>[Abafun Crescent, Accra Metropolis, Ghana]</td>\n",
       "      <td>NaN</td>\n",
       "      <td>NaN</td>\n",
       "      <td>4baa8b4ff964a52047733ae3</td>\n",
       "    </tr>\n",
       "    <tr>\n",
       "      <th>4</th>\n",
       "      <td>Vienna City</td>\n",
       "      <td>Casino</td>\n",
       "      <td>Accra</td>\n",
       "      <td>5.566276</td>\n",
       "      <td>-0.214540</td>\n",
       "      <td>[{'label': 'display', 'lat': 5.566275569590284...</td>\n",
       "      <td>2263</td>\n",
       "      <td>GH</td>\n",
       "      <td>Accra</td>\n",
       "      <td>Greater Accra Region</td>\n",
       "      <td>Ghana</td>\n",
       "      <td>[Accra, Accra, Ghana]</td>\n",
       "      <td>NaN</td>\n",
       "      <td>NaN</td>\n",
       "      <td>4f1b382ee4b0d9f8b923cf12</td>\n",
       "    </tr>\n",
       "  </tbody>\n",
       "</table>\n",
       "</div>"
      ],
      "text/plain": [
       "                         name             categories                 address  \\\n",
       "0  Kempinski Executive Lounge                 Lounge  Gamel Abdul Nasser Ave   \n",
       "1           Black Star Square          Historic Site                     NaN   \n",
       "2            National Theatre  General Entertainment                     NaN   \n",
       "3                       Twist                 Lounge         Abafun Crescent   \n",
       "4                 Vienna City                 Casino                   Accra   \n",
       "\n",
       "        lat       lng                                     labeledLatLngs  \\\n",
       "0  5.554642 -0.197803  [{'label': 'display', 'lat': 5.554642, 'lng': ...   \n",
       "1  5.548006 -0.192508  [{'label': 'display', 'lat': 5.548005712763101...   \n",
       "2  5.554857 -0.200591  [{'label': 'display', 'lat': 5.554857044338629...   \n",
       "3  5.571706 -0.167054  [{'label': 'display', 'lat': 5.571706158277336...   \n",
       "4  5.566276 -0.214540  [{'label': 'display', 'lat': 5.566275569590284...   \n",
       "\n",
       "   distance  cc              city                 state country  \\\n",
       "0       183  GH             Accra  Greater Accra Region   Ghana   \n",
       "1      1016  GH             Accra  Greater Accra Region   Ghana   \n",
       "2       428  GH             Accra  Greater Accra Region   Ghana   \n",
       "3      3739  GH  Accra Metropolis  Greater Accra Region   Ghana   \n",
       "4      2263  GH             Accra  Greater Accra Region   Ghana   \n",
       "\n",
       "                             formattedAddress crossStreet postalCode  \\\n",
       "0      [Gamel Abdul Nasser Ave, Accra, Ghana]         NaN        NaN   \n",
       "1                              [Accra, Ghana]         NaN        NaN   \n",
       "2                              [Accra, Ghana]         NaN        NaN   \n",
       "3  [Abafun Crescent, Accra Metropolis, Ghana]         NaN        NaN   \n",
       "4                       [Accra, Accra, Ghana]         NaN        NaN   \n",
       "\n",
       "                         id  \n",
       "0  5b96cab8b77c77002c8a3c00  \n",
       "1  50ea7c68e4b07c15c8291675  \n",
       "2  4db07a7dcda14b702a31f660  \n",
       "3  4baa8b4ff964a52047733ae3  \n",
       "4  4f1b382ee4b0d9f8b923cf12  "
      ]
     },
     "execution_count": 113,
     "metadata": {},
     "output_type": "execute_result"
    }
   ],
   "source": [
    "# Define URL\n",
    "longitude =lonGh\n",
    "latitude = latGH\n",
    "radius = 7500\n",
    "urlVen = 'https://api.foursquare.com/v2/venues/search?categoryId=4d4b7104d754a06370d81259,4d4b7105d754a06376d81259&client_id={}&client_secret={}&ll={},{}&oauth_token={}&v={}&radius={}&limit={}'.format(CLIENT_ID, CLIENT_SECRET, latitude, longitude,ACCESS_TOKEN, VERSION, radius, LIMIT)\n",
    "urlfood = 'https://api.foursquare.com/v2/venues/search?categoryId=4d4b7105d754a06374d81259&client_id={}&client_secret={}&ll={},{}&oauth_token={}&v={}&radius={}&limit={}'.format(CLIENT_ID, CLIENT_SECRET, latitude, longitude,ACCESS_TOKEN, VERSION, radius, LIMIT)\n",
    "\n",
    "# Get dataframe\n",
    "accra_filtered =  getVenues(urlVen)\n",
    "accra_Restaurant =  getVenues(urlfood)\n",
    "accra_map= cityMap(latitude, longitude, accra_Restaurant)\n",
    "accra_filtered.head()"
   ]
  },
  {
   "cell_type": "code",
   "execution_count": 105,
   "metadata": {},
   "outputs": [
    {
     "name": "stdout",
     "output_type": "stream",
     "text": [
      "The number of unique categories found in these 500 venues in ACCRA is: 23\n"
     ]
    }
   ],
   "source": [
    "accra_filtered.groupby('categories')\n",
    "accCat = accra_filtered['categories'].unique()\n",
    "accCatCount = list(accra_filtered.categories.value_counts())\n",
    "accraCategories= pd.DataFrame({'Category': accCat, 'Frequency':accCatCount})\n",
    "print(\"The number of unique categories found in these 500 venues in ACCRA is: {}\".format(len(accCat)))"
   ]
  },
  {
   "cell_type": "code",
   "execution_count": 106,
   "metadata": {},
   "outputs": [
    {
     "data": {
      "text/html": [
       "<div>\n",
       "<style scoped>\n",
       "    .dataframe tbody tr th:only-of-type {\n",
       "        vertical-align: middle;\n",
       "    }\n",
       "\n",
       "    .dataframe tbody tr th {\n",
       "        vertical-align: top;\n",
       "    }\n",
       "\n",
       "    .dataframe thead th {\n",
       "        text-align: right;\n",
       "    }\n",
       "</style>\n",
       "<table border=\"1\" class=\"dataframe\">\n",
       "  <thead>\n",
       "    <tr style=\"text-align: right;\">\n",
       "      <th></th>\n",
       "      <th>Category</th>\n",
       "      <th>Frequency</th>\n",
       "    </tr>\n",
       "  </thead>\n",
       "  <tbody>\n",
       "    <tr>\n",
       "      <th>0</th>\n",
       "      <td>Lounge</td>\n",
       "      <td>10</td>\n",
       "    </tr>\n",
       "    <tr>\n",
       "      <th>1</th>\n",
       "      <td>Historic Site</td>\n",
       "      <td>6</td>\n",
       "    </tr>\n",
       "    <tr>\n",
       "      <th>2</th>\n",
       "      <td>General Entertainment</td>\n",
       "      <td>4</td>\n",
       "    </tr>\n",
       "    <tr>\n",
       "      <th>3</th>\n",
       "      <td>Bar</td>\n",
       "      <td>3</td>\n",
       "    </tr>\n",
       "    <tr>\n",
       "      <th>4</th>\n",
       "      <td>Office</td>\n",
       "      <td>2</td>\n",
       "    </tr>\n",
       "  </tbody>\n",
       "</table>\n",
       "</div>"
      ],
      "text/plain": [
       "                Category  Frequency\n",
       "0                 Lounge         10\n",
       "1          Historic Site          6\n",
       "2  General Entertainment          4\n",
       "3                    Bar          3\n",
       "4                 Office          2"
      ]
     },
     "execution_count": 106,
     "metadata": {},
     "output_type": "execute_result"
    }
   ],
   "source": [
    "accraCategories.sort_values(by ='Frequency')# Sort\n",
    "accraCategories.head()# Get top 5"
   ]
  },
  {
   "cell_type": "code",
   "execution_count": 114,
   "metadata": {},
   "outputs": [
    {
     "name": "stderr",
     "output_type": "stream",
     "text": [
      "/home/jupyterlab/conda/envs/python/lib/python3.6/site-packages/ipykernel_launcher.py:10: FutureWarning:\n",
      "\n",
      "pandas.io.json.json_normalize is deprecated, use pandas.json_normalize instead\n",
      "\n"
     ]
    },
    {
     "data": {
      "text/html": [
       "<div>\n",
       "<style scoped>\n",
       "    .dataframe tbody tr th:only-of-type {\n",
       "        vertical-align: middle;\n",
       "    }\n",
       "\n",
       "    .dataframe tbody tr th {\n",
       "        vertical-align: top;\n",
       "    }\n",
       "\n",
       "    .dataframe thead th {\n",
       "        text-align: right;\n",
       "    }\n",
       "</style>\n",
       "<table border=\"1\" class=\"dataframe\">\n",
       "  <thead>\n",
       "    <tr style=\"text-align: right;\">\n",
       "      <th></th>\n",
       "      <th>name</th>\n",
       "      <th>categories</th>\n",
       "      <th>address</th>\n",
       "      <th>lat</th>\n",
       "      <th>lng</th>\n",
       "      <th>labeledLatLngs</th>\n",
       "      <th>distance</th>\n",
       "      <th>cc</th>\n",
       "      <th>city</th>\n",
       "      <th>state</th>\n",
       "      <th>country</th>\n",
       "      <th>formattedAddress</th>\n",
       "      <th>postalCode</th>\n",
       "      <th>neighborhood</th>\n",
       "      <th>crossStreet</th>\n",
       "      <th>id</th>\n",
       "    </tr>\n",
       "  </thead>\n",
       "  <tbody>\n",
       "    <tr>\n",
       "      <th>0</th>\n",
       "      <td>Muson Centre</td>\n",
       "      <td>Convention Center</td>\n",
       "      <td>Onikan</td>\n",
       "      <td>6.443333</td>\n",
       "      <td>3.401084</td>\n",
       "      <td>[{'label': 'display', 'lat': 6.443332659885113...</td>\n",
       "      <td>1389</td>\n",
       "      <td>NG</td>\n",
       "      <td>Lagos</td>\n",
       "      <td>Lagos</td>\n",
       "      <td>Nigeria</td>\n",
       "      <td>[Onikan, Lagos, Lagos, Nigeria]</td>\n",
       "      <td>NaN</td>\n",
       "      <td>NaN</td>\n",
       "      <td>NaN</td>\n",
       "      <td>4c57462a7613b7132e1b91ea</td>\n",
       "    </tr>\n",
       "    <tr>\n",
       "      <th>1</th>\n",
       "      <td>Tennis Court 1004 Estate</td>\n",
       "      <td>Tennis Court</td>\n",
       "      <td>NaN</td>\n",
       "      <td>6.439582</td>\n",
       "      <td>3.432510</td>\n",
       "      <td>[{'label': 'display', 'lat': 6.439582, 'lng': ...</td>\n",
       "      <td>4485</td>\n",
       "      <td>NG</td>\n",
       "      <td>Lagos</td>\n",
       "      <td>Lagos</td>\n",
       "      <td>Nigeria</td>\n",
       "      <td>[Lagos, Lagos, Nigeria]</td>\n",
       "      <td>NaN</td>\n",
       "      <td>NaN</td>\n",
       "      <td>NaN</td>\n",
       "      <td>5dbed282e9b1a00008724bda</td>\n",
       "    </tr>\n",
       "    <tr>\n",
       "      <th>2</th>\n",
       "      <td>National theater</td>\n",
       "      <td>Art Gallery</td>\n",
       "      <td>Iganmu</td>\n",
       "      <td>6.479552</td>\n",
       "      <td>3.367335</td>\n",
       "      <td>[{'label': 'display', 'lat': 6.479552339085854...</td>\n",
       "      <td>4145</td>\n",
       "      <td>NG</td>\n",
       "      <td>Lagos</td>\n",
       "      <td>Lagos</td>\n",
       "      <td>Nigeria</td>\n",
       "      <td>[Iganmu, Lagos 23401, Lagos, Nigeria]</td>\n",
       "      <td>23401</td>\n",
       "      <td>Lagos Mainland</td>\n",
       "      <td>NaN</td>\n",
       "      <td>4c377964ae2da5934bf3fec5</td>\n",
       "    </tr>\n",
       "    <tr>\n",
       "      <th>3</th>\n",
       "      <td>7.11</td>\n",
       "      <td>Bar</td>\n",
       "      <td>Grandview Plaza</td>\n",
       "      <td>6.618902</td>\n",
       "      <td>3.381126</td>\n",
       "      <td>[{'label': 'display', 'lat': 6.618901700714298...</td>\n",
       "      <td>18409</td>\n",
       "      <td>NG</td>\n",
       "      <td>Magodo GRA</td>\n",
       "      <td>NaN</td>\n",
       "      <td>Nigeria</td>\n",
       "      <td>[Grandview Plaza, Magodo GRA, Nigeria]</td>\n",
       "      <td>NaN</td>\n",
       "      <td>NaN</td>\n",
       "      <td>NaN</td>\n",
       "      <td>4f930c4ae4b020d1a2fd3504</td>\n",
       "    </tr>\n",
       "    <tr>\n",
       "      <th>4</th>\n",
       "      <td>Liquid Hub</td>\n",
       "      <td>Lounge</td>\n",
       "      <td>NaN</td>\n",
       "      <td>6.448353</td>\n",
       "      <td>3.430363</td>\n",
       "      <td>[{'label': 'display', 'lat': 6.448352758954853...</td>\n",
       "      <td>3999</td>\n",
       "      <td>NG</td>\n",
       "      <td>Lagos</td>\n",
       "      <td>Lagos</td>\n",
       "      <td>Nigeria</td>\n",
       "      <td>[Lagos, Lagos, Nigeria]</td>\n",
       "      <td>NaN</td>\n",
       "      <td>NaN</td>\n",
       "      <td>NaN</td>\n",
       "      <td>56ae6393498eed4822fca18d</td>\n",
       "    </tr>\n",
       "  </tbody>\n",
       "</table>\n",
       "</div>"
      ],
      "text/plain": [
       "                       name         categories          address       lat  \\\n",
       "0              Muson Centre  Convention Center           Onikan  6.443333   \n",
       "1  Tennis Court 1004 Estate       Tennis Court              NaN  6.439582   \n",
       "2          National theater        Art Gallery           Iganmu  6.479552   \n",
       "3                      7.11                Bar  Grandview Plaza  6.618902   \n",
       "4                Liquid Hub             Lounge              NaN  6.448353   \n",
       "\n",
       "        lng                                     labeledLatLngs  distance  cc  \\\n",
       "0  3.401084  [{'label': 'display', 'lat': 6.443332659885113...      1389  NG   \n",
       "1  3.432510  [{'label': 'display', 'lat': 6.439582, 'lng': ...      4485  NG   \n",
       "2  3.367335  [{'label': 'display', 'lat': 6.479552339085854...      4145  NG   \n",
       "3  3.381126  [{'label': 'display', 'lat': 6.618901700714298...     18409  NG   \n",
       "4  3.430363  [{'label': 'display', 'lat': 6.448352758954853...      3999  NG   \n",
       "\n",
       "         city  state  country                        formattedAddress  \\\n",
       "0       Lagos  Lagos  Nigeria         [Onikan, Lagos, Lagos, Nigeria]   \n",
       "1       Lagos  Lagos  Nigeria                 [Lagos, Lagos, Nigeria]   \n",
       "2       Lagos  Lagos  Nigeria   [Iganmu, Lagos 23401, Lagos, Nigeria]   \n",
       "3  Magodo GRA    NaN  Nigeria  [Grandview Plaza, Magodo GRA, Nigeria]   \n",
       "4       Lagos  Lagos  Nigeria                 [Lagos, Lagos, Nigeria]   \n",
       "\n",
       "  postalCode    neighborhood crossStreet                        id  \n",
       "0        NaN             NaN         NaN  4c57462a7613b7132e1b91ea  \n",
       "1        NaN             NaN         NaN  5dbed282e9b1a00008724bda  \n",
       "2      23401  Lagos Mainland         NaN  4c377964ae2da5934bf3fec5  \n",
       "3        NaN             NaN         NaN  4f930c4ae4b020d1a2fd3504  \n",
       "4        NaN             NaN         NaN  56ae6393498eed4822fca18d  "
      ]
     },
     "execution_count": 114,
     "metadata": {},
     "output_type": "execute_result"
    }
   ],
   "source": [
    "# Define URL\n",
    "longitude =lonNG\n",
    "latitude = latNG\n",
    "radius = 17000\n",
    "urlVen = 'https://api.foursquare.com/v2/venues/search?categoryId=4d4b7104d754a06370d81259,4d4b7105d754a06376d81259&client_id={}&client_secret={}&ll={},{}&oauth_token={}&v={}&radius={}&limit={}'.format(CLIENT_ID, CLIENT_SECRET, latitude, longitude,ACCESS_TOKEN, VERSION, radius, LIMIT)\n",
    "urlfood = 'https://api.foursquare.com/v2/venues/search?categoryId=4d4b7105d754a06374d81259&client_id={}&client_secret={}&ll={},{}&oauth_token={}&v={}&radius={}&limit={}'.format(CLIENT_ID, CLIENT_SECRET, latitude, longitude,ACCESS_TOKEN, VERSION, radius, LIMIT)\n",
    "\n",
    "# Get dataframe\n",
    "lagos_filtered = getVenues(urlVen)\n",
    "lagos_Restaurant =  getVenues(urlfood)\n",
    "lagos_map= cityMap(latitude, longitude, lagos_Restaurant)\n",
    "lagos_filtered.head()"
   ]
  },
  {
   "cell_type": "code",
   "execution_count": 108,
   "metadata": {},
   "outputs": [
    {
     "name": "stdout",
     "output_type": "stream",
     "text": [
      "The number of unique categories found in these 500 venues in LAGOS is: 18\n"
     ]
    }
   ],
   "source": [
    "lagos_filtered.groupby('categories')\n",
    "lagCat = lagos_filtered['categories'].unique()\n",
    "lagCatCount = list(lagos_filtered.categories.value_counts())\n",
    "lagosCategories= pd.DataFrame({'Category': lagCat, 'Frequency':lagCatCount})\n",
    "print(\"The number of unique categories found in these 500 venues in LAGOS is: {}\".format(len(lagCat)))"
   ]
  },
  {
   "cell_type": "code",
   "execution_count": 109,
   "metadata": {},
   "outputs": [
    {
     "data": {
      "text/html": [
       "<div>\n",
       "<style scoped>\n",
       "    .dataframe tbody tr th:only-of-type {\n",
       "        vertical-align: middle;\n",
       "    }\n",
       "\n",
       "    .dataframe tbody tr th {\n",
       "        vertical-align: top;\n",
       "    }\n",
       "\n",
       "    .dataframe thead th {\n",
       "        text-align: right;\n",
       "    }\n",
       "</style>\n",
       "<table border=\"1\" class=\"dataframe\">\n",
       "  <thead>\n",
       "    <tr style=\"text-align: right;\">\n",
       "      <th></th>\n",
       "      <th>Category</th>\n",
       "      <th>Frequency</th>\n",
       "    </tr>\n",
       "  </thead>\n",
       "  <tbody>\n",
       "    <tr>\n",
       "      <th>0</th>\n",
       "      <td>Convention Center</td>\n",
       "      <td>15</td>\n",
       "    </tr>\n",
       "    <tr>\n",
       "      <th>1</th>\n",
       "      <td>Tennis Court</td>\n",
       "      <td>6</td>\n",
       "    </tr>\n",
       "    <tr>\n",
       "      <th>2</th>\n",
       "      <td>Lounge</td>\n",
       "      <td>4</td>\n",
       "    </tr>\n",
       "    <tr>\n",
       "      <th>3</th>\n",
       "      <td>Nightclub</td>\n",
       "      <td>4</td>\n",
       "    </tr>\n",
       "    <tr>\n",
       "      <th>4</th>\n",
       "      <td>Cocktail Bar</td>\n",
       "      <td>3</td>\n",
       "    </tr>\n",
       "  </tbody>\n",
       "</table>\n",
       "</div>"
      ],
      "text/plain": [
       "            Category  Frequency\n",
       "0  Convention Center         15\n",
       "1       Tennis Court          6\n",
       "2             Lounge          4\n",
       "3          Nightclub          4\n",
       "4       Cocktail Bar          3"
      ]
     },
     "execution_count": 109,
     "metadata": {},
     "output_type": "execute_result"
    }
   ],
   "source": [
    "lagosCategories.sort_values(by ='Frequency')# Sort\n",
    "lagosCategories.head()# Get top 5"
   ]
  },
  {
   "cell_type": "code",
   "execution_count": 115,
   "metadata": {},
   "outputs": [
    {
     "name": "stderr",
     "output_type": "stream",
     "text": [
      "/home/jupyterlab/conda/envs/python/lib/python3.6/site-packages/ipykernel_launcher.py:10: FutureWarning:\n",
      "\n",
      "pandas.io.json.json_normalize is deprecated, use pandas.json_normalize instead\n",
      "\n"
     ]
    },
    {
     "data": {
      "text/html": [
       "<div>\n",
       "<style scoped>\n",
       "    .dataframe tbody tr th:only-of-type {\n",
       "        vertical-align: middle;\n",
       "    }\n",
       "\n",
       "    .dataframe tbody tr th {\n",
       "        vertical-align: top;\n",
       "    }\n",
       "\n",
       "    .dataframe thead th {\n",
       "        text-align: right;\n",
       "    }\n",
       "</style>\n",
       "<table border=\"1\" class=\"dataframe\">\n",
       "  <thead>\n",
       "    <tr style=\"text-align: right;\">\n",
       "      <th></th>\n",
       "      <th>name</th>\n",
       "      <th>categories</th>\n",
       "      <th>address</th>\n",
       "      <th>lat</th>\n",
       "      <th>lng</th>\n",
       "      <th>labeledLatLngs</th>\n",
       "      <th>distance</th>\n",
       "      <th>cc</th>\n",
       "      <th>neighborhood</th>\n",
       "      <th>city</th>\n",
       "      <th>state</th>\n",
       "      <th>country</th>\n",
       "      <th>formattedAddress</th>\n",
       "      <th>crossStreet</th>\n",
       "      <th>postalCode</th>\n",
       "      <th>id</th>\n",
       "    </tr>\n",
       "  </thead>\n",
       "  <tbody>\n",
       "    <tr>\n",
       "      <th>0</th>\n",
       "      <td>GPO</td>\n",
       "      <td>Post Office</td>\n",
       "      <td>Kenyatta Avenue</td>\n",
       "      <td>-1.286062</td>\n",
       "      <td>36.818532</td>\n",
       "      <td>[{'label': 'display', 'lat': -1.28606233636563...</td>\n",
       "      <td>368</td>\n",
       "      <td>KE</td>\n",
       "      <td>City Square</td>\n",
       "      <td>Nairobi</td>\n",
       "      <td>Nairobi</td>\n",
       "      <td>Kenya</td>\n",
       "      <td>[Kenyatta Avenue, Nairobi, Kenya]</td>\n",
       "      <td>NaN</td>\n",
       "      <td>NaN</td>\n",
       "      <td>4e1970d87d8b8af913973f43</td>\n",
       "    </tr>\n",
       "    <tr>\n",
       "      <th>1</th>\n",
       "      <td>Muringa Pub</td>\n",
       "      <td>Pub</td>\n",
       "      <td>NaN</td>\n",
       "      <td>-1.282972</td>\n",
       "      <td>36.826675</td>\n",
       "      <td>[{'label': 'display', 'lat': -1.2829721, 'lng'...</td>\n",
       "      <td>1114</td>\n",
       "      <td>KE</td>\n",
       "      <td>NaN</td>\n",
       "      <td>Nairobi</td>\n",
       "      <td>Nairobi</td>\n",
       "      <td>Kenya</td>\n",
       "      <td>[Nairobi, Kenya]</td>\n",
       "      <td>NaN</td>\n",
       "      <td>NaN</td>\n",
       "      <td>585e4d68469aef7d53a389a2</td>\n",
       "    </tr>\n",
       "    <tr>\n",
       "      <th>2</th>\n",
       "      <td>The Bar Next Door</td>\n",
       "      <td>Bar</td>\n",
       "      <td>Othaya Road</td>\n",
       "      <td>-1.287406</td>\n",
       "      <td>36.772780</td>\n",
       "      <td>[{'label': 'display', 'lat': -1.2874063, 'lng'...</td>\n",
       "      <td>4905</td>\n",
       "      <td>KE</td>\n",
       "      <td>NaN</td>\n",
       "      <td>Nairobi</td>\n",
       "      <td>Nairobi</td>\n",
       "      <td>Kenya</td>\n",
       "      <td>[Othaya Road, Nairobi, Kenya]</td>\n",
       "      <td>NaN</td>\n",
       "      <td>NaN</td>\n",
       "      <td>5ff9d845b2918871850c1d79</td>\n",
       "    </tr>\n",
       "    <tr>\n",
       "      <th>3</th>\n",
       "      <td>Smuff Whiskey Bar &amp; Grill</td>\n",
       "      <td>Whisky Bar</td>\n",
       "      <td>NaN</td>\n",
       "      <td>-1.235698</td>\n",
       "      <td>36.873980</td>\n",
       "      <td>[{'label': 'display', 'lat': -1.2356981, 'lng'...</td>\n",
       "      <td>8294</td>\n",
       "      <td>KE</td>\n",
       "      <td>NaN</td>\n",
       "      <td>Nairobi</td>\n",
       "      <td>Nairobi</td>\n",
       "      <td>Kenya</td>\n",
       "      <td>[Nairobi, Kenya]</td>\n",
       "      <td>NaN</td>\n",
       "      <td>NaN</td>\n",
       "      <td>5ada45d8bf7dde53c5dc3b72</td>\n",
       "    </tr>\n",
       "    <tr>\n",
       "      <th>4</th>\n",
       "      <td>Winning Post</td>\n",
       "      <td>Lounge</td>\n",
       "      <td>NaN</td>\n",
       "      <td>-1.311537</td>\n",
       "      <td>36.742291</td>\n",
       "      <td>[{'label': 'display', 'lat': -1.311537, 'lng':...</td>\n",
       "      <td>8853</td>\n",
       "      <td>KE</td>\n",
       "      <td>NaN</td>\n",
       "      <td>NaN</td>\n",
       "      <td>NaN</td>\n",
       "      <td>Kenya</td>\n",
       "      <td>[Kenya]</td>\n",
       "      <td>NaN</td>\n",
       "      <td>NaN</td>\n",
       "      <td>5fe86cea45ffa21fad22d02e</td>\n",
       "    </tr>\n",
       "  </tbody>\n",
       "</table>\n",
       "</div>"
      ],
      "text/plain": [
       "                        name   categories          address       lat  \\\n",
       "0                        GPO  Post Office  Kenyatta Avenue -1.286062   \n",
       "1                Muringa Pub          Pub              NaN -1.282972   \n",
       "2          The Bar Next Door          Bar      Othaya Road -1.287406   \n",
       "3  Smuff Whiskey Bar & Grill   Whisky Bar              NaN -1.235698   \n",
       "4               Winning Post       Lounge              NaN -1.311537   \n",
       "\n",
       "         lng                                     labeledLatLngs  distance  cc  \\\n",
       "0  36.818532  [{'label': 'display', 'lat': -1.28606233636563...       368  KE   \n",
       "1  36.826675  [{'label': 'display', 'lat': -1.2829721, 'lng'...      1114  KE   \n",
       "2  36.772780  [{'label': 'display', 'lat': -1.2874063, 'lng'...      4905  KE   \n",
       "3  36.873980  [{'label': 'display', 'lat': -1.2356981, 'lng'...      8294  KE   \n",
       "4  36.742291  [{'label': 'display', 'lat': -1.311537, 'lng':...      8853  KE   \n",
       "\n",
       "  neighborhood     city    state country                   formattedAddress  \\\n",
       "0  City Square  Nairobi  Nairobi   Kenya  [Kenyatta Avenue, Nairobi, Kenya]   \n",
       "1          NaN  Nairobi  Nairobi   Kenya                   [Nairobi, Kenya]   \n",
       "2          NaN  Nairobi  Nairobi   Kenya      [Othaya Road, Nairobi, Kenya]   \n",
       "3          NaN  Nairobi  Nairobi   Kenya                   [Nairobi, Kenya]   \n",
       "4          NaN      NaN      NaN   Kenya                            [Kenya]   \n",
       "\n",
       "  crossStreet postalCode                        id  \n",
       "0         NaN        NaN  4e1970d87d8b8af913973f43  \n",
       "1         NaN        NaN  585e4d68469aef7d53a389a2  \n",
       "2         NaN        NaN  5ff9d845b2918871850c1d79  \n",
       "3         NaN        NaN  5ada45d8bf7dde53c5dc3b72  \n",
       "4         NaN        NaN  5fe86cea45ffa21fad22d02e  "
      ]
     },
     "execution_count": 115,
     "metadata": {},
     "output_type": "execute_result"
    }
   ],
   "source": [
    "# Define URL\n",
    "longitude =lonKE\n",
    "latitude = latKE\n",
    "radius = 14900\n",
    "urlVen = 'https://api.foursquare.com/v2/venues/search?categoryId=4d4b7104d754a06370d81259,4d4b7105d754a06376d81259&client_id={}&client_secret={}&ll={},{}&oauth_token={}&v={}&radius={}&limit={}'.format(CLIENT_ID, CLIENT_SECRET, latitude, longitude,ACCESS_TOKEN, VERSION, radius, LIMIT)\n",
    "urlfood = 'https://api.foursquare.com/v2/venues/search?categoryId=4d4b7105d754a06374d81259&client_id={}&client_secret={}&ll={},{}&oauth_token={}&v={}&radius={}&limit={}'.format(CLIENT_ID, CLIENT_SECRET, latitude, longitude,ACCESS_TOKEN, VERSION, radius, LIMIT)\n",
    "\n",
    "# Get dataframe\n",
    "nairobi_filtered =  getVenues(urlVen)\n",
    "nairobi_Restaurant =  getVenues(urlfood)\n",
    "nairobi_map= cityMap(latitude, longitude, nairobi_Restaurant)\n",
    "nairobi_filtered.head()"
   ]
  },
  {
   "cell_type": "code",
   "execution_count": 111,
   "metadata": {},
   "outputs": [
    {
     "name": "stdout",
     "output_type": "stream",
     "text": [
      "The number of unique categories found in these 500 venues is: 21\n"
     ]
    }
   ],
   "source": [
    "nairobi_filtered.groupby('categories')\n",
    "naiCat = nairobi_filtered['categories'].unique()\n",
    "naiCatCount = list(nairobi_filtered.categories.value_counts())\n",
    "nairobiCategories= pd.DataFrame({'Category': naiCat, 'Frequency':naiCatCount})\n",
    "print(\"The number of unique categories found in these 500 venues is: {}\".format(len(naiCat)))"
   ]
  },
  {
   "cell_type": "code",
   "execution_count": 112,
   "metadata": {},
   "outputs": [
    {
     "data": {
      "text/html": [
       "<div>\n",
       "<style scoped>\n",
       "    .dataframe tbody tr th:only-of-type {\n",
       "        vertical-align: middle;\n",
       "    }\n",
       "\n",
       "    .dataframe tbody tr th {\n",
       "        vertical-align: top;\n",
       "    }\n",
       "\n",
       "    .dataframe thead th {\n",
       "        text-align: right;\n",
       "    }\n",
       "</style>\n",
       "<table border=\"1\" class=\"dataframe\">\n",
       "  <thead>\n",
       "    <tr style=\"text-align: right;\">\n",
       "      <th></th>\n",
       "      <th>Category</th>\n",
       "      <th>Frequency</th>\n",
       "    </tr>\n",
       "  </thead>\n",
       "  <tbody>\n",
       "    <tr>\n",
       "      <th>0</th>\n",
       "      <td>Post Office</td>\n",
       "      <td>11</td>\n",
       "    </tr>\n",
       "    <tr>\n",
       "      <th>1</th>\n",
       "      <td>Pub</td>\n",
       "      <td>11</td>\n",
       "    </tr>\n",
       "    <tr>\n",
       "      <th>2</th>\n",
       "      <td>Bar</td>\n",
       "      <td>6</td>\n",
       "    </tr>\n",
       "    <tr>\n",
       "      <th>3</th>\n",
       "      <td>Lounge</td>\n",
       "      <td>4</td>\n",
       "    </tr>\n",
       "    <tr>\n",
       "      <th>4</th>\n",
       "      <td>Whisky Bar</td>\n",
       "      <td>2</td>\n",
       "    </tr>\n",
       "  </tbody>\n",
       "</table>\n",
       "</div>"
      ],
      "text/plain": [
       "      Category  Frequency\n",
       "0  Post Office         11\n",
       "1          Pub         11\n",
       "2          Bar          6\n",
       "3       Lounge          4\n",
       "4   Whisky Bar          2"
      ]
     },
     "execution_count": 112,
     "metadata": {},
     "output_type": "execute_result"
    }
   ],
   "source": [
    "nairobiCategories.sort_values(by ='Frequency')# Sort\n",
    "nairobiCategories.head()# Get top 5"
   ]
  },
  {
   "cell_type": "markdown",
   "metadata": {},
   "source": [
    "Well Nairobi seems to have a lot of post offices, can come in handy if moving to the West entails sending gifts. From brief inspection, the categories for some of these venues are a bit curious. Comparing the results however, Ghana seems to have a similar recreational categoriy distribution as Nairobi, with the most unique categories. The final thing to do will be an analysis of the restaurants in each city,can you guess the top restaurant category?"
   ]
  },
  {
   "cell_type": "code",
   "execution_count": null,
   "metadata": {},
   "outputs": [],
   "source": [
    "# If further analysis is done, drop these columns.\n",
    "# ['name', 'categories' , 'lat' , 'lng' , 'labeledLatLngs' , 'distance' , 'neighborhood', 'address']"
   ]
  },
  {
   "cell_type": "markdown",
   "metadata": {},
   "source": [
    "In a similar order, the top 5 restaurant categories will be displayed and a map for visualization created."
   ]
  },
  {
   "cell_type": "code",
   "execution_count": 116,
   "metadata": {},
   "outputs": [
    {
     "data": {
      "text/html": [
       "<div style=\"width:100%;\"><div style=\"position:relative;width:100%;height:0;padding-bottom:60%;\"><span style=\"color:#565656\">Make this Notebook Trusted to load map: File -> Trust Notebook</span><iframe src=\"about:blank\" style=\"position:absolute;width:100%;height:100%;left:0;top:0;border:none !important;\" data-html=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 onload=\"this.contentDocument.open();this.contentDocument.write(atob(this.getAttribute('data-html')));this.contentDocument.close();\" allowfullscreen webkitallowfullscreen mozallowfullscreen></iframe></div></div>"
      ],
      "text/plain": [
       "<folium.folium.Map at 0x7ff19f11fac8>"
      ]
     },
     "execution_count": 116,
     "metadata": {},
     "output_type": "execute_result"
    }
   ],
   "source": [
    "# Dizplay Restaurant Map of Accra\n",
    "accra_map"
   ]
  },
  {
   "cell_type": "code",
   "execution_count": 118,
   "metadata": {},
   "outputs": [
    {
     "data": {
      "text/html": [
       "<div>\n",
       "<style scoped>\n",
       "    .dataframe tbody tr th:only-of-type {\n",
       "        vertical-align: middle;\n",
       "    }\n",
       "\n",
       "    .dataframe tbody tr th {\n",
       "        vertical-align: top;\n",
       "    }\n",
       "\n",
       "    .dataframe thead th {\n",
       "        text-align: right;\n",
       "    }\n",
       "</style>\n",
       "<table border=\"1\" class=\"dataframe\">\n",
       "  <thead>\n",
       "    <tr style=\"text-align: right;\">\n",
       "      <th></th>\n",
       "      <th>Category</th>\n",
       "      <th>Frequency</th>\n",
       "    </tr>\n",
       "  </thead>\n",
       "  <tbody>\n",
       "    <tr>\n",
       "      <th>0</th>\n",
       "      <td>Hotel</td>\n",
       "      <td>7</td>\n",
       "    </tr>\n",
       "    <tr>\n",
       "      <th>1</th>\n",
       "      <td>Chinese Restaurant</td>\n",
       "      <td>5</td>\n",
       "    </tr>\n",
       "    <tr>\n",
       "      <th>2</th>\n",
       "      <td>Breakfast Spot</td>\n",
       "      <td>4</td>\n",
       "    </tr>\n",
       "    <tr>\n",
       "      <th>3</th>\n",
       "      <td>Theme Restaurant</td>\n",
       "      <td>4</td>\n",
       "    </tr>\n",
       "    <tr>\n",
       "      <th>4</th>\n",
       "      <td>Fast Food Restaurant</td>\n",
       "      <td>4</td>\n",
       "    </tr>\n",
       "  </tbody>\n",
       "</table>\n",
       "</div>"
      ],
      "text/plain": [
       "               Category  Frequency\n",
       "0                 Hotel          7\n",
       "1    Chinese Restaurant          5\n",
       "2        Breakfast Spot          4\n",
       "3      Theme Restaurant          4\n",
       "4  Fast Food Restaurant          4"
      ]
     },
     "execution_count": 118,
     "metadata": {},
     "output_type": "execute_result"
    }
   ],
   "source": [
    "# Get top 5 categories [Accra]\n",
    "accra_Restaurant.groupby('categories')\n",
    "accCat = accra_Restaurant['categories'].unique()\n",
    "accCatCount = list(accra_Restaurant.categories.value_counts())\n",
    "accraCategories= pd.DataFrame({'Category': accCat, 'Frequency':accCatCount})\n",
    "#print(\"The number of unique categories found in these 500 venues in ACCRA is: {}\".format(len(accCat)))\n",
    "accraCategories.sort_values(by ='Frequency')# Sort\n",
    "accraCategories.head()# Get top 5"
   ]
  },
  {
   "cell_type": "code",
   "execution_count": 119,
   "metadata": {},
   "outputs": [
    {
     "data": {
      "text/html": [
       "<div style=\"width:100%;\"><div style=\"position:relative;width:100%;height:0;padding-bottom:60%;\"><span style=\"color:#565656\">Make this Notebook Trusted to load map: File -> Trust Notebook</span><iframe src=\"about:blank\" style=\"position:absolute;width:100%;height:100%;left:0;top:0;border:none !important;\" data-html=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 onload=\"this.contentDocument.open();this.contentDocument.write(atob(this.getAttribute('data-html')));this.contentDocument.close();\" allowfullscreen webkitallowfullscreen mozallowfullscreen></iframe></div></div>"
      ],
      "text/plain": [
       "<folium.folium.Map at 0x7ff1e8ef0828>"
      ]
     },
     "execution_count": 119,
     "metadata": {},
     "output_type": "execute_result"
    }
   ],
   "source": [
    "# Dizplay Restaurant Map of Lagos\n",
    "lagos_map"
   ]
  },
  {
   "cell_type": "code",
   "execution_count": 120,
   "metadata": {},
   "outputs": [
    {
     "data": {
      "text/html": [
       "<div>\n",
       "<style scoped>\n",
       "    .dataframe tbody tr th:only-of-type {\n",
       "        vertical-align: middle;\n",
       "    }\n",
       "\n",
       "    .dataframe tbody tr th {\n",
       "        vertical-align: top;\n",
       "    }\n",
       "\n",
       "    .dataframe thead th {\n",
       "        text-align: right;\n",
       "    }\n",
       "</style>\n",
       "<table border=\"1\" class=\"dataframe\">\n",
       "  <thead>\n",
       "    <tr style=\"text-align: right;\">\n",
       "      <th></th>\n",
       "      <th>Category</th>\n",
       "      <th>Frequency</th>\n",
       "    </tr>\n",
       "  </thead>\n",
       "  <tbody>\n",
       "    <tr>\n",
       "      <th>0</th>\n",
       "      <td>Fast Food Restaurant</td>\n",
       "      <td>8</td>\n",
       "    </tr>\n",
       "    <tr>\n",
       "      <th>1</th>\n",
       "      <td>BBQ Joint</td>\n",
       "      <td>7</td>\n",
       "    </tr>\n",
       "    <tr>\n",
       "      <th>2</th>\n",
       "      <td>African Restaurant</td>\n",
       "      <td>4</td>\n",
       "    </tr>\n",
       "    <tr>\n",
       "      <th>3</th>\n",
       "      <td>Restaurant</td>\n",
       "      <td>4</td>\n",
       "    </tr>\n",
       "    <tr>\n",
       "      <th>4</th>\n",
       "      <td>Hotel Bar</td>\n",
       "      <td>2</td>\n",
       "    </tr>\n",
       "  </tbody>\n",
       "</table>\n",
       "</div>"
      ],
      "text/plain": [
       "               Category  Frequency\n",
       "0  Fast Food Restaurant          8\n",
       "1             BBQ Joint          7\n",
       "2    African Restaurant          4\n",
       "3            Restaurant          4\n",
       "4             Hotel Bar          2"
      ]
     },
     "execution_count": 120,
     "metadata": {},
     "output_type": "execute_result"
    }
   ],
   "source": [
    "# Get top 5 categories [Lagos]\n",
    "lagos_Restaurant.groupby('categories')\n",
    "lagCat = lagos_Restaurant['categories'].unique()\n",
    "lagCatCount = list(lagos_Restaurant.categories.value_counts())\n",
    "lagosCategories= pd.DataFrame({'Category': lagCat, 'Frequency':lagCatCount})\n",
    "#print(\"The number of unique categories found in these 500 venues in LAGOS is: {}\".format(len(lagCat)))\n",
    "lagosCategories.sort_values(by ='Frequency')# Sort\n",
    "lagosCategories.head()# Get top 5"
   ]
  },
  {
   "cell_type": "code",
   "execution_count": 121,
   "metadata": {},
   "outputs": [
    {
     "data": {
      "text/html": [
       "<div style=\"width:100%;\"><div style=\"position:relative;width:100%;height:0;padding-bottom:60%;\"><span style=\"color:#565656\">Make this Notebook Trusted to load map: File -> Trust Notebook</span><iframe src=\"about:blank\" style=\"position:absolute;width:100%;height:100%;left:0;top:0;border:none !important;\" data-html=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 onload=\"this.contentDocument.open();this.contentDocument.write(atob(this.getAttribute('data-html')));this.contentDocument.close();\" allowfullscreen webkitallowfullscreen mozallowfullscreen></iframe></div></div>"
      ],
      "text/plain": [
       "<folium.folium.Map at 0x7ff1c15ebbe0>"
      ]
     },
     "execution_count": 121,
     "metadata": {},
     "output_type": "execute_result"
    }
   ],
   "source": [
    "# Dizplay Restaurant Map of Nairobi\n",
    "nairobi_map"
   ]
  },
  {
   "cell_type": "code",
   "execution_count": 122,
   "metadata": {},
   "outputs": [
    {
     "data": {
      "text/html": [
       "<div>\n",
       "<style scoped>\n",
       "    .dataframe tbody tr th:only-of-type {\n",
       "        vertical-align: middle;\n",
       "    }\n",
       "\n",
       "    .dataframe tbody tr th {\n",
       "        vertical-align: top;\n",
       "    }\n",
       "\n",
       "    .dataframe thead th {\n",
       "        text-align: right;\n",
       "    }\n",
       "</style>\n",
       "<table border=\"1\" class=\"dataframe\">\n",
       "  <thead>\n",
       "    <tr style=\"text-align: right;\">\n",
       "      <th></th>\n",
       "      <th>Category</th>\n",
       "      <th>Frequency</th>\n",
       "    </tr>\n",
       "  </thead>\n",
       "  <tbody>\n",
       "    <tr>\n",
       "      <th>0</th>\n",
       "      <td>Coffee Shop</td>\n",
       "      <td>8</td>\n",
       "    </tr>\n",
       "    <tr>\n",
       "      <th>1</th>\n",
       "      <td>Fish &amp; Chips Shop</td>\n",
       "      <td>6</td>\n",
       "    </tr>\n",
       "    <tr>\n",
       "      <th>2</th>\n",
       "      <td>Chinese Restaurant</td>\n",
       "      <td>4</td>\n",
       "    </tr>\n",
       "    <tr>\n",
       "      <th>3</th>\n",
       "      <td>BBQ Joint</td>\n",
       "      <td>4</td>\n",
       "    </tr>\n",
       "    <tr>\n",
       "      <th>4</th>\n",
       "      <td>Bakery</td>\n",
       "      <td>3</td>\n",
       "    </tr>\n",
       "  </tbody>\n",
       "</table>\n",
       "</div>"
      ],
      "text/plain": [
       "             Category  Frequency\n",
       "0         Coffee Shop          8\n",
       "1   Fish & Chips Shop          6\n",
       "2  Chinese Restaurant          4\n",
       "3           BBQ Joint          4\n",
       "4              Bakery          3"
      ]
     },
     "execution_count": 122,
     "metadata": {},
     "output_type": "execute_result"
    }
   ],
   "source": [
    "# Get top 5 categories [Nairobi]\n",
    "nairobi_Restaurant.groupby('categories')\n",
    "naiCat = nairobi_Restaurant['categories'].unique()\n",
    "naiCatCount = list(nairobi_Restaurant.categories.value_counts())\n",
    "nairobiCategories= pd.DataFrame({'Category': naiCat, 'Frequency':naiCatCount})\n",
    "#print(\"The number of unique categories found in these 500 venues is: {}\".format(len(naiCat)))\n",
    "nairobiCategories.sort_values(by ='Frequency')# Sort\n",
    "nairobiCategories.head()# Get top 5"
   ]
  },
  {
   "cell_type": "markdown",
   "metadata": {},
   "source": [
    "## Results and Discussion <a name=\"results\"></a>"
   ]
  },
  {
   "cell_type": "markdown",
   "metadata": {},
   "source": [
    "Looking at the percent increase in the cost of living, although Accra has a **89.42%** increase in utilities for *Basic (Electricity, Heating, Cooling, Water, Garbage) for 85m2 Apartment*, the **293.58%** increase in Rent for *Lagos* makes it difficult to compare. This might be due to the high population density of the city, factoring in its notoriious traffic and larger opportunities in its entertainment industry the stakeholder would have a difficult decision at hand.\n",
    "\n",
    "And this is where the possibility of opening a restaurant, and overall personal fun and recreation comes in play. An in-depth analysis using clustering will be done in future studies. This sectiion however did highlight a loop back required during the analysis, highlighting the need for agile solutions.\n",
    "\n",
    "Looking at the Restaurant data was a bit interesting, let me guess your original most popular category was **African restaurant** right? interestingly enough, Lagos was the only place that had that in its top 5. Bare in mind these are all African cities, but for opening a restaurant the stakeholder has a choice. Accra presents it as not so popular, for a staeholder looking for minimal competition that might be a good start.Lagoson the other hand seems to have a demand **(having African restaurants in an African city is not much of a qualifier as those counted might be all Nigerian/West African)**\n",
    "\n",
    "*A biased aside, choose Lagos if only for the Jollof!*"
   ]
  },
  {
   "cell_type": "markdown",
   "metadata": {},
   "source": [
    "## Conclusion <a name=\"conclusion\"></a>"
   ]
  },
  {
   "cell_type": "markdown",
   "metadata": {},
   "source": [
    "The purpose of this capstone project was to compare major African cities in the quest for finding a place like home, witth a possibility of adding to the city's multicultural restaurant scene. From the preliminary analysis, the cost of living in Accra compared to Nairobi is a little lower; however living in Lagos is almost twice as expensive although it might have more growth opportunities entertainment-wise.\n",
    "\n",
    "\n",
    "As previously stated, the test set used in this analysis was not much as the data available and number of participants were not enough for a deeper analysis. Future considerations of this project would be to build on this initial analysis using a greater data source range. Google's API would be a good place to get location data as well and the cost can be overlooked for a more in-depth analysis."
   ]
  },
  {
   "cell_type": "markdown",
   "metadata": {},
   "source": [
    "# REFERENCES <a name=\"references\"></a>\n",
    "1. [Numbeo](https://www.numbeo.com/cost-of-living/compare_cities.jsp?country1=Kenya&country2=Ghana&city1=Nairobi&city2=Accra)\n",
    "2. [Foursquare API Categories](https://developer.foursquare.com/docs/build-with-foursquare/categories/)\n",
    "3. [Latitude Longitude Org](https://latitudelongitude.org/gh/accra/)\n"
   ]
  },
  {
   "cell_type": "code",
   "execution_count": null,
   "metadata": {},
   "outputs": [],
   "source": []
  }
 ],
 "metadata": {
  "kernelspec": {
   "display_name": "Python",
   "language": "python",
   "name": "conda-env-python-py"
  },
  "language_info": {
   "codemirror_mode": {
    "name": "ipython",
    "version": 3
   },
   "file_extension": ".py",
   "mimetype": "text/x-python",
   "name": "python",
   "nbconvert_exporter": "python",
   "pygments_lexer": "ipython3",
   "version": "3.6.12"
  }
 },
 "nbformat": 4,
 "nbformat_minor": 4
}
